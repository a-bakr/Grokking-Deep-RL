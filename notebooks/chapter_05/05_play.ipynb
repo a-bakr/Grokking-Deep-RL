{
 "cells": [
  {
   "cell_type": "code",
   "execution_count": 1,
   "metadata": {},
   "outputs": [],
   "source": [
    "# on-policy first-visit MC prediction, on-policy every-visit MC prediction, TD, n-step TD, TD(λ)"
   ]
  },
  {
   "cell_type": "code",
   "execution_count": 2,
   "metadata": {},
   "outputs": [],
   "source": [
    "import warnings ; warnings.filterwarnings('ignore')\n",
    "\n",
    "import gymnasium as gym\n",
    "import gym_walk, gym_aima\n",
    "import numpy as np\n",
    "from pprint import pprint\n",
    "from tqdm import tqdm_notebook as tqdm\n",
    "\n",
    "from itertools import cycle, count\n",
    "import itertools\n",
    "import tabulate\n",
    "\n",
    "import random\n",
    "import matplotlib\n",
    "import matplotlib.pyplot as plt\n",
    "import matplotlib.pylab as pylab\n",
    "SEEDS = (12, 34, 56, 78, 90)\n",
    "\n",
    "%matplotlib inline"
   ]
  },
  {
   "cell_type": "code",
   "execution_count": 3,
   "metadata": {},
   "outputs": [],
   "source": [
    "plt.rcdefaults()\n",
    "plt.style.use('fivethirtyeight')\n",
    "params = {\n",
    "    'figure.figsize': (15, 8),\n",
    "    'font.size': 24,\n",
    "    'legend.fontsize': 20,\n",
    "    'axes.titlesize': 28,\n",
    "    'axes.labelsize': 24,\n",
    "    'xtick.labelsize': 20,\n",
    "    'ytick.labelsize': 20\n",
    "}\n",
    "pylab.rcParams.update(params)\n",
    "np.set_printoptions(suppress=True)"
   ]
  },
  {
   "cell_type": "code",
   "execution_count": 4,
   "metadata": {},
   "outputs": [],
   "source": [
    "def policy_evaluation(pi, P, gamma=1.0, theta=1e-10):\n",
    "    prev_V = np.zeros(len(P), dtype=np.float64)\n",
    "    while True:\n",
    "        V = np.zeros(len(P), dtype=np.float64)\n",
    "        for s in range(len(P)):\n",
    "            for prob, next_state, reward, done in P[s][pi(s)]:\n",
    "                V[s] += prob * (reward + gamma * prev_V[next_state] * (not done))\n",
    "        if np.max(np.abs(prev_V - V)) < theta:\n",
    "            break\n",
    "        prev_V = V.copy()\n",
    "    return V"
   ]
  },
  {
   "cell_type": "code",
   "execution_count": 5,
   "metadata": {},
   "outputs": [],
   "source": [
    "def print_policy(pi, P, action_symbols=('<', 'v', '>', '^'), n_cols=4, title='Policy:'):\n",
    "    print(title)\n",
    "    arrs = {k:v for k,v in enumerate(action_symbols)}\n",
    "    for s in range(len(P)):\n",
    "        a = pi(s)\n",
    "        print(\"| \", end=\"\")\n",
    "        if np.all([done for action in P[s].values() for _, _, _, done in action]):\n",
    "            print(\"\".rjust(9), end=\" \")\n",
    "        else:\n",
    "            print(str(s).zfill(2), arrs[a].rjust(6), end=\" \")\n",
    "        if (s + 1) % n_cols == 0: print(\"|\")"
   ]
  },
  {
   "cell_type": "code",
   "execution_count": 6,
   "metadata": {},
   "outputs": [],
   "source": [
    "def print_state_value_function(V, P, n_cols=4, prec=3, title='State-value function:'):\n",
    "    print(title)\n",
    "    for s in range(len(P)):\n",
    "        v = V[s]\n",
    "        print(\"| \", end=\"\")\n",
    "        if np.all([done for action in P[s].values() for _, _, _, done in action]):\n",
    "            print(\"\".rjust(9), end=\" \")\n",
    "        else:\n",
    "            print(str(s).zfill(2), '{}'.format(np.round(v, prec)).rjust(6), end=\" \")\n",
    "        if (s + 1) % n_cols == 0: print(\"|\")"
   ]
  },
  {
   "cell_type": "code",
   "execution_count": 7,
   "metadata": {},
   "outputs": [],
   "source": [
    "def print_action_value_function(Q, \n",
    "                                optimal_Q=None,\n",
    "                                action_symbols=('<', '>'), \n",
    "                                prec=3, title='Action-value function:'):\n",
    "    \n",
    "    vf_types=('',) if optimal_Q is None else ('', '*', 'er')\n",
    "    headers = ['s',] + [' '.join(i) for i in list(itertools.product(vf_types, action_symbols))]\n",
    "    print(title)\n",
    "    states = np.arange(len(Q))[..., np.newaxis]\n",
    "    arr = np.hstack((states, np.round(Q, prec)))\n",
    "    if not (optimal_Q is None):\n",
    "        arr = np.hstack((arr, np.round(optimal_Q, prec), np.round(optimal_Q-Q, prec)))\n",
    "    print(tabulate(arr, headers, tablefmt=\"fancy_grid\"))"
   ]
  },
  {
   "cell_type": "code",
   "execution_count": 8,
   "metadata": {},
   "outputs": [],
   "source": [
    "def probability_success(env, pi, goal_state, n_episodes=100, max_steps=200):\n",
    "    random.seed(123); np.random.seed(123)\n",
    "    results = []\n",
    "    for _ in range(n_episodes):\n",
    "        (state, info), done, steps = env.reset(), False, 0\n",
    "        while not done and steps < max_steps:\n",
    "            state, reward, done, truncated, info = env.step(pi(state))\n",
    "            steps += 1\n",
    "        results.append(state == goal_state)\n",
    "    return np.sum(results)/len(results)*100"
   ]
  },
  {
   "cell_type": "code",
   "execution_count": 9,
   "metadata": {},
   "outputs": [],
   "source": [
    "def mean_return(env, gamma, pi, n_episodes=100, max_steps=200):\n",
    "    random.seed(123); np.random.seed(123)\n",
    "    results = []\n",
    "    for _ in range(n_episodes):\n",
    "        (state, info), done, steps = env.reset(), False, 0\n",
    "        results.append(0.0)\n",
    "        while not done and steps < max_steps:\n",
    "            state, reward, done, truncated, info = env.step(pi(state))\n",
    "            results[-1] += (gamma**steps * reward)\n",
    "            steps += 1\n",
    "    return np.mean(results)"
   ]
  },
  {
   "cell_type": "code",
   "execution_count": 10,
   "metadata": {},
   "outputs": [],
   "source": [
    "def rmse(x, y, dp=4):\n",
    "    return np.round(np.sqrt(np.mean((x - y)**2)), dp)"
   ]
  },
  {
   "cell_type": "code",
   "execution_count": 11,
   "metadata": {},
   "outputs": [
    {
     "data": {
      "text/plain": [
       "array([[5],\n",
       "       [6],\n",
       "       [6]])"
      ]
     },
     "execution_count": 11,
     "metadata": {},
     "output_type": "execute_result"
    }
   ],
   "source": [
    "data = np.array([1, 2, 3, 4, 5, 6, 6])\n",
    "data[np.argwhere(data > 4)]"
   ]
  },
  {
   "cell_type": "code",
   "execution_count": 12,
   "metadata": {},
   "outputs": [],
   "source": [
    "def plot_value_function(title, V_track, V_true=None, log=False, limit_value=0.05, limit_items=5):\n",
    "    np.random.seed(123)\n",
    "    per_col = 25\n",
    "    linecycler = cycle([\"-\",\"--\",\":\",\"-.\"])\n",
    "    legends = []\n",
    "\n",
    "    valid_values = np.argwhere(V_track[-1] > limit_value).squeeze()\n",
    "    items_idxs = np.random.choice(\n",
    "        valid_values, \n",
    "        min(len(valid_values), limit_items), \n",
    "        replace=False\n",
    "    )\n",
    "    \n",
    "    # draw the true values first\n",
    "    if V_true is not None:\n",
    "        for i, state in enumerate(V_track.T):\n",
    "            if i not in items_idxs:\n",
    "                continue\n",
    "            if state[-1] < limit_value:\n",
    "                continue\n",
    "\n",
    "            label = 'v({})'.format(i)\n",
    "            plt.axhline(y=V_true[i], color='k', linestyle='-', linewidth=1)\n",
    "            plt.text(int(len(V_track)*1.02), V_true[i]+.01, label)\n",
    "\n",
    "    # then the estimates\n",
    "    for i, state in enumerate(V_track.T):\n",
    "        if i not in items_idxs:\n",
    "            continue\n",
    "        if state[-1] < limit_value:\n",
    "            continue\n",
    "        line_type = next(linecycler)\n",
    "        label = 'V({})'.format(i)\n",
    "        p, = plt.plot(state, line_type, label=label, linewidth=3)\n",
    "        legends.append(p)\n",
    "        \n",
    "    legends.reverse()\n",
    "\n",
    "    ls = []\n",
    "    for loc, idx in enumerate(range(0, len(legends), per_col)):\n",
    "        subset = legends[idx:idx+per_col]\n",
    "        l = plt.legend(\n",
    "            subset, \n",
    "            [p.get_label() for p in subset], \n",
    "            loc='center right', \n",
    "            bbox_to_anchor=(1.25, 0.5)\n",
    "        )\n",
    "        ls.append(l)\n",
    "    [plt.gca().add_artist(l) for l in ls[:-1]]\n",
    "    if log: plt.xscale('log')\n",
    "    plt.title(title)\n",
    "    plt.ylabel('State-value function')\n",
    "    plt.xlabel('Episodes (log scale)' if log else 'Episodes')\n",
    "    plt.show()"
   ]
  },
  {
   "cell_type": "code",
   "execution_count": 13,
   "metadata": {},
   "outputs": [],
   "source": [
    "def plot_targets(targets, init_state, title):\n",
    "    x = range(len(targets[init_state]))\n",
    "    y = targets[init_state]\n",
    "    \n",
    "    label = 'v({})'.format(init_state)\n",
    "    plt.axhline(y=V_true[init_state], color='k', linestyle='-', linewidth=1)\n",
    "    plt.text(int(x[-1]*1.02), V_true[init_state]+.01, label)\n",
    "\n",
    "    plt.scatter(x, y, \n",
    "                c=np.array(targets[init_state]),\n",
    "                cmap=plt.get_cmap('viridis'),\n",
    "                alpha=0.4)\n",
    "    plt.title(title)\n",
    "\n",
    "    plt.ylabel('Target value')\n",
    "    plt.xlabel('Estimate sequence number')\n",
    "    plt.show()"
   ]
  },
  {
   "cell_type": "code",
   "execution_count": 14,
   "metadata": {},
   "outputs": [
    {
     "name": "stdout",
     "output_type": "stream",
     "text": [
      "[ 10.          12.91549665  16.68100537  21.5443469   27.82559402\n",
      "  35.93813664  46.41588834  59.94842503  77.42636827 100.        ]\n",
      "[ 10.  20.  30.  40.  50.  60.  70.  80.  90. 100.]\n"
     ]
    },
    {
     "data": {
      "image/png": "[encoded data removed]",
      "text/plain": [
       "<Figure size 1000x500 with 1 Axes>"
      ]
     },
     "metadata": {},
     "output_type": "display_data"
    },
    {
     "data": {
      "image/png": "[encoded data removed]",
      "text/plain": [
       "<Figure size 1000x500 with 1 Axes>"
      ]
     },
     "metadata": {},
     "output_type": "display_data"
    }
   ],
   "source": [
    "# Example of np.logspace\n",
    "# np.logspace generates numbers evenly spaced on a log scale\n",
    "# Parameters:\n",
    "# - start: base**start is the starting value\n",
    "# - stop: base**stop is the final value\n",
    "# - num: number of points to generate\n",
    "# - base: the base of the log space (default is 10)\n",
    "\n",
    "import numpy as np\n",
    "import matplotlib.pyplot as plt\n",
    "\n",
    "# Create an array of 10 numbers evenly spaced on a log scale from 10^1 to 10^2\n",
    "log_array = np.logspace(1, 2, 10)\n",
    "print(log_array)\n",
    "# Compare with linear space\n",
    "lin_array = np.linspace(10, 100, 10)\n",
    "print(lin_array)\n",
    "\n",
    "# Visualize the logspace\n",
    "plt.figure(figsize=(10, 5))\n",
    "plt.plot(log_array, 'o-', linewidth=2)\n",
    "plt.title('np.logspace(1, 2, 10)')\n",
    "plt.ylabel('Values')\n",
    "plt.xlabel('Index')\n",
    "plt.grid(True)\n",
    "plt.show()\n",
    "\n",
    "# Compare with linear space\n",
    "plt.figure(figsize=(10, 5))\n",
    "plt.plot(log_array, 'o-', label='logspace', linewidth=2)\n",
    "plt.plot(lin_array, 'o-', label='linspace', linewidth=2)\n",
    "plt.title('Comparison of np.logspace vs np.linspace')\n",
    "plt.ylabel('Values')\n",
    "plt.xlabel('Index')\n",
    "plt.legend()\n",
    "plt.grid(True)\n",
    "plt.show()\n"
   ]
  },
  {
   "cell_type": "code",
   "execution_count": 15,
   "metadata": {},
   "outputs": [
    {
     "data": {
      "text/plain": [
       "array([1, 2, 3, 4, 5, 6, 6, 6, 6, 6, 6, 6])"
      ]
     },
     "execution_count": 15,
     "metadata": {},
     "output_type": "execute_result"
    }
   ],
   "source": [
    "data\n",
    "np.pad(data, (0, 5), 'edge')\n"
   ]
  },
  {
   "cell_type": "code",
   "execution_count": 16,
   "metadata": {
    "scrolled": false
   },
   "outputs": [],
   "source": [
    "def decay_schedule(init_value, min_value, decay_ratio, max_steps, log_start=-2, log_base=10):\n",
    "    decay_steps = int(max_steps * decay_ratio)\n",
    "    rem_steps = max_steps - decay_steps\n",
    "    \n",
    "    values = np.logspace(log_start, 0, decay_steps, base=log_base, endpoint=True)[::-1]\n",
    "    values = (values - values.min()) / (values.max() - values.min())\n",
    "    values = (init_value - min_value) * values + min_value\n",
    "    values = np.pad(values, (0, rem_steps), 'edge')\n",
    "    return values"
   ]
  },
  {
   "cell_type": "code",
   "execution_count": 17,
   "metadata": {},
   "outputs": [
    {
     "data": {
      "image/png": "[encoded data removed]",
      "text/plain": [
       "<Figure size 1500x800 with 1 Axes>"
      ]
     },
     "metadata": {},
     "output_type": "display_data"
    }
   ],
   "source": [
    "plt.plot(decay_schedule(0.5, 0.01, 0.5, 500))\n",
    "plt.title('Exponentially decaying schedule (for alpha)')\n",
    "plt.xticks(rotation=45)\n",
    "plt.show()"
   ]
  },
  {
   "cell_type": "markdown",
   "metadata": {},
   "source": [
    "# Random walk/Deterministic walk with uniformly random policy"
   ]
  },
  {
   "cell_type": "code",
   "execution_count": 18,
   "metadata": {},
   "outputs": [],
   "source": [
    "from gymnasium.envs.registration import register\n",
    "\n",
    "# classics\n",
    "register(\n",
    "    # five non-terminal states and two terminal\n",
    "    # same as below\n",
    "    id='RandomWalk-v0',\n",
    "    entry_point='gym_walk.envs:WalkEnv',\n",
    "    # left-most and right-most states are terminal\n",
    "    kwargs={'n_states': 5, 'p_stay': 0.0, 'p_backward': 0.5},\n",
    "    max_episode_steps=100,\n",
    "    reward_threshold=1.0,\n",
    "    nondeterministic=True,\n",
    ")"
   ]
  },
  {
   "cell_type": "code",
   "execution_count": 19,
   "metadata": {},
   "outputs": [
    {
     "name": "stdout",
     "output_type": "stream",
     "text": [
      "State-value function:\n",
      "| 00  0.083 | 01  0.167 | 02  0.333 | 03    0.5 | 04  0.667 | 05  0.833 | 06  0.417 |\n",
      "\n",
      "Policy:\n",
      "| 00      < | 01      < | 02      < | 03      < | 04      < | 05      < | 06      < |\n",
      "Reaches goal 54.00%. Obtains an average return of 0.4500.\n"
     ]
    }
   ],
   "source": [
    "env = gym.make('RandomWalk-v0')\n",
    "init_state = env.reset()\n",
    "goal_state = 6\n",
    "gamma = 1.0\n",
    "n_episodes = 500\n",
    "P = env.unwrapped.P\n",
    "\n",
    "LEFT, RIGHT = range(2)\n",
    "pi = lambda s: {\n",
    "    0:LEFT, 1:LEFT, 2:LEFT, 3:LEFT, 4:LEFT, 5:LEFT, 6:LEFT\n",
    "}[s]\n",
    "V_true = policy_evaluation(pi, P, gamma=gamma)\n",
    "\n",
    "print_state_value_function(V_true, P, n_cols=7)\n",
    "print()\n",
    "print_policy(pi, P, action_symbols=('<', '>'), n_cols=7)\n",
    "print('Reaches goal {:.2f}%. Obtains an average return of {:.4f}.'.format(\n",
    "    probability_success(env, pi, goal_state=goal_state), \n",
    "    mean_return(env, gamma, pi)))"
   ]
  },
  {
   "cell_type": "markdown",
   "metadata": {},
   "source": [
    "# First-visit Monte-Carlo prediction"
   ]
  },
  {
   "cell_type": "code",
   "execution_count": 20,
   "metadata": {},
   "outputs": [],
   "source": [
    "def generate_trajectory(pi, env, max_steps=200):\n",
    "    done, trajectory = False, []\n",
    "    while not done:\n",
    "        state, info = env.reset()\n",
    "        for t in count():\n",
    "            action = pi(state) \n",
    "            next_state, reward, done, truncated, info = env.step(action)\n",
    "            experience = (state, action, reward, next_state, done)\n",
    "            trajectory.append(experience)\n",
    "            if done:\n",
    "                break\n",
    "            if t >= max_steps - 1:\n",
    "                trajectory = []\n",
    "                break\n",
    "            state = next_state\n",
    "    return np.array(trajectory, np.object)"
   ]
  },
  {
   "cell_type": "code",
   "execution_count": 21,
   "metadata": {},
   "outputs": [],
   "source": [
    "def mc_prediction(pi, \n",
    "                    env, \n",
    "                    gamma=1.0,\n",
    "                    init_alpha=0.5,\n",
    "                    min_alpha=0.01,\n",
    "                    alpha_decay_ratio=0.5,\n",
    "                    n_episodes=500, \n",
    "                    max_steps=200,\n",
    "                    first_visit=True):\n",
    "    nS = env.observation_space.n\n",
    "    discounts = np.logspace(0, \n",
    "                            max_steps, \n",
    "                            num=max_steps, \n",
    "                            base=gamma, \n",
    "                            endpoint=False)\n",
    "    alphas = decay_schedule(init_alpha, \n",
    "                            min_alpha, \n",
    "                            alpha_decay_ratio, \n",
    "                            n_episodes)\n",
    "    V = np.zeros(nS, dtype=np.float64)\n",
    "    V_track = np.zeros((n_episodes, nS), dtype=np.float64)\n",
    "    targets = {state:[] for state in range(nS)}\n",
    "\n",
    "    for e in tqdm(range(n_episodes), leave=False):\n",
    "        trajectory = generate_trajectory(pi, \n",
    "                                            env, \n",
    "                                            max_steps)\n",
    "        visited = np.zeros(nS, dtype=np.bool)\n",
    "        for t, (state, _, reward, _, _) in enumerate(trajectory):\n",
    "            if visited[state] and first_visit:\n",
    "                continue\n",
    "            visited[state] = True\n",
    "\n",
    "            n_steps = len(trajectory[t:])\n",
    "            G = np.sum(discounts[:n_steps] * trajectory[t:, 2])\n",
    "            targets[state].append(G)\n",
    "            mc_error = G - V[state]\n",
    "            V[state] = V[state] + alphas[e] * mc_error\n",
    "        V_track[e] = V\n",
    "    return V.copy(), V_track, targets"
   ]
  },
  {
   "cell_type": "code",
   "execution_count": 22,
   "metadata": {},
   "outputs": [
    {
     "data": {
      "application/vnd.jupyter.widget-view+json": {
       "model_id": "5f122275049547c086cf8424aaa91bef",
       "version_major": 2,
       "version_minor": 0
      },
      "text/plain": [
       "All seeds:   0%|          | 0/5 [00:00<?, ?it/s]"
      ]
     },
     "metadata": {},
     "output_type": "display_data"
    },
    {
     "ename": "AttributeError",
     "evalue": "'TimeLimit' object has no attribute 'seed'",
     "output_type": "error",
     "traceback": [
      "\u001b[31m---------------------------------------------------------------------------\u001b[39m",
      "\u001b[31mAttributeError\u001b[39m                            Traceback (most recent call last)",
      "\u001b[36mCell\u001b[39m\u001b[36m \u001b[39m\u001b[32mIn[22]\u001b[39m\u001b[32m, line 3\u001b[39m\n\u001b[32m      1\u001b[39m V_fvmcs, V_track_fvmcs = [], []\n\u001b[32m      2\u001b[39m \u001b[38;5;28;01mfor\u001b[39;00m seed \u001b[38;5;129;01min\u001b[39;00m tqdm(SEEDS, desc=\u001b[33m'\u001b[39m\u001b[33mAll seeds\u001b[39m\u001b[33m'\u001b[39m, leave=\u001b[38;5;28;01mTrue\u001b[39;00m):\n\u001b[32m----> \u001b[39m\u001b[32m3\u001b[39m     random.seed(seed); np.random.seed(seed) ; env.seed(seed)\n\u001b[32m      4\u001b[39m     V_fvmc, V_track_fvmc, targets_fvmc = mc_prediction(pi, env, gamma=gamma, n_episodes=n_episodes)\n\u001b[32m      5\u001b[39m     V_fvmcs.append(V_fvmc) ; V_track_fvmcs.append(V_track_fvmc)\n",
      "\u001b[31mAttributeError\u001b[39m: 'TimeLimit' object has no attribute 'seed'"
     ]
    }
   ],
   "source": [
    "V_fvmcs, V_track_fvmcs = [], []\n",
    "for seed in tqdm(SEEDS, desc='All seeds', leave=True):\n",
    "    random.seed(seed); np.random.seed(seed) ; env.seed(seed)\n",
    "    V_fvmc, V_track_fvmc, targets_fvmc = mc_prediction(pi, env, gamma=gamma, n_episodes=n_episodes)\n",
    "    V_fvmcs.append(V_fvmc) ; V_track_fvmcs.append(V_track_fvmc)\n",
    "V_fvmc, V_track_fvmc = np.mean(V_fvmcs, axis=0), np.mean(V_track_fvmcs, axis=0)\n",
    "del V_fvmcs ; del V_track_fvmcs"
   ]
  },
  {
   "cell_type": "code",
   "execution_count": null,
   "metadata": {},
   "outputs": [],
   "source": [
    "print_state_value_function(V_fvmc, P, n_cols=7)\n",
    "print()\n",
    "print_state_value_function(V_fvmc - V_true, P, n_cols=7, title='State-value function errors:')\n",
    "print('RMSE:', rmse(V_fvmc, V_true))"
   ]
  },
  {
   "cell_type": "code",
   "execution_count": null,
   "metadata": {},
   "outputs": [],
   "source": [
    "plot_value_function('FVMC estimates through time vs. true values', V_track_fvmc, V_true, log=False)"
   ]
  },
  {
   "cell_type": "code",
   "execution_count": null,
   "metadata": {},
   "outputs": [],
   "source": [
    "plot_value_function('FVMC estimates through time vs. true values (log scale)', V_track_fvmc, V_true, log=True)"
   ]
  },
  {
   "cell_type": "markdown",
   "metadata": {},
   "source": [
    "# Every-visit Monte-Carlo prediction"
   ]
  },
  {
   "cell_type": "code",
   "execution_count": null,
   "metadata": {},
   "outputs": [],
   "source": [
    "V_evmcs, V_track_evmcs = [], []\n",
    "for seed in tqdm(SEEDS, desc='All seeds', leave=True):\n",
    "    random.seed(seed); np.random.seed(seed) ; env.seed(seed)\n",
    "    V_evmc, V_track_evmc, targets_evmc = mc_prediction(pi, env, gamma=gamma, n_episodes=n_episodes, first_visit=False)\n",
    "    V_evmcs.append(V_evmc) ; V_track_evmcs.append(V_track_evmc)\n",
    "V_evmc, V_track_evmc = np.mean(V_evmcs, axis=0), np.mean(V_track_evmcs, axis=0)\n",
    "del V_evmcs ; del V_track_evmcs"
   ]
  },
  {
   "cell_type": "code",
   "execution_count": null,
   "metadata": {},
   "outputs": [],
   "source": [
    "print_state_value_function(V_evmc, P, n_cols=7)\n",
    "print()\n",
    "print_state_value_function(V_evmc - V_true, P, n_cols=7, title='State-value function errors:')\n",
    "print('RMSE:', rmse(V_evmc, V_true))"
   ]
  },
  {
   "cell_type": "code",
   "execution_count": null,
   "metadata": {},
   "outputs": [],
   "source": [
    "plot_value_function('EVMC estimates through time vs. true values', V_track_evmc, V_true, log=False)"
   ]
  },
  {
   "cell_type": "code",
   "execution_count": null,
   "metadata": {},
   "outputs": [],
   "source": [
    "plot_value_function('EVMC estimates through time vs. true values (log scale)', V_track_evmc, V_true, log=True)"
   ]
  },
  {
   "cell_type": "markdown",
   "metadata": {},
   "source": [
    "# Temporal-Difference Prediction (TD)"
   ]
  },
  {
   "cell_type": "code",
   "execution_count": 26,
   "metadata": {},
   "outputs": [],
   "source": [
    "def td(pi, \n",
    "       env, \n",
    "       gamma=1.0,\n",
    "       init_alpha=0.5,\n",
    "       min_alpha=0.01,\n",
    "       alpha_decay_ratio=0.5,\n",
    "       n_episodes=500):\n",
    "    nS = env.observation_space.n\n",
    "    V = np.zeros(nS, dtype=np.float64)\n",
    "    V_track = np.zeros((n_episodes, nS), dtype=np.float64)\n",
    "    targets = {state:[] for state in range(nS)}\n",
    "    alphas = decay_schedule(\n",
    "        init_alpha, min_alpha,\n",
    "        alpha_decay_ratio, n_episodes)\n",
    "    for e in tqdm(range(n_episodes), leave=False):\n",
    "        state, done = env.reset(), False\n",
    "        while not done:\n",
    "            action = pi(state)\n",
    "            next_state, reward, done, _ = env.step(action)\n",
    "            td_target = reward + gamma * V[next_state] * (not done)\n",
    "            targets[state].append(td_target)\n",
    "            td_error = td_target - V[state]\n",
    "            V[state] = V[state] + alphas[e] * td_error\n",
    "            state = next_state\n",
    "        V_track[e] = V\n",
    "    return V, V_track, targets"
   ]
  },
  {
   "cell_type": "code",
   "execution_count": null,
   "metadata": {},
   "outputs": [],
   "source": [
    "V_tds, V_track_tds = [], []\n",
    "for seed in tqdm(SEEDS, desc='All seeds', leave=True):\n",
    "    random.seed(seed); np.random.seed(seed) ; env.seed(seed)\n",
    "    V_td, V_track_td, targets_td = td(pi, env, gamma=gamma, n_episodes=n_episodes)\n",
    "    V_tds.append(V_td) ; V_track_tds.append(V_track_td)\n",
    "V_td, V_track_td = np.mean(V_tds, axis=0), np.mean(V_track_tds, axis=0)\n",
    "del V_tds ; del V_track_tds"
   ]
  },
  {
   "cell_type": "code",
   "execution_count": null,
   "metadata": {},
   "outputs": [],
   "source": [
    "print_state_value_function(V_td, P, n_cols=7)\n",
    "print()\n",
    "print_state_value_function(V_td - V_true, P, n_cols=7, title='State-value function errors:')\n",
    "print('RMSE:', rmse(V_td, V_true))"
   ]
  },
  {
   "cell_type": "code",
   "execution_count": null,
   "metadata": {},
   "outputs": [],
   "source": [
    "plot_value_function('TD estimates through time vs. true values', V_track_td, V_true, log=False)"
   ]
  },
  {
   "cell_type": "code",
   "execution_count": null,
   "metadata": {},
   "outputs": [],
   "source": [
    "plot_value_function('TD estimates through time vs. true values (log scale)', V_track_td, V_true, log=True)"
   ]
  },
  {
   "cell_type": "markdown",
   "metadata": {},
   "source": [
    "# Comparing MC and TD"
   ]
  },
  {
   "cell_type": "code",
   "execution_count": null,
   "metadata": {},
   "outputs": [],
   "source": [
    "plot_value_function('FVMC estimates through time (close up)', V_track_fvmc[:20], None, log=False)"
   ]
  },
  {
   "cell_type": "code",
   "execution_count": null,
   "metadata": {},
   "outputs": [],
   "source": [
    "plot_value_function('EVMC estimates through time (close up)', V_track_evmc[:20], None, log=False)"
   ]
  },
  {
   "cell_type": "code",
   "execution_count": null,
   "metadata": {},
   "outputs": [],
   "source": [
    "plot_value_function('TD estimates through time (close up)', V_track_td[:20], None, log=False)"
   ]
  },
  {
   "cell_type": "code",
   "execution_count": null,
   "metadata": {},
   "outputs": [],
   "source": [
    "plot_targets(targets_fvmc, init_state, title='FVMC target sequence')"
   ]
  },
  {
   "cell_type": "code",
   "execution_count": null,
   "metadata": {},
   "outputs": [],
   "source": [
    "plot_targets(targets_evmc, init_state, title='EVMC target sequence')"
   ]
  },
  {
   "cell_type": "code",
   "execution_count": null,
   "metadata": {},
   "outputs": [],
   "source": [
    "plot_targets(targets_td, init_state, title='TD target sequence')"
   ]
  },
  {
   "cell_type": "markdown",
   "metadata": {},
   "source": [
    "# n-step TD"
   ]
  },
  {
   "cell_type": "code",
   "execution_count": 37,
   "metadata": {},
   "outputs": [],
   "source": [
    "def ntd(pi, \n",
    "        env, \n",
    "        gamma=1.0,\n",
    "        init_alpha=0.5,\n",
    "        min_alpha=0.01,\n",
    "        alpha_decay_ratio=0.5,\n",
    "        n_step=3,\n",
    "        n_episodes=500):\n",
    "    nS = env.observation_space.n\n",
    "    V = np.zeros(nS, dtype=np.float64)\n",
    "    V_track = np.zeros((n_episodes, nS), dtype=np.float64)\n",
    "    discounts = np.logspace(0, n_step+1, num=n_step+1, base=gamma, endpoint=False)\n",
    "    alphas = decay_schedule(\n",
    "        init_alpha, min_alpha, \n",
    "        alpha_decay_ratio, n_episodes)\n",
    "    for e in tqdm(range(n_episodes), leave=False):\n",
    "        state, done, path = env.reset(), False, []\n",
    "        while not done or path is not None:\n",
    "            path = path[1:]\n",
    "            while not done and len(path) < n_step:\n",
    "                action = pi(state)\n",
    "                next_state, reward, done, _ = env.step(action)\n",
    "                experience = (state, reward, next_state, done)\n",
    "                path.append(experience)\n",
    "                state = next_state\n",
    "                if done:\n",
    "                    break\n",
    "\n",
    "            n = len(path)\n",
    "            est_state = path[0][0]\n",
    "            rewards = np.array(path)[:,1]\n",
    "            partial_return = discounts[:n] * rewards\n",
    "            bs_val = discounts[-1] * V[next_state] * (not done)\n",
    "            ntd_target = np.sum(np.append(partial_return, bs_val))\n",
    "            ntd_error = ntd_target - V[est_state]\n",
    "            V[est_state] = V[est_state] + alphas[e] * ntd_error\n",
    "            if len(path) == 1 and path[0][3]:\n",
    "                path = None\n",
    "\n",
    "        V_track[e] = V\n",
    "    return V, V_track"
   ]
  },
  {
   "cell_type": "code",
   "execution_count": null,
   "metadata": {},
   "outputs": [],
   "source": [
    "V_ntds, V_track_ntds = [], []\n",
    "for seed in tqdm(SEEDS, desc='All seeds', leave=True):\n",
    "    random.seed(seed); np.random.seed(seed) ; env.seed(seed)\n",
    "    V_ntd, V_track_ntd = ntd(pi, env, gamma=gamma, n_episodes=n_episodes)\n",
    "    V_ntds.append(V_ntd) ; V_track_ntds.append(V_track_ntd)\n",
    "V_ntd, V_track_ntd = np.mean(V_ntds, axis=0), np.mean(V_track_ntds, axis=0)\n",
    "del V_ntds ; del V_track_ntds"
   ]
  },
  {
   "cell_type": "code",
   "execution_count": null,
   "metadata": {},
   "outputs": [],
   "source": [
    "print_state_value_function(V_ntd, P, n_cols=7)\n",
    "print()\n",
    "print_state_value_function(V_ntd - V_true, P, n_cols=7, title='State-value function errors:')\n",
    "print('RMSE:', rmse(V_ntd, V_true))"
   ]
  },
  {
   "cell_type": "code",
   "execution_count": null,
   "metadata": {},
   "outputs": [],
   "source": [
    "plot_value_function('n-step TD estimates through time vs. true values', V_track_ntd, V_true, log=False)"
   ]
  },
  {
   "cell_type": "code",
   "execution_count": null,
   "metadata": {},
   "outputs": [],
   "source": [
    "plot_value_function('n-step TD estimates through time vs. true values (log scale)', V_track_ntd, V_true, log=True)"
   ]
  },
  {
   "cell_type": "code",
   "execution_count": null,
   "metadata": {},
   "outputs": [],
   "source": [
    "plot_value_function('n-step TD estimates through time (close up)', V_track_ntd[:20], None, log=False)"
   ]
  },
  {
   "cell_type": "markdown",
   "metadata": {},
   "source": [
    "# TD(λ)"
   ]
  },
  {
   "cell_type": "code",
   "execution_count": 43,
   "metadata": {},
   "outputs": [],
   "source": [
    "def td_lambda(pi, \n",
    "              env, \n",
    "              gamma=1.0,\n",
    "              init_alpha=0.5,\n",
    "              min_alpha=0.01,\n",
    "              alpha_decay_ratio=0.5,\n",
    "              lambda_=0.3,\n",
    "              n_episodes=500):\n",
    "    nS = env.observation_space.n\n",
    "    V = np.zeros(nS, dtype=np.float64)\n",
    "    E = np.zeros(nS, dtype=np.float64)\n",
    "    V_track = np.zeros((n_episodes, nS), dtype=np.float64)\n",
    "    alphas = decay_schedule(\n",
    "        init_alpha, min_alpha, \n",
    "        alpha_decay_ratio, n_episodes)\n",
    "    for e in tqdm(range(n_episodes), leave=False):\n",
    "        E.fill(0)\n",
    "        state, done = env.reset(), False\n",
    "        while not done:\n",
    "            action = pi(state)\n",
    "            next_state, reward, done, _ = env.step(action)\n",
    "            td_target = reward + gamma * V[next_state] * (not done)\n",
    "            td_error = td_target - V[state]\n",
    "            E[state] = E[state] + 1\n",
    "            V = V + alphas[e] * td_error * E\n",
    "            E = gamma * lambda_ * E\n",
    "            state = next_state\n",
    "        V_track[e] = V\n",
    "    return V, V_track"
   ]
  },
  {
   "cell_type": "code",
   "execution_count": null,
   "metadata": {},
   "outputs": [],
   "source": [
    "V_tdls, V_track_tdls = [], []\n",
    "for seed in tqdm(SEEDS, desc='All seeds', leave=True):\n",
    "    random.seed(seed); np.random.seed(seed) ; env.seed(seed)\n",
    "    V_tdl, V_track_tdl = td_lambda(pi, env, gamma=gamma, n_episodes=n_episodes)\n",
    "    V_tdls.append(V_tdl) ; V_track_tdls.append(V_track_tdl)\n",
    "V_tdl, V_track_tdl = np.mean(V_tdls, axis=0), np.mean(V_track_tdls, axis=0)\n",
    "del V_tdls ; del V_track_tdls"
   ]
  },
  {
   "cell_type": "code",
   "execution_count": null,
   "metadata": {},
   "outputs": [],
   "source": [
    "print_state_value_function(V_tdl, P, n_cols=7)\n",
    "print()\n",
    "print_state_value_function(V_tdl - V_true, P, n_cols=7, title='State-value function errors:')\n",
    "print('RMSE:', rmse(V_tdl, V_true))"
   ]
  },
  {
   "cell_type": "code",
   "execution_count": null,
   "metadata": {},
   "outputs": [],
   "source": [
    "plot_value_function('TD(λ) estimates through time vs. true values', V_track_tdl, V_true, log=False)"
   ]
  },
  {
   "cell_type": "code",
   "execution_count": null,
   "metadata": {},
   "outputs": [],
   "source": [
    "plot_value_function('TD(λ) estimates through time vs. true values (log scale)', V_track_tdl, V_true, log=True)"
   ]
  },
  {
   "cell_type": "code",
   "execution_count": null,
   "metadata": {},
   "outputs": [],
   "source": [
    "plot_value_function('TD(λ) estimates through time (close up)', V_track_tdl[:20], None, log=False)"
   ]
  },
  {
   "cell_type": "markdown",
   "metadata": {},
   "source": [
    "# Russell & Norvig Gridworld environment and sample policy"
   ]
  },
  {
   "cell_type": "code",
   "execution_count": null,
   "metadata": {},
   "outputs": [],
   "source": [
    "env = gym.make('RussellNorvigGridworld-v0')\n",
    "init_state = env.reset()\n",
    "goal_state = 3\n",
    "gamma = 1.0\n",
    "n_episodes = 1000\n",
    "P = env.env.P\n",
    "\n",
    "LEFT, DOWN, RIGHT, UP = range(4)\n",
    "pi = lambda s: {\n",
    "    0:RIGHT, 1:RIGHT, 2:RIGHT, 3:LEFT,\n",
    "    4:UP,    5:LEFT,  6:UP,    7:LEFT,\n",
    "    8:UP,    9:LEFT, 10:LEFT, 11:LEFT\n",
    "}[s]\n",
    "V_true = policy_evaluation(pi, P, gamma=gamma)\n",
    "\n",
    "print_state_value_function(V_true, P)\n",
    "print()\n",
    "\n",
    "print_policy(pi, P)\n",
    "print('Reaches goal {:.2f}%. Obtains an average return of {:.4f}.'.format(\n",
    "    probability_success(env, pi, goal_state=goal_state), \n",
    "    mean_return(env, gamma, pi)))"
   ]
  },
  {
   "cell_type": "markdown",
   "metadata": {},
   "source": [
    "# Russell & Norvig Gridworld policy estimation (policy to state-value function)"
   ]
  },
  {
   "cell_type": "code",
   "execution_count": null,
   "metadata": {},
   "outputs": [],
   "source": [
    "V_fvmcs, V_track_fvmcs = [], []\n",
    "for seed in tqdm(SEEDS, desc='All seeds', leave=True):\n",
    "    random.seed(seed); np.random.seed(seed) ; env.seed(seed)\n",
    "    V_fvmc, V_track_fvmc, targets_fvmc = mc_prediction(pi, env, gamma=gamma, n_episodes=n_episodes)\n",
    "    V_fvmcs.append(V_fvmc) ; V_track_fvmcs.append(V_track_fvmc)\n",
    "V_fvmc, V_track_fvmc = np.mean(V_fvmcs, axis=0), np.mean(V_track_fvmcs, axis=0)\n",
    "del V_fvmcs ; del V_track_fvmcs"
   ]
  },
  {
   "cell_type": "code",
   "execution_count": null,
   "metadata": {},
   "outputs": [],
   "source": [
    "print_state_value_function(V_fvmc, P)\n",
    "print()\n",
    "print_state_value_function(V_fvmc - V_true, P, title='State-value function errors:')\n",
    "print('RMSE:', rmse(V_fvmc, V_true))"
   ]
  },
  {
   "cell_type": "code",
   "execution_count": null,
   "metadata": {},
   "outputs": [],
   "source": [
    "V_evmcs, V_track_evmcs = [], []\n",
    "for seed in tqdm(SEEDS, desc='All seeds', leave=True):\n",
    "    random.seed(seed); np.random.seed(seed) ; env.seed(seed)\n",
    "    V_evmc, V_track_evmc, targets_evmc = mc_prediction(pi, env, gamma=gamma, n_episodes=n_episodes, first_visit=False)\n",
    "    V_evmcs.append(V_evmc) ; V_track_evmcs.append(V_track_evmc)\n",
    "V_evmc, V_track_evmc = np.mean(V_evmcs, axis=0), np.mean(V_track_evmcs, axis=0)\n",
    "del V_evmcs ; del V_track_evmcs"
   ]
  },
  {
   "cell_type": "code",
   "execution_count": null,
   "metadata": {},
   "outputs": [],
   "source": [
    "print_state_value_function(V_evmc, P)\n",
    "print()\n",
    "print_state_value_function(V_evmc - V_true, P, title='State-value function errors:')\n",
    "print('RMSE:', rmse(V_evmc, V_true))"
   ]
  },
  {
   "cell_type": "code",
   "execution_count": null,
   "metadata": {},
   "outputs": [],
   "source": [
    "V_tds, V_track_tds = [], []\n",
    "for seed in tqdm(SEEDS, desc='All seeds', leave=True):\n",
    "    random.seed(seed); np.random.seed(seed) ; env.seed(seed)\n",
    "    V_td, V_track_td, targets_td = td(pi, env, gamma=gamma, n_episodes=n_episodes)\n",
    "    V_tds.append(V_td) ; V_track_tds.append(V_track_td)\n",
    "V_td, V_track_td = np.mean(V_tds, axis=0), np.mean(V_track_tds, axis=0)\n",
    "del V_tds ; del V_track_tds"
   ]
  },
  {
   "cell_type": "code",
   "execution_count": null,
   "metadata": {},
   "outputs": [],
   "source": [
    "print_state_value_function(V_td, P)\n",
    "print()\n",
    "print_state_value_function(V_td - V_true, P, title='State-value function errors:')\n",
    "print('RMSE:', rmse(V_td, V_true))"
   ]
  },
  {
   "cell_type": "code",
   "execution_count": null,
   "metadata": {},
   "outputs": [],
   "source": [
    "V_ntds, V_track_ntds = [], []\n",
    "for seed in tqdm(SEEDS, desc='All seeds', leave=True):\n",
    "    random.seed(seed); np.random.seed(seed) ; env.seed(seed)\n",
    "    V_ntd, V_track_ntd = ntd(pi, env, gamma=gamma, n_episodes=n_episodes)\n",
    "    V_ntds.append(V_ntd) ; V_track_ntds.append(V_track_ntd)\n",
    "V_ntd, V_track_ntd = np.mean(V_ntds, axis=0), np.mean(V_track_ntds, axis=0)\n",
    "del V_ntds ; del V_track_ntds"
   ]
  },
  {
   "cell_type": "code",
   "execution_count": null,
   "metadata": {},
   "outputs": [],
   "source": [
    "print_state_value_function(V_ntd, P)\n",
    "print()\n",
    "print_state_value_function(V_ntd - V_true, P, title='State-value function errors:')\n",
    "print('RMSE:', rmse(V_ntd, V_true))"
   ]
  },
  {
   "cell_type": "code",
   "execution_count": null,
   "metadata": {},
   "outputs": [],
   "source": [
    "V_tdls, V_track_tdls = [], []\n",
    "for seed in tqdm(SEEDS, desc='All seeds', leave=True):\n",
    "    random.seed(seed); np.random.seed(seed) ; env.seed(seed)\n",
    "    V_tdl, V_track_tdl = td_lambda(pi, env, gamma=gamma, n_episodes=n_episodes)\n",
    "    V_tdls.append(V_tdl) ; V_track_tdls.append(V_track_tdl)\n",
    "V_tdl, V_track_tdl = np.mean(V_tdls, axis=0), np.mean(V_track_tdls, axis=0)\n",
    "del V_tdls ; del V_track_tdls"
   ]
  },
  {
   "cell_type": "code",
   "execution_count": null,
   "metadata": {},
   "outputs": [],
   "source": [
    "print_state_value_function(V_tdl, P)\n",
    "print()\n",
    "print_state_value_function(V_tdl - V_true, P, title='State-value function errors:')\n",
    "print('RMSE:', rmse(V_tdl, V_true))"
   ]
  },
  {
   "cell_type": "markdown",
   "metadata": {},
   "source": [
    "# Russell & Norvig Gridworld state-value function estimation"
   ]
  },
  {
   "cell_type": "code",
   "execution_count": null,
   "metadata": {},
   "outputs": [],
   "source": [
    "plot_value_function('FVMC estimates through time vs. true values', V_track_fvmc, V_true, log=False)"
   ]
  },
  {
   "cell_type": "code",
   "execution_count": null,
   "metadata": {},
   "outputs": [],
   "source": [
    "plot_value_function('EVMC estimates through time vs. true values', V_track_evmc, V_true, log=False)"
   ]
  },
  {
   "cell_type": "code",
   "execution_count": null,
   "metadata": {},
   "outputs": [],
   "source": [
    "plot_value_function('TD estimates through time vs. true values', V_track_td, V_true, log=False)"
   ]
  },
  {
   "cell_type": "code",
   "execution_count": null,
   "metadata": {},
   "outputs": [],
   "source": [
    "plot_value_function('n-step TD estimates through time vs. true values', V_track_ntd, V_true, log=False)"
   ]
  },
  {
   "cell_type": "code",
   "execution_count": null,
   "metadata": {},
   "outputs": [],
   "source": [
    "plot_value_function('TD(λ) estimates through time vs. true values', V_track_tdl, V_true, log=False)"
   ]
  },
  {
   "cell_type": "markdown",
   "metadata": {},
   "source": [
    "# Russell & Norvig Gridworld state-value function estimation (x axis in log scale)"
   ]
  },
  {
   "cell_type": "code",
   "execution_count": null,
   "metadata": {},
   "outputs": [],
   "source": [
    "plot_value_function('FVMC estimates through time vs. true values (log scale)', V_track_fvmc, V_true, log=True)"
   ]
  },
  {
   "cell_type": "code",
   "execution_count": null,
   "metadata": {},
   "outputs": [],
   "source": [
    "plot_value_function('EVMC estimates through time vs. true values (log scale)', V_track_evmc, V_true, log=True)"
   ]
  },
  {
   "cell_type": "code",
   "execution_count": null,
   "metadata": {},
   "outputs": [],
   "source": [
    "plot_value_function('TD estimates through time vs. true values (log scale)', V_track_td, V_true, log=True)"
   ]
  },
  {
   "cell_type": "code",
   "execution_count": null,
   "metadata": {},
   "outputs": [],
   "source": [
    "plot_value_function('n-step TD estimates through time vs. true values (log scale)', V_track_ntd, V_true, log=True)"
   ]
  },
  {
   "cell_type": "code",
   "execution_count": null,
   "metadata": {},
   "outputs": [],
   "source": [
    "plot_value_function('TD(λ) estimates through time vs. true values (log scale)', V_track_tdl, V_true, log=True)"
   ]
  },
  {
   "cell_type": "markdown",
   "metadata": {},
   "source": [
    "# Close ups"
   ]
  },
  {
   "cell_type": "code",
   "execution_count": null,
   "metadata": {},
   "outputs": [],
   "source": [
    "plot_value_function('FVMC estimates through time (close up)', V_track_fvmc[:50], None, log=False)"
   ]
  },
  {
   "cell_type": "code",
   "execution_count": null,
   "metadata": {},
   "outputs": [],
   "source": [
    "plot_value_function('EVMC estimates through time (close up)', V_track_evmc[:50], None, log=False)"
   ]
  },
  {
   "cell_type": "code",
   "execution_count": null,
   "metadata": {},
   "outputs": [],
   "source": [
    "plot_value_function('TD estimates through time (close up)', V_track_td[:50], None, log=False)"
   ]
  },
  {
   "cell_type": "code",
   "execution_count": null,
   "metadata": {},
   "outputs": [],
   "source": [
    "plot_value_function('n-step TD estimates through time (close up)', V_track_ntd[:50], None, log=False)"
   ]
  },
  {
   "cell_type": "code",
   "execution_count": null,
   "metadata": {},
   "outputs": [],
   "source": [
    "plot_value_function('TD(λ) estimates through time (close up)', V_track_tdl[:50], None, log=False)"
   ]
  },
  {
   "cell_type": "markdown",
   "metadata": {},
   "source": [
    "# MC vs. TD"
   ]
  },
  {
   "cell_type": "code",
   "execution_count": null,
   "metadata": {},
   "outputs": [],
   "source": [
    "plot_targets(targets_fvmc, init_state, title='FVMC target sequence')"
   ]
  },
  {
   "cell_type": "code",
   "execution_count": null,
   "metadata": {},
   "outputs": [],
   "source": [
    "plot_targets(targets_evmc, init_state, title='EVMC target sequence')"
   ]
  },
  {
   "cell_type": "code",
   "execution_count": null,
   "metadata": {},
   "outputs": [],
   "source": [
    "plot_targets(targets_td, init_state, title='TD target sequence')"
   ]
  },
  {
   "cell_type": "markdown",
   "metadata": {},
   "source": [
    "# FrozenLake environment and sample policy"
   ]
  },
  {
   "cell_type": "code",
   "execution_count": null,
   "metadata": {},
   "outputs": [],
   "source": [
    "env = gym.make('FrozenLake-v0')\n",
    "init_state = env.reset()\n",
    "goal_state = 15\n",
    "gamma = 0.99\n",
    "n_episodes = 2500\n",
    "P = env.env.P\n",
    "\n",
    "LEFT, DOWN, RIGHT, UP = range(4)\n",
    "pi = lambda s: {\n",
    "    0:LEFT,   1:UP,     2:UP,    3:UP,\n",
    "    4:LEFT,   5:LEFT,   6:LEFT,  7:LEFT,\n",
    "    8:UP,     9:DOWN,  10:LEFT, 11:LEFT,\n",
    "    12:LEFT, 13:RIGHT, 14:DOWN, 15:LEFT\n",
    "}[s]\n",
    "V_true = policy_evaluation(pi, P, gamma=gamma)\n",
    "\n",
    "print_state_value_function(V_true, P)\n",
    "print()\n",
    "\n",
    "print_policy(pi, P)\n",
    "print('Reaches goal {:.2f}%. Obtains an average return of {:.4f}.'.format(\n",
    "    probability_success(env, pi, goal_state=goal_state), \n",
    "    mean_return(env, gamma, pi)))"
   ]
  },
  {
   "cell_type": "markdown",
   "metadata": {},
   "source": [
    "# FrozenLake policy estimation (policy to state-value function)"
   ]
  },
  {
   "cell_type": "code",
   "execution_count": null,
   "metadata": {},
   "outputs": [],
   "source": [
    "V_fvmcs, V_track_fvmcs = [], []\n",
    "for seed in tqdm(SEEDS, desc='All seeds', leave=True):\n",
    "    random.seed(seed); np.random.seed(seed) ; env.seed(seed)\n",
    "    V_fvmc, V_track_fvmc, targets_fvmc = mc_prediction(pi, env, gamma=gamma, n_episodes=n_episodes)\n",
    "    V_fvmcs.append(V_fvmc) ; V_track_fvmcs.append(V_track_fvmc)\n",
    "V_fvmc, V_track_fvmc = np.mean(V_fvmcs, axis=0), np.mean(V_track_fvmcs, axis=0)\n",
    "del V_fvmcs ; del V_track_fvmcs"
   ]
  },
  {
   "cell_type": "code",
   "execution_count": null,
   "metadata": {},
   "outputs": [],
   "source": [
    "print_state_value_function(V_fvmc, P)\n",
    "print()\n",
    "print_state_value_function(V_fvmc - V_true, P, title='State-value function errors:')\n",
    "print('RMSE:', rmse(V_fvmc, V_true))"
   ]
  },
  {
   "cell_type": "code",
   "execution_count": null,
   "metadata": {},
   "outputs": [],
   "source": [
    "V_evmcs, V_track_evmcs = [], []\n",
    "for seed in tqdm(SEEDS, desc='All seeds', leave=True):\n",
    "    random.seed(seed); np.random.seed(seed) ; env.seed(seed)\n",
    "    V_evmc, V_track_evmc, targets_evmc = mc_prediction(pi, env, gamma=gamma, n_episodes=n_episodes, first_visit=False)\n",
    "    V_evmcs.append(V_evmc) ; V_track_evmcs.append(V_track_evmc)\n",
    "V_evmc, V_track_evmc = np.mean(V_evmcs, axis=0), np.mean(V_track_evmcs, axis=0)\n",
    "del V_evmcs ; del V_track_evmcs"
   ]
  },
  {
   "cell_type": "code",
   "execution_count": null,
   "metadata": {},
   "outputs": [],
   "source": [
    "print_state_value_function(V_evmc, P)\n",
    "print()\n",
    "print_state_value_function(V_evmc - V_true, P, title='State-value function errors:')\n",
    "print('RMSE:', rmse(V_evmc, V_true))"
   ]
  },
  {
   "cell_type": "code",
   "execution_count": null,
   "metadata": {},
   "outputs": [],
   "source": [
    "V_tds, V_track_tds = [], []\n",
    "for seed in tqdm(SEEDS, desc='All seeds', leave=True):\n",
    "    random.seed(seed); np.random.seed(seed) ; env.seed(seed)\n",
    "    V_td, V_track_td, targets_td = td(pi, env, gamma=gamma, n_episodes=n_episodes)\n",
    "    V_tds.append(V_td) ; V_track_tds.append(V_track_td)\n",
    "V_td, V_track_td = np.mean(V_tds, axis=0), np.mean(V_track_tds, axis=0)\n",
    "del V_tds ; del V_track_tds"
   ]
  },
  {
   "cell_type": "code",
   "execution_count": null,
   "metadata": {},
   "outputs": [],
   "source": [
    "print_state_value_function(V_td, P)\n",
    "print()\n",
    "print_state_value_function(V_td - V_true, P, title='State-value function errors:')\n",
    "print('RMSE:', rmse(V_td, V_true))"
   ]
  },
  {
   "cell_type": "code",
   "execution_count": null,
   "metadata": {},
   "outputs": [],
   "source": [
    "V_ntds, V_track_ntds = [], []\n",
    "for seed in tqdm(SEEDS, desc='All seeds', leave=True):\n",
    "    random.seed(seed); np.random.seed(seed) ; env.seed(seed)\n",
    "    V_ntd, V_track_ntd = ntd(pi, env, gamma=gamma, n_episodes=n_episodes)\n",
    "    V_ntds.append(V_ntd) ; V_track_ntds.append(V_track_ntd)\n",
    "V_ntd, V_track_ntd = np.mean(V_ntds, axis=0), np.mean(V_track_ntds, axis=0)\n",
    "del V_ntds ; del V_track_ntds"
   ]
  },
  {
   "cell_type": "code",
   "execution_count": null,
   "metadata": {},
   "outputs": [],
   "source": [
    "print_state_value_function(V_ntd, P)\n",
    "print()\n",
    "print_state_value_function(V_ntd - V_true, P, title='State-value function errors:')\n",
    "print('RMSE:', rmse(V_ntd, V_true))"
   ]
  },
  {
   "cell_type": "code",
   "execution_count": null,
   "metadata": {},
   "outputs": [],
   "source": [
    "V_tdls, V_track_tdls = [], []\n",
    "for seed in tqdm(SEEDS, desc='All seeds', leave=True):\n",
    "    random.seed(seed); np.random.seed(seed) ; env.seed(seed)\n",
    "    V_tdl, V_track_tdl = td_lambda(pi, env, gamma=gamma, n_episodes=n_episodes)\n",
    "    V_tdls.append(V_tdl) ; V_track_tdls.append(V_track_tdl)\n",
    "V_tdl, V_track_tdl = np.mean(V_tdls, axis=0), np.mean(V_track_tdls, axis=0)\n",
    "del V_tdls ; del V_track_tdls"
   ]
  },
  {
   "cell_type": "code",
   "execution_count": null,
   "metadata": {},
   "outputs": [],
   "source": [
    "print_state_value_function(V_tdl, P)\n",
    "print()\n",
    "print_state_value_function(V_tdl - V_true, P, title='State-value function errors:')\n",
    "print('RMSE:', rmse(V_tdl, V_true))"
   ]
  },
  {
   "cell_type": "markdown",
   "metadata": {},
   "source": [
    "# FrozenLake state-value function estimation"
   ]
  },
  {
   "cell_type": "code",
   "execution_count": null,
   "metadata": {},
   "outputs": [],
   "source": [
    "plot_value_function('FVMC estimates through time vs. true values', V_track_fvmc, V_true, log=False)"
   ]
  },
  {
   "cell_type": "code",
   "execution_count": null,
   "metadata": {},
   "outputs": [],
   "source": [
    "plot_value_function('EVMC estimates through time vs. true values', V_track_evmc, V_true, log=False)"
   ]
  },
  {
   "cell_type": "code",
   "execution_count": null,
   "metadata": {},
   "outputs": [],
   "source": [
    "plot_value_function('TD estimates through time vs. true values', V_track_td, V_true, log=False)"
   ]
  },
  {
   "cell_type": "code",
   "execution_count": null,
   "metadata": {},
   "outputs": [],
   "source": [
    "plot_value_function('n-step TD estimates through time vs. true values', V_track_ntd, V_true, log=False)"
   ]
  },
  {
   "cell_type": "code",
   "execution_count": null,
   "metadata": {},
   "outputs": [],
   "source": [
    "plot_value_function('TD(λ) estimates through time vs. true values', V_track_tdl, V_true, log=False)"
   ]
  },
  {
   "cell_type": "markdown",
   "metadata": {},
   "source": [
    "# FrozenLake state-value function estimation (x axis in log scale)"
   ]
  },
  {
   "cell_type": "code",
   "execution_count": null,
   "metadata": {},
   "outputs": [],
   "source": [
    "plot_value_function('FVMC estimates through time vs. true values (log scale)', V_track_fvmc, V_true, log=True)"
   ]
  },
  {
   "cell_type": "code",
   "execution_count": null,
   "metadata": {},
   "outputs": [],
   "source": [
    "plot_value_function('EVMC estimates through time vs. true values (log scale)', V_track_evmc, V_true, log=True)"
   ]
  },
  {
   "cell_type": "code",
   "execution_count": null,
   "metadata": {},
   "outputs": [],
   "source": [
    "plot_value_function('TD estimates through time vs. true values (log scale)', V_track_td, V_true, log=True)"
   ]
  },
  {
   "cell_type": "code",
   "execution_count": null,
   "metadata": {},
   "outputs": [],
   "source": [
    "plot_value_function('n-step TD estimates through time vs. true values (log scale)', V_track_ntd, V_true, log=True)"
   ]
  },
  {
   "cell_type": "code",
   "execution_count": null,
   "metadata": {},
   "outputs": [],
   "source": [
    "plot_value_function('TD(λ) estimates through time vs. true values (log scale)', V_track_tdl, V_true, log=True)"
   ]
  },
  {
   "cell_type": "markdown",
   "metadata": {},
   "source": [
    "# Close ups"
   ]
  },
  {
   "cell_type": "code",
   "execution_count": null,
   "metadata": {},
   "outputs": [],
   "source": [
    "plot_value_function('FVMC estimates through time (close up)', V_track_fvmc[:100], None, log=False)"
   ]
  },
  {
   "cell_type": "code",
   "execution_count": null,
   "metadata": {},
   "outputs": [],
   "source": [
    "plot_value_function('EVMC estimates through time (close up)', V_track_evmc[:100], None, log=False)"
   ]
  },
  {
   "cell_type": "code",
   "execution_count": null,
   "metadata": {},
   "outputs": [],
   "source": [
    "plot_value_function('TD estimates through time (close up)', V_track_td[:100], None, log=False)"
   ]
  },
  {
   "cell_type": "code",
   "execution_count": null,
   "metadata": {},
   "outputs": [],
   "source": [
    "plot_value_function('n-step TD estimates through time (close up)', V_track_ntd[:100], None, log=False)"
   ]
  },
  {
   "cell_type": "code",
   "execution_count": null,
   "metadata": {},
   "outputs": [],
   "source": [
    "plot_value_function('TD(λ) estimates through time (close up)', V_track_tdl[:100], None, log=False)"
   ]
  },
  {
   "cell_type": "markdown",
   "metadata": {},
   "source": [
    "# MC vs. TD"
   ]
  },
  {
   "cell_type": "code",
   "execution_count": null,
   "metadata": {},
   "outputs": [],
   "source": [
    "plot_targets(targets_fvmc, init_state, title='FVMC target sequence')"
   ]
  },
  {
   "cell_type": "code",
   "execution_count": null,
   "metadata": {},
   "outputs": [],
   "source": [
    "plot_targets(targets_evmc, init_state, title='EVMC target sequence')"
   ]
  },
  {
   "cell_type": "code",
   "execution_count": null,
   "metadata": {},
   "outputs": [],
   "source": [
    "plot_targets(targets_td, init_state, title='TD target sequence')"
   ]
  }
 ],
 "metadata": {
  "kernelspec": {
   "display_name": "torch",
   "language": "python",
   "name": "python3"
  },
  "language_info": {
   "codemirror_mode": {
    "name": "ipython",
    "version": 3
   },
   "file_extension": ".py",
   "mimetype": "text/x-python",
   "name": "python",
   "nbconvert_exporter": "python",
   "pygments_lexer": "ipython3",
   "version": "3.12.0"
  }
 },
 "nbformat": 4,
 "nbformat_minor": 2
}
