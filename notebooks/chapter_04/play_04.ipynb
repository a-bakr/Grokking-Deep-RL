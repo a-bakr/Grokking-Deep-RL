{
 "cells": [
  {
   "cell_type": "code",
   "execution_count": 1,
   "metadata": {},
   "outputs": [],
   "source": [
    "# Bandits"
   ]
  },
  {
   "cell_type": "code",
   "execution_count": 2,
   "metadata": {},
   "outputs": [],
   "source": [
    "import warnings ; warnings.filterwarnings('ignore')\n",
    "\n",
    "import gymnasium as gym\n",
    "# import gym\n",
    "# import gym_bandits\n",
    "import numpy as np\n",
    "from scipy.special import softmax as softmax_fn\n",
    "from pprint import pprint\n",
    "from tqdm import tqdm_notebook as tqdm\n",
    "\n",
    "from itertools import cycle\n",
    "\n",
    "import sys\n",
    "import random\n",
    "import matplotlib.pyplot as plt\n",
    "import matplotlib.pylab as pylab\n",
    "import seaborn as sns\n",
    "\n",
    "%matplotlib inline"
   ]
  },
  {
   "cell_type": "code",
   "execution_count": 3,
   "metadata": {},
   "outputs": [],
   "source": [
    "sns.set_theme()\n",
    "plt.style.use('fivethirtyeight')\n",
    "params = {\n",
    "    'figure.figsize': (15, 8),\n",
    "    'font.size': 24,\n",
    "    'legend.fontsize': 20,\n",
    "    'axes.titlesize': 28,\n",
    "    'axes.labelsize': 24,\n",
    "    'xtick.labelsize': 20,\n",
    "    'ytick.labelsize': 20\n",
    "}\n",
    "pylab.rcParams.update(params)\n",
    "np.set_printoptions(suppress=True)"
   ]
  },
  {
   "cell_type": "markdown",
   "metadata": {},
   "source": [
    "# Baseline strategies"
   ]
  },
  {
   "cell_type": "code",
   "execution_count": 4,
   "metadata": {},
   "outputs": [
    {
     "data": {
      "text/plain": [
       "np.int64(0)"
      ]
     },
     "execution_count": 4,
     "metadata": {},
     "output_type": "execute_result"
    }
   ],
   "source": [
    "Q = np.array([7, 3])\n",
    "np.argmax(Q)"
   ]
  },
  {
   "cell_type": "code",
   "execution_count": 5,
   "metadata": {},
   "outputs": [],
   "source": [
    "def pure_exploitation(env, n_episodes=1000):\n",
    "    Q = np.zeros((env.action_space.n), dtype=np.float64)\n",
    "    N = np.zeros((env.action_space.n), dtype=np.int32)\n",
    "    \n",
    "    Qe = np.empty((n_episodes, env.action_space.n), dtype=np.float64)\n",
    "    returns = np.empty(n_episodes, dtype=np.float64)\n",
    "    actions = np.empty(n_episodes, dtype=np.int32)\n",
    "    \n",
    "    name = 'Pure exploitation'\n",
    "    es = tqdm(range(n_episodes), desc='Episodes for: ' + name, leave=False)\n",
    "    for e in es:\n",
    "        action = np.argmax(Q)\n",
    "        # print(action)\n",
    "        # print(\"env.step(action)\")\n",
    "        # print(env.step(action))\n",
    "        \n",
    "        next_state, reward, done, truncated, info = env.step(action)\n",
    "        N[action] += 1\n",
    "        Q[action] += (reward - Q[action]) / N[action]            \n",
    "        \n",
    "        Qe[e] = Q\n",
    "        returns[e] = reward\n",
    "        actions[e] = action\n",
    "    return name, returns, Qe, actions"
   ]
  },
  {
   "cell_type": "code",
   "execution_count": 6,
   "metadata": {},
   "outputs": [],
   "source": [
    "def pure_exploration(env, n_episodes=1000):\n",
    "    Q = np.zeros((env.action_space.n), dtype=np.float64)\n",
    "    N = np.zeros((env.action_space.n), dtype=np.int32)\n",
    "    \n",
    "    Qe = np.empty((n_episodes, env.action_space.n), dtype=np.float64)\n",
    "    returns = np.empty(n_episodes, dtype=np.float64)\n",
    "    actions = np.empty(n_episodes, dtype=np.int32)\n",
    "    \n",
    "    name = 'Pure exploration'\n",
    "    es = tqdm(range(n_episodes), desc='Episodes for: ' + name, leave=False)\n",
    "    for e in es:\n",
    "        action = np.random.randint(len(Q))\n",
    "        next_state, reward, done, truncated, info = env.step(action)\n",
    "        N[action] += 1\n",
    "        Q[action] += (reward - Q[action]) / N[action]            \n",
    "        \n",
    "        Qe[e] = Q\n",
    "        returns[e] = reward\n",
    "        actions[e] = action\n",
    "    return name, returns, Qe, actions"
   ]
  },
  {
   "cell_type": "markdown",
   "metadata": {},
   "source": [
    "# Simple strategies"
   ]
  },
  {
   "cell_type": "code",
   "execution_count": 7,
   "metadata": {},
   "outputs": [],
   "source": [
    "def epsilon_greedy(env, epsilon=0.1, n_episodes=1000):\n",
    "    Q = np.zeros((env.action_space.n), dtype=np.float64)\n",
    "    N = np.zeros((env.action_space.n), dtype=np.int32)\n",
    "    \n",
    "    Qe = np.empty((n_episodes, env.action_space.n), dtype=np.float64)\n",
    "    returns = np.empty(n_episodes, dtype=np.float64)\n",
    "    actions = np.empty(n_episodes, dtype=np.int32)\n",
    "    \n",
    "    name = 'Pure exploration'\n",
    "    es = tqdm(range(n_episodes), desc='Episodes for: ' + name, leave=False)\n",
    "    for e in es:\n",
    "        if np.random.random() <= epsilon:\n",
    "            action = np.random.randint(len(Q))\n",
    "        else:\n",
    "            action = np.argmax(len(Q))\n",
    "        \n",
    "        next_state, reward, done, truncated, info = env.step(action)\n",
    "        N[action] += 1\n",
    "        Q[action] += (reward - Q[action]) / N[action]            \n",
    "        \n",
    "        Qe[e] = Q\n",
    "        returns[e] = reward\n",
    "        actions[e] = action\n",
    "    return name, returns, Qe, actions"
   ]
  },
  {
   "cell_type": "code",
   "execution_count": 8,
   "metadata": {},
   "outputs": [
    {
     "data": {
      "text/plain": [
       "np.float64(0.5)"
      ]
     },
     "execution_count": 8,
     "metadata": {},
     "output_type": "execute_result"
    }
   ],
   "source": [
    "np.random.uniform(low=2, high=100, size=(2, 2)), np.random.random((2, 2))\n",
    "max(0.2, .5)\n",
    "np.maximum(0.2, .5)"
   ]
  },
  {
   "cell_type": "code",
   "execution_count": 9,
   "metadata": {},
   "outputs": [
    {
     "name": "stdout",
     "output_type": "stream",
     "text": [
      "1.0\n",
      "0.802\n",
      "0.6040000000000001\n",
      "0.4060000000000001\n",
      "0.20800000000000007\n",
      "0.010000000000000064\n",
      "0.01\n",
      "0.01\n",
      "0.01\n",
      "0.01\n"
     ]
    }
   ],
   "source": [
    "init_epsilon = 1.0\n",
    "min_epsilon = 0.01\n",
    "decay_ratio = 0.5 \n",
    "n_episodes = 10\n",
    "\n",
    "def lin_decay(init_epsilon, min_epsilon, decay_ratio, n_episodes):\n",
    "    decay_range = init_epsilon - min_epsilon\n",
    "    decay_episodes = int(n_episodes * decay_ratio)\n",
    "    decay = decay_range / decay_episodes\n",
    "    return init_epsilon, decay\n",
    "\n",
    "epsilon, decay = lin_decay(init_epsilon, min_epsilon, decay_ratio, n_episodes)\n",
    "for e in range(n_episodes):\n",
    "    print(epsilon)\n",
    "    epsilon = max(epsilon - decay, min_epsilon)"
   ]
  },
  {
   "cell_type": "code",
   "execution_count": 10,
   "metadata": {},
   "outputs": [],
   "source": [
    "def lin_dec_epsilon_greedy(\n",
    "    env, init_epsilon=1.0, min_epsilon=0.01, decay_ratio=0.05, n_episodes=1000):\n",
    "    Q = np.zeros((env.action_space.n), dtype=np.float64)\n",
    "    N = np.zeros((env.action_space.n), dtype=np.int32)\n",
    "    \n",
    "    Qe = np.empty((n_episodes, env.action_space.n), dtype=np.float64)\n",
    "    returns = np.empty(n_episodes, dtype=np.float64)\n",
    "    actions = np.empty(n_episodes, dtype=np.int32)\n",
    "    \n",
    "    epsilon, decay = lin_decay(init_epsilon, min_epsilon, decay_ratio, n_episodes)\n",
    "    name = f\"Lin Epsilon-Greedy {init_epsilon}, {min_epsilon}, {decay_ratio}\"\n",
    "    es = tqdm(\n",
    "        range(n_episodes), \n",
    "        desc='Episodes for: ' + name, \n",
    "        leave=False\n",
    "    )\n",
    "    \n",
    "    for e in es:\n",
    "        if np.random.random() <= epsilon:\n",
    "            action = np.random.randint(len(Q))\n",
    "        else:\n",
    "            action = np.argmax(len(Q))\n",
    "        epsilon = max(epsilon - decay, min_epsilon)\n",
    "        \n",
    "        next_state, reward, done, truncated, info = env.step(action)\n",
    "        N[action] += 1\n",
    "        Q[action] += (reward - Q[action]) / N[action]            \n",
    "        \n",
    "        Qe[e] = Q\n",
    "        returns[e] = reward\n",
    "        actions[e] = action\n",
    "    return name, returns, Qe, actions"
   ]
  },
  {
   "cell_type": "code",
   "execution_count": 11,
   "metadata": {},
   "outputs": [
    {
     "name": "stdout",
     "output_type": "stream",
     "text": [
      "0.010000\n",
      "0.010000\n",
      "0.010000\n",
      "0.010000\n",
      "0.010000\n",
      "0.010000\n",
      "0.010000\n",
      "0.010000\n",
      "0.010000\n",
      "0.010000\n"
     ]
    }
   ],
   "source": [
    "init_epsilon = 1.0\n",
    "min_epsilon = 0.01\n",
    "decay_ratio = 0.1\n",
    "n_episodes = 10\n",
    "\n",
    "def exp_decay(init_epsilon, min_epsilon, decay_ratio, n_episodes):\n",
    "    decay_episodes = int(n_episodes * decay_ratio)\n",
    "    min_epsilon = max(min_epsilon, 1e-45)\n",
    "    decay = np.exp(-np.log(init_epsilon / min_epsilon) / decay_episodes)\n",
    "    return init_epsilon, decay\n",
    "\n",
    "\n",
    "decay, epsilon = exp_decay(init_epsilon, min_epsilon, decay_ratio, n_episodes)\n",
    "for e in range(n_episodes):\n",
    "    print(f\"{epsilon:f}\")\n",
    "    epsilon = max(epsilon * decay, min_epsilon)"
   ]
  },
  {
   "cell_type": "code",
   "execution_count": 12,
   "metadata": {},
   "outputs": [],
   "source": [
    "def exp_dec_epsilon_greedy(\n",
    "    env, init_epsilon=1.0, min_epsilon=0.01, decay_ratio=0.05, n_episodes=1000):\n",
    "    Q = np.zeros((env.action_space.n), dtype=np.float64)\n",
    "    N = np.zeros((env.action_space.n), dtype=np.int32)\n",
    "    \n",
    "    Qe = np.empty((n_episodes, env.action_space.n), dtype=np.float64)\n",
    "    returns = np.empty(n_episodes, dtype=np.float64)\n",
    "    actions = np.empty(n_episodes, dtype=np.int32)\n",
    "    \n",
    "    name = f\"Exp Epsilon-Greedy {init_epsilon}, {min_epsilon}, {decay_ratio}\"\n",
    "    es = tqdm(\n",
    "        range(n_episodes), \n",
    "        desc='Episodes for: ' + name, \n",
    "        leave=False\n",
    "    )\n",
    "    \n",
    "    epsilon, decay = exp_decay(init_epsilon, min_epsilon, decay_ratio, n_episodes)\n",
    "    for e in es:\n",
    "        if np.random.random() <= epsilon:\n",
    "            action = np.random.randint(len(Q))\n",
    "        else:\n",
    "            action = np.argmax(len(Q))\n",
    "        epsilon = max(epsilon * decay, min_epsilon)\n",
    "        \n",
    "        next_state, reward, done, truncated, info = env.step(action)\n",
    "        N[action] += 1\n",
    "        Q[action] += (reward - Q[action]) / N[action]            \n",
    "        \n",
    "        Qe[e] = Q\n",
    "        returns[e] = reward\n",
    "        actions[e] = action\n",
    "    return name, returns, Qe, actions"
   ]
  },
  {
   "cell_type": "code",
   "execution_count": 13,
   "metadata": {},
   "outputs": [
    {
     "data": {
      "text/plain": [
       "array([100, 100])"
      ]
     },
     "execution_count": 13,
     "metadata": {},
     "output_type": "execute_result"
    }
   ],
   "source": [
    "np.full((2), 1.0)\n",
    "np.full((2), 100)"
   ]
  },
  {
   "cell_type": "code",
   "execution_count": 14,
   "metadata": {},
   "outputs": [],
   "source": [
    "def optimistic_initialization(\n",
    "    env, optimistic_estimate=1.0, initial_count=100, n_episodes=1000):\n",
    "    \n",
    "    Q = np.full((env.action_space.n), optimistic_estimate, dtype=np.float64)\n",
    "    N = np.full((env.action_space.n), initial_count, dtype=np.int32)\n",
    "    \n",
    "    Qe = np.empty((n_episodes, env.action_space.n), dtype=np.float64)\n",
    "    returns = np.empty(n_episodes, dtype=np.float64)\n",
    "    actions = np.empty(n_episodes, dtype=np.int32)\n",
    "    \n",
    "    name = f\"Optimistic {optimistic_estimate}, {initial_count}\"\n",
    "    es = tqdm(\n",
    "        range(n_episodes),\n",
    "        desc='Episodes for: ' + name, \n",
    "        leave=False\n",
    "    )\n",
    "    \n",
    "    for e in es:\n",
    "        action = np.argmax(Q)\n",
    "        next_state, reward, done, truncated, info = env.step(action)\n",
    "        N[action] += 1\n",
    "        Q[action] += (reward - Q[action]) / N[action]\n",
    "        \n",
    "        Qe[e] = Q\n",
    "        returns[e] = reward\n",
    "        actions[e] = action\n",
    "    return name, returns, Qe, actions"
   ]
  },
  {
   "cell_type": "markdown",
   "metadata": {},
   "source": [
    "# Two-Armed Bandit environments"
   ]
  },
  {
   "cell_type": "code",
   "execution_count": 15,
   "metadata": {},
   "outputs": [],
   "source": [
    "import buffalo_gym\n",
    "\n",
    "SEEDS = (12, 34, 56, 78, 90)"
   ]
  },
  {
   "cell_type": "code",
   "execution_count": 16,
   "metadata": {},
   "outputs": [
    {
     "name": "stdout",
     "output_type": "stream",
     "text": [
      "10\n",
      "Two-Armed Bandit environment with seed 12\n",
      "10\n",
      "Two-Armed Bandit environment with seed 34\n",
      "10\n",
      "Two-Armed Bandit environment with seed 56\n",
      "10\n",
      "Two-Armed Bandit environment with seed 78\n",
      "10\n",
      "Two-Armed Bandit environment with seed 90\n"
     ]
    }
   ],
   "source": [
    "b2_Vs = []\n",
    "for seed in SEEDS:\n",
    "    env_name = 'Bandit-v0'\n",
    "    env = gym.make(env_name, seed=seed)\n",
    "    env.reset()\n",
    "    \n",
    "    print(env.action_space.n)\n",
    "    print('Two-Armed Bandit environment with seed', seed)"
   ]
  },
  {
   "cell_type": "code",
   "execution_count": 17,
   "metadata": {},
   "outputs": [
    {
     "name": "stdout",
     "output_type": "stream",
     "text": [
      "Best Bandit: 3\n",
      "Two-Armed Bandit environment with seed 12\n",
      "Estimated Q-values: [3.21980288 3.0948036  3.26000215 3.39904514 3.37167344 3.16813353\n",
      " 3.19709565 3.3499591  3.0132748  3.39015114]\n",
      "V*: 3.399045140494849\n",
      "\n",
      "Best Bandit: 6\n",
      "Two-Armed Bandit environment with seed 34\n",
      "Estimated Q-values: [3.38999534 3.07750184 3.44643442 3.17776784 3.26972945 3.19234604\n",
      " 3.47088527 3.28405251 3.23989273 3.2463492 ]\n",
      "V*: 3.470885272989502\n",
      "\n",
      "Best Bandit: 7\n",
      "Two-Armed Bandit environment with seed 56\n",
      "Estimated Q-values: [3.36558544 3.19553915 3.17884608 3.11929803 3.13215817 3.3270867\n",
      " 3.17244616 3.39435844 3.29778315 3.27033215]\n",
      "V*: 3.3943584358916863\n",
      "\n",
      "Best Bandit: 9\n",
      "Two-Armed Bandit environment with seed 78\n",
      "Estimated Q-values: [3.20201002 3.20227131 3.20355235 3.31884276 3.15307611 3.20825952\n",
      " 3.20434969 3.22495597 3.22097706 3.3207067 ]\n",
      "V*: 3.320706703817242\n",
      "\n",
      "Best Bandit: 0\n",
      "Two-Armed Bandit environment with seed 90\n",
      "Estimated Q-values: [3.48125908 3.35494061 3.27508886 3.24798438 3.22489074 3.41337827\n",
      " 3.24349465 3.25185264 3.28747194 3.34638432]\n",
      "V*: 3.481259076971164\n",
      "\n"
     ]
    }
   ],
   "source": [
    "b2_Vs = []\n",
    "for seed in SEEDS:\n",
    "    env_name = 'Bandit-v0'\n",
    "    env = gym.make(env_name, seed=seed)\n",
    "    env.reset()\n",
    "\n",
    "    # For the new gymnasium API, we need to access the true Q-values differently\n",
    "    # We'll use a simple approach to estimate the true Q-values by sampling\n",
    "    # This is a workaround since we don't have direct access to internal environment parameters\n",
    "    \n",
    "    # Sample each action multiple times to estimate Q-values\n",
    "    n_samples = 1000\n",
    "    rewards = np.zeros((env.action_space.n, n_samples))\n",
    "    \n",
    "    for action in range(env.action_space.n):\n",
    "        for i in range(n_samples):\n",
    "            env.reset()\n",
    "            _, reward, _, _, _ = env.step(action)\n",
    "            rewards[action, i] = reward\n",
    "    \n",
    "    # Estimate true Q-values as the mean reward for each action\n",
    "    true_Q = np.mean(rewards, axis=1)\n",
    "    opt_V = np.max(true_Q)\n",
    "    \n",
    "    print(f\"Best Bandit: {np.argmax(true_Q)}\")\n",
    "    # Store the estimated optimal value\n",
    "    b2_Vs.append(opt_V)\n",
    "    \n",
    "    print('Two-Armed Bandit environment with seed', seed)\n",
    "    print('Estimated Q-values:', true_Q)\n",
    "    print('V*:', b2_Vs[-1])\n",
    "    print()"
   ]
  },
  {
   "cell_type": "markdown",
   "metadata": {},
   "source": [
    "# Running simple strategies on Two-Armed Bandit environments"
   ]
  },
  {
   "cell_type": "code",
   "execution_count": null,
   "metadata": {},
   "outputs": [
    {
     "data": {
      "application/vnd.jupyter.widget-view+json": {
       "model_id": "d4848241acac4cc0a94442fe4993ffa4",
       "version_major": 2,
       "version_minor": 0
      },
      "text/plain": [
       "All experiments:   0%|          | 0/5 [00:00<?, ?it/s]"
      ]
     },
     "metadata": {},
     "output_type": "display_data"
    },
    {
     "data": {
      "application/vnd.jupyter.widget-view+json": {
       "model_id": "77e676eea0b7406bb8b670d4fc0d97a2",
       "version_major": 2,
       "version_minor": 0
      },
      "text/plain": [
       "All environments:   0%|          | 0/5 [00:00<?, ?it/s]"
      ]
     },
     "metadata": {},
     "output_type": "display_data"
    },
    {
     "data": {
      "application/vnd.jupyter.widget-view+json": {
       "model_id": "ced379c73a49473fb2474e04f85daf31",
       "version_major": 2,
       "version_minor": 0
      },
      "text/plain": [
       "Experiments with seed 12:   0%|          | 0/10 [00:00<?, ?it/s]"
      ]
     },
     "metadata": {},
     "output_type": "display_data"
    },
    {
     "data": {
      "application/vnd.jupyter.widget-view+json": {
       "model_id": "b9c97dae664b4a5ea493d8bd0ffb6417",
       "version_major": 2,
       "version_minor": 0
      },
      "text/plain": [
       "Episodes for: Pure exploitation:   0%|          | 0/1000 [00:00<?, ?it/s]"
      ]
     },
     "metadata": {},
     "output_type": "display_data"
    },
    {
     "data": {
      "application/vnd.jupyter.widget-view+json": {
       "model_id": "1dddb42277754229b72ba3182f0d8bba",
       "version_major": 2,
       "version_minor": 0
      },
      "text/plain": [
       "Episodes for: Pure exploration:   0%|          | 0/1000 [00:00<?, ?it/s]"
      ]
     },
     "metadata": {},
     "output_type": "display_data"
    },
    {
     "data": {
      "application/vnd.jupyter.widget-view+json": {
       "model_id": "2a9eb33085084ff69775c6d22ff81dea",
       "version_major": 2,
       "version_minor": 0
      },
      "text/plain": [
       "Episodes for: Pure exploration:   0%|          | 0/1000 [00:00<?, ?it/s]"
      ]
     },
     "metadata": {},
     "output_type": "display_data"
    },
    {
     "data": {
      "application/vnd.jupyter.widget-view+json": {
       "model_id": "98dc75754684409881a0bca343924788",
       "version_major": 2,
       "version_minor": 0
      },
      "text/plain": [
       "Episodes for: Pure exploration:   0%|          | 0/1000 [00:00<?, ?it/s]"
      ]
     },
     "metadata": {},
     "output_type": "display_data"
    },
    {
     "data": {
      "application/vnd.jupyter.widget-view+json": {
       "model_id": "cc28a453d88c45b0afd8177da3e18d99",
       "version_major": 2,
       "version_minor": 0
      },
      "text/plain": [
       "Episodes for: Lin Epsilon-Greedy 1.0, 0.0, 0.1:   0%|          | 0/1000 [00:00<?, ?it/s]"
      ]
     },
     "metadata": {},
     "output_type": "display_data"
    },
    {
     "data": {
      "application/vnd.jupyter.widget-view+json": {
       "model_id": "d8fef8d18cc949e8b4372e10be8f6285",
       "version_major": 2,
       "version_minor": 0
      },
      "text/plain": [
       "Episodes for: Lin Epsilon-Greedy 0.3, 0.001, 0.1:   0%|          | 0/1000 [00:00<?, ?it/s]"
      ]
     },
     "metadata": {},
     "output_type": "display_data"
    },
    {
     "data": {
      "application/vnd.jupyter.widget-view+json": {
       "model_id": "1e64849c07a84304a74fd46d249672cf",
       "version_major": 2,
       "version_minor": 0
      },
      "text/plain": [
       "Episodes for: Exp Epsilon-Greedy 1.0, 0.0, 0.1:   0%|          | 0/1000 [00:00<?, ?it/s]"
      ]
     },
     "metadata": {},
     "output_type": "display_data"
    },
    {
     "data": {
      "application/vnd.jupyter.widget-view+json": {
       "model_id": "584accf880df469db2e20ab405f01ad9",
       "version_major": 2,
       "version_minor": 0
      },
      "text/plain": [
       "Episodes for: Exp Epsilon-Greedy 0.3, 0.0, 0.3:   0%|          | 0/1000 [00:00<?, ?it/s]"
      ]
     },
     "metadata": {},
     "output_type": "display_data"
    },
    {
     "data": {
      "application/vnd.jupyter.widget-view+json": {
       "model_id": "ecf1145041354478930e9f5b2c8a259b",
       "version_major": 2,
       "version_minor": 0
      },
      "text/plain": [
       "Episodes for: Optimistic 1.0, 10:   0%|          | 0/1000 [00:00<?, ?it/s]"
      ]
     },
     "metadata": {},
     "output_type": "display_data"
    },
    {
     "data": {
      "application/vnd.jupyter.widget-view+json": {
       "model_id": "3f3fc23bfa9b4f088ddc88a7a7c22d83",
       "version_major": 2,
       "version_minor": 0
      },
      "text/plain": [
       "Episodes for: Optimistic 1.0, 50:   0%|          | 0/1000 [00:00<?, ?it/s]"
      ]
     },
     "metadata": {},
     "output_type": "display_data"
    },
    {
     "data": {
      "application/vnd.jupyter.widget-view+json": {
       "model_id": "de9208ee47b3439d80df4a313cae91a0",
       "version_major": 2,
       "version_minor": 0
      },
      "text/plain": [
       "Experiments with seed 34:   0%|          | 0/10 [00:00<?, ?it/s]"
      ]
     },
     "metadata": {},
     "output_type": "display_data"
    },
    {
     "data": {
      "application/vnd.jupyter.widget-view+json": {
       "model_id": "f61bb247dcbc4faba87061b223939c45",
       "version_major": 2,
       "version_minor": 0
      },
      "text/plain": [
       "Episodes for: Pure exploitation:   0%|          | 0/1000 [00:00<?, ?it/s]"
      ]
     },
     "metadata": {},
     "output_type": "display_data"
    },
    {
     "data": {
      "application/vnd.jupyter.widget-view+json": {
       "model_id": "caa5d7544bdd4c9e9c3d5d8191e454da",
       "version_major": 2,
       "version_minor": 0
      },
      "text/plain": [
       "Episodes for: Pure exploration:   0%|          | 0/1000 [00:00<?, ?it/s]"
      ]
     },
     "metadata": {},
     "output_type": "display_data"
    },
    {
     "data": {
      "application/vnd.jupyter.widget-view+json": {
       "model_id": "1a6ac61c071c4542848c7024d76307b0",
       "version_major": 2,
       "version_minor": 0
      },
      "text/plain": [
       "Episodes for: Pure exploration:   0%|          | 0/1000 [00:00<?, ?it/s]"
      ]
     },
     "metadata": {},
     "output_type": "display_data"
    },
    {
     "data": {
      "application/vnd.jupyter.widget-view+json": {
       "model_id": "5fab9afce1144d29a74b244da62576d1",
       "version_major": 2,
       "version_minor": 0
      },
      "text/plain": [
       "Episodes for: Pure exploration:   0%|          | 0/1000 [00:00<?, ?it/s]"
      ]
     },
     "metadata": {},
     "output_type": "display_data"
    },
    {
     "data": {
      "application/vnd.jupyter.widget-view+json": {
       "model_id": "62ebbc8bc5c54e31acf410e3336b7b0c",
       "version_major": 2,
       "version_minor": 0
      },
      "text/plain": [
       "Episodes for: Lin Epsilon-Greedy 1.0, 0.0, 0.1:   0%|          | 0/1000 [00:00<?, ?it/s]"
      ]
     },
     "metadata": {},
     "output_type": "display_data"
    },
    {
     "data": {
      "application/vnd.jupyter.widget-view+json": {
       "model_id": "5c2bc9518c4b4bdf92112c47131af577",
       "version_major": 2,
       "version_minor": 0
      },
      "text/plain": [
       "Episodes for: Lin Epsilon-Greedy 0.3, 0.001, 0.1:   0%|          | 0/1000 [00:00<?, ?it/s]"
      ]
     },
     "metadata": {},
     "output_type": "display_data"
    },
    {
     "data": {
      "application/vnd.jupyter.widget-view+json": {
       "model_id": "11d1a93e5e3e4289a5482796ee32afe0",
       "version_major": 2,
       "version_minor": 0
      },
      "text/plain": [
       "Episodes for: Exp Epsilon-Greedy 1.0, 0.0, 0.1:   0%|          | 0/1000 [00:00<?, ?it/s]"
      ]
     },
     "metadata": {},
     "output_type": "display_data"
    },
    {
     "data": {
      "application/vnd.jupyter.widget-view+json": {
       "model_id": "95498df8d5ad434fa35d6b5d469fc729",
       "version_major": 2,
       "version_minor": 0
      },
      "text/plain": [
       "Episodes for: Exp Epsilon-Greedy 0.3, 0.0, 0.3:   0%|          | 0/1000 [00:00<?, ?it/s]"
      ]
     },
     "metadata": {},
     "output_type": "display_data"
    },
    {
     "data": {
      "application/vnd.jupyter.widget-view+json": {
       "model_id": "dd4fa4d323af4a288c751c888d1e145c",
       "version_major": 2,
       "version_minor": 0
      },
      "text/plain": [
       "Episodes for: Optimistic 1.0, 10:   0%|          | 0/1000 [00:00<?, ?it/s]"
      ]
     },
     "metadata": {},
     "output_type": "display_data"
    },
    {
     "data": {
      "application/vnd.jupyter.widget-view+json": {
       "model_id": "62a2e3cade374586a7212caab1415e3f",
       "version_major": 2,
       "version_minor": 0
      },
      "text/plain": [
       "Episodes for: Optimistic 1.0, 50:   0%|          | 0/1000 [00:00<?, ?it/s]"
      ]
     },
     "metadata": {},
     "output_type": "display_data"
    },
    {
     "data": {
      "application/vnd.jupyter.widget-view+json": {
       "model_id": "b558c8ebecf74846a15e59fbd7be16c1",
       "version_major": 2,
       "version_minor": 0
      },
      "text/plain": [
       "Experiments with seed 56:   0%|          | 0/10 [00:00<?, ?it/s]"
      ]
     },
     "metadata": {},
     "output_type": "display_data"
    },
    {
     "data": {
      "application/vnd.jupyter.widget-view+json": {
       "model_id": "55c5cfa7b718471b9732718c2b66ee6c",
       "version_major": 2,
       "version_minor": 0
      },
      "text/plain": [
       "Episodes for: Pure exploitation:   0%|          | 0/1000 [00:00<?, ?it/s]"
      ]
     },
     "metadata": {},
     "output_type": "display_data"
    },
    {
     "data": {
      "application/vnd.jupyter.widget-view+json": {
       "model_id": "316853123f594794a5ed75dcabf2167e",
       "version_major": 2,
       "version_minor": 0
      },
      "text/plain": [
       "Episodes for: Pure exploration:   0%|          | 0/1000 [00:00<?, ?it/s]"
      ]
     },
     "metadata": {},
     "output_type": "display_data"
    },
    {
     "data": {
      "application/vnd.jupyter.widget-view+json": {
       "model_id": "ba0dbea3a2f245e6bb2a2dd25ff69fd7",
       "version_major": 2,
       "version_minor": 0
      },
      "text/plain": [
       "Episodes for: Pure exploration:   0%|          | 0/1000 [00:00<?, ?it/s]"
      ]
     },
     "metadata": {},
     "output_type": "display_data"
    },
    {
     "data": {
      "application/vnd.jupyter.widget-view+json": {
       "model_id": "a337540381024edc8420a4a61f3d08e2",
       "version_major": 2,
       "version_minor": 0
      },
      "text/plain": [
       "Episodes for: Pure exploration:   0%|          | 0/1000 [00:00<?, ?it/s]"
      ]
     },
     "metadata": {},
     "output_type": "display_data"
    },
    {
     "data": {
      "application/vnd.jupyter.widget-view+json": {
       "model_id": "6156c9ca73d6451f9104e3a7a73c3840",
       "version_major": 2,
       "version_minor": 0
      },
      "text/plain": [
       "Episodes for: Lin Epsilon-Greedy 1.0, 0.0, 0.1:   0%|          | 0/1000 [00:00<?, ?it/s]"
      ]
     },
     "metadata": {},
     "output_type": "display_data"
    },
    {
     "data": {
      "application/vnd.jupyter.widget-view+json": {
       "model_id": "307c6669af8c4a32b20900d27b846e9b",
       "version_major": 2,
       "version_minor": 0
      },
      "text/plain": [
       "Episodes for: Lin Epsilon-Greedy 0.3, 0.001, 0.1:   0%|          | 0/1000 [00:00<?, ?it/s]"
      ]
     },
     "metadata": {},
     "output_type": "display_data"
    },
    {
     "data": {
      "application/vnd.jupyter.widget-view+json": {
       "model_id": "9a802f0321d64fd29b9374366577ec87",
       "version_major": 2,
       "version_minor": 0
      },
      "text/plain": [
       "Episodes for: Exp Epsilon-Greedy 1.0, 0.0, 0.1:   0%|          | 0/1000 [00:00<?, ?it/s]"
      ]
     },
     "metadata": {},
     "output_type": "display_data"
    },
    {
     "data": {
      "application/vnd.jupyter.widget-view+json": {
       "model_id": "8b2d8dbfc32f4e2a9686eed478efa05a",
       "version_major": 2,
       "version_minor": 0
      },
      "text/plain": [
       "Episodes for: Exp Epsilon-Greedy 0.3, 0.0, 0.3:   0%|          | 0/1000 [00:00<?, ?it/s]"
      ]
     },
     "metadata": {},
     "output_type": "display_data"
    },
    {
     "data": {
      "application/vnd.jupyter.widget-view+json": {
       "model_id": "3525009899ad4c17b5e2e8fd3baefeee",
       "version_major": 2,
       "version_minor": 0
      },
      "text/plain": [
       "Episodes for: Optimistic 1.0, 10:   0%|          | 0/1000 [00:00<?, ?it/s]"
      ]
     },
     "metadata": {},
     "output_type": "display_data"
    },
    {
     "data": {
      "application/vnd.jupyter.widget-view+json": {
       "model_id": "cf6f055349bc442799e354b7fdd679ce",
       "version_major": 2,
       "version_minor": 0
      },
      "text/plain": [
       "Episodes for: Optimistic 1.0, 50:   0%|          | 0/1000 [00:00<?, ?it/s]"
      ]
     },
     "metadata": {},
     "output_type": "display_data"
    },
    {
     "data": {
      "application/vnd.jupyter.widget-view+json": {
       "model_id": "84c029223afd4ddfae914b4afb5cba42",
       "version_major": 2,
       "version_minor": 0
      },
      "text/plain": [
       "Experiments with seed 78:   0%|          | 0/10 [00:00<?, ?it/s]"
      ]
     },
     "metadata": {},
     "output_type": "display_data"
    },
    {
     "data": {
      "application/vnd.jupyter.widget-view+json": {
       "model_id": "b7ed29ac4ff5422a8f0f9f5cd4e4a493",
       "version_major": 2,
       "version_minor": 0
      },
      "text/plain": [
       "Episodes for: Pure exploitation:   0%|          | 0/1000 [00:00<?, ?it/s]"
      ]
     },
     "metadata": {},
     "output_type": "display_data"
    },
    {
     "data": {
      "application/vnd.jupyter.widget-view+json": {
       "model_id": "50bde49cbaa8486dbcc5365eb4f2a15c",
       "version_major": 2,
       "version_minor": 0
      },
      "text/plain": [
       "Episodes for: Pure exploration:   0%|          | 0/1000 [00:00<?, ?it/s]"
      ]
     },
     "metadata": {},
     "output_type": "display_data"
    },
    {
     "data": {
      "application/vnd.jupyter.widget-view+json": {
       "model_id": "1353945e6f844acb85ab894792def708",
       "version_major": 2,
       "version_minor": 0
      },
      "text/plain": [
       "Episodes for: Pure exploration:   0%|          | 0/1000 [00:00<?, ?it/s]"
      ]
     },
     "metadata": {},
     "output_type": "display_data"
    },
    {
     "data": {
      "application/vnd.jupyter.widget-view+json": {
       "model_id": "11ecdee9aba84ea599966346248a6b54",
       "version_major": 2,
       "version_minor": 0
      },
      "text/plain": [
       "Episodes for: Pure exploration:   0%|          | 0/1000 [00:00<?, ?it/s]"
      ]
     },
     "metadata": {},
     "output_type": "display_data"
    },
    {
     "data": {
      "application/vnd.jupyter.widget-view+json": {
       "model_id": "667608ab180348498f77628ecc431559",
       "version_major": 2,
       "version_minor": 0
      },
      "text/plain": [
       "Episodes for: Lin Epsilon-Greedy 1.0, 0.0, 0.1:   0%|          | 0/1000 [00:00<?, ?it/s]"
      ]
     },
     "metadata": {},
     "output_type": "display_data"
    },
    {
     "data": {
      "application/vnd.jupyter.widget-view+json": {
       "model_id": "94983351cd1b4992a868f17096a3fc06",
       "version_major": 2,
       "version_minor": 0
      },
      "text/plain": [
       "Episodes for: Lin Epsilon-Greedy 0.3, 0.001, 0.1:   0%|          | 0/1000 [00:00<?, ?it/s]"
      ]
     },
     "metadata": {},
     "output_type": "display_data"
    },
    {
     "data": {
      "application/vnd.jupyter.widget-view+json": {
       "model_id": "4dc2be12968d41f38af2fad39c684aa9",
       "version_major": 2,
       "version_minor": 0
      },
      "text/plain": [
       "Episodes for: Exp Epsilon-Greedy 1.0, 0.0, 0.1:   0%|          | 0/1000 [00:00<?, ?it/s]"
      ]
     },
     "metadata": {},
     "output_type": "display_data"
    },
    {
     "data": {
      "application/vnd.jupyter.widget-view+json": {
       "model_id": "2d5bf12708c048aab823deaee81f4247",
       "version_major": 2,
       "version_minor": 0
      },
      "text/plain": [
       "Episodes for: Exp Epsilon-Greedy 0.3, 0.0, 0.3:   0%|          | 0/1000 [00:00<?, ?it/s]"
      ]
     },
     "metadata": {},
     "output_type": "display_data"
    },
    {
     "data": {
      "application/vnd.jupyter.widget-view+json": {
       "model_id": "e4fb4d5d75c24d2aab5ee1676c33afbb",
       "version_major": 2,
       "version_minor": 0
      },
      "text/plain": [
       "Episodes for: Optimistic 1.0, 10:   0%|          | 0/1000 [00:00<?, ?it/s]"
      ]
     },
     "metadata": {},
     "output_type": "display_data"
    },
    {
     "data": {
      "application/vnd.jupyter.widget-view+json": {
       "model_id": "20954965a4864a998c1488936ffc4e26",
       "version_major": 2,
       "version_minor": 0
      },
      "text/plain": [
       "Episodes for: Optimistic 1.0, 50:   0%|          | 0/1000 [00:00<?, ?it/s]"
      ]
     },
     "metadata": {},
     "output_type": "display_data"
    },
    {
     "data": {
      "application/vnd.jupyter.widget-view+json": {
       "model_id": "b776585e4b484d2ba322e6a3bc634955",
       "version_major": 2,
       "version_minor": 0
      },
      "text/plain": [
       "Experiments with seed 90:   0%|          | 0/10 [00:00<?, ?it/s]"
      ]
     },
     "metadata": {},
     "output_type": "display_data"
    },
    {
     "data": {
      "application/vnd.jupyter.widget-view+json": {
       "model_id": "38fc8fe0d48d43328d4d982572636c73",
       "version_major": 2,
       "version_minor": 0
      },
      "text/plain": [
       "Episodes for: Pure exploitation:   0%|          | 0/1000 [00:00<?, ?it/s]"
      ]
     },
     "metadata": {},
     "output_type": "display_data"
    },
    {
     "data": {
      "application/vnd.jupyter.widget-view+json": {
       "model_id": "91d4f45440a54291a41cb22d0f3d9da5",
       "version_major": 2,
       "version_minor": 0
      },
      "text/plain": [
       "Episodes for: Pure exploration:   0%|          | 0/1000 [00:00<?, ?it/s]"
      ]
     },
     "metadata": {},
     "output_type": "display_data"
    },
    {
     "data": {
      "application/vnd.jupyter.widget-view+json": {
       "model_id": "3c4aa5973ca748bca2ce25f670338290",
       "version_major": 2,
       "version_minor": 0
      },
      "text/plain": [
       "Episodes for: Pure exploration:   0%|          | 0/1000 [00:00<?, ?it/s]"
      ]
     },
     "metadata": {},
     "output_type": "display_data"
    },
    {
     "data": {
      "application/vnd.jupyter.widget-view+json": {
       "model_id": "eafc33cf16604e48b6a22b8858bfbd05",
       "version_major": 2,
       "version_minor": 0
      },
      "text/plain": [
       "Episodes for: Pure exploration:   0%|          | 0/1000 [00:00<?, ?it/s]"
      ]
     },
     "metadata": {},
     "output_type": "display_data"
    },
    {
     "data": {
      "application/vnd.jupyter.widget-view+json": {
       "model_id": "d776d6cb32b24de98dcb38d1a85ffce7",
       "version_major": 2,
       "version_minor": 0
      },
      "text/plain": [
       "Episodes for: Lin Epsilon-Greedy 1.0, 0.0, 0.1:   0%|          | 0/1000 [00:00<?, ?it/s]"
      ]
     },
     "metadata": {},
     "output_type": "display_data"
    },
    {
     "data": {
      "application/vnd.jupyter.widget-view+json": {
       "model_id": "99c75a64c0444c28b32fb97a3cac3ad6",
       "version_major": 2,
       "version_minor": 0
      },
      "text/plain": [
       "Episodes for: Lin Epsilon-Greedy 0.3, 0.001, 0.1:   0%|          | 0/1000 [00:00<?, ?it/s]"
      ]
     },
     "metadata": {},
     "output_type": "display_data"
    },
    {
     "data": {
      "application/vnd.jupyter.widget-view+json": {
       "model_id": "2a3b78244b8f41559f9c325bfee284fe",
       "version_major": 2,
       "version_minor": 0
      },
      "text/plain": [
       "Episodes for: Exp Epsilon-Greedy 1.0, 0.0, 0.1:   0%|          | 0/1000 [00:00<?, ?it/s]"
      ]
     },
     "metadata": {},
     "output_type": "display_data"
    },
    {
     "data": {
      "application/vnd.jupyter.widget-view+json": {
       "model_id": "3978d804fdc34dea90c84b473e547ffc",
       "version_major": 2,
       "version_minor": 0
      },
      "text/plain": [
       "Episodes for: Exp Epsilon-Greedy 0.3, 0.0, 0.3:   0%|          | 0/1000 [00:00<?, ?it/s]"
      ]
     },
     "metadata": {},
     "output_type": "display_data"
    },
    {
     "data": {
      "application/vnd.jupyter.widget-view+json": {
       "model_id": "98358a610d174c658a8fdca10dfce472",
       "version_major": 2,
       "version_minor": 0
      },
      "text/plain": [
       "Episodes for: Optimistic 1.0, 10:   0%|          | 0/1000 [00:00<?, ?it/s]"
      ]
     },
     "metadata": {},
     "output_type": "display_data"
    },
    {
     "data": {
      "application/vnd.jupyter.widget-view+json": {
       "model_id": "83bbe262ab8d44c5acabd5a10dc3caa3",
       "version_major": 2,
       "version_minor": 0
      },
      "text/plain": [
       "Episodes for: Optimistic 1.0, 50:   0%|          | 0/1000 [00:00<?, ?it/s]"
      ]
     },
     "metadata": {},
     "output_type": "display_data"
    },
    {
     "data": {
      "application/vnd.jupyter.widget-view+json": {
       "model_id": "0ac915bf7b60487c8dca59c51abcd136",
       "version_major": 2,
       "version_minor": 0
      },
      "text/plain": [
       "All environments:   0%|          | 0/5 [00:00<?, ?it/s]"
      ]
     },
     "metadata": {},
     "output_type": "display_data"
    },
    {
     "data": {
      "application/vnd.jupyter.widget-view+json": {
       "model_id": "28fafc95cd374332a9e05ec883e1c133",
       "version_major": 2,
       "version_minor": 0
      },
      "text/plain": [
       "Experiments with seed 12:   0%|          | 0/10 [00:00<?, ?it/s]"
      ]
     },
     "metadata": {},
     "output_type": "display_data"
    },
    {
     "data": {
      "application/vnd.jupyter.widget-view+json": {
       "model_id": "6f96fb7ed7b04da48d6fcef8a48ffc54",
       "version_major": 2,
       "version_minor": 0
      },
      "text/plain": [
       "Episodes for: Pure exploitation:   0%|          | 0/1000 [00:00<?, ?it/s]"
      ]
     },
     "metadata": {},
     "output_type": "display_data"
    },
    {
     "data": {
      "application/vnd.jupyter.widget-view+json": {
       "model_id": "122c07db361c48449912381a0512423f",
       "version_major": 2,
       "version_minor": 0
      },
      "text/plain": [
       "Episodes for: Pure exploration:   0%|          | 0/1000 [00:00<?, ?it/s]"
      ]
     },
     "metadata": {},
     "output_type": "display_data"
    },
    {
     "data": {
      "application/vnd.jupyter.widget-view+json": {
       "model_id": "453fb380f780412cb6f2388eed5f0e6a",
       "version_major": 2,
       "version_minor": 0
      },
      "text/plain": [
       "Episodes for: Pure exploration:   0%|          | 0/1000 [00:00<?, ?it/s]"
      ]
     },
     "metadata": {},
     "output_type": "display_data"
    },
    {
     "data": {
      "application/vnd.jupyter.widget-view+json": {
       "model_id": "6bd1bb7d11d5440d8e215a9bd45c15c5",
       "version_major": 2,
       "version_minor": 0
      },
      "text/plain": [
       "Episodes for: Pure exploration:   0%|          | 0/1000 [00:00<?, ?it/s]"
      ]
     },
     "metadata": {},
     "output_type": "display_data"
    },
    {
     "data": {
      "application/vnd.jupyter.widget-view+json": {
       "model_id": "597293f799694882afa4809d706ef44d",
       "version_major": 2,
       "version_minor": 0
      },
      "text/plain": [
       "Episodes for: Lin Epsilon-Greedy 1.0, 0.0, 0.1:   0%|          | 0/1000 [00:00<?, ?it/s]"
      ]
     },
     "metadata": {},
     "output_type": "display_data"
    },
    {
     "data": {
      "application/vnd.jupyter.widget-view+json": {
       "model_id": "2e08b067efe84a01818905ab5990f042",
       "version_major": 2,
       "version_minor": 0
      },
      "text/plain": [
       "Episodes for: Lin Epsilon-Greedy 0.3, 0.001, 0.1:   0%|          | 0/1000 [00:00<?, ?it/s]"
      ]
     },
     "metadata": {},
     "output_type": "display_data"
    },
    {
     "data": {
      "application/vnd.jupyter.widget-view+json": {
       "model_id": "857f490a0b2c4661b1df924d974ab31a",
       "version_major": 2,
       "version_minor": 0
      },
      "text/plain": [
       "Episodes for: Exp Epsilon-Greedy 1.0, 0.0, 0.1:   0%|          | 0/1000 [00:00<?, ?it/s]"
      ]
     },
     "metadata": {},
     "output_type": "display_data"
    },
    {
     "data": {
      "application/vnd.jupyter.widget-view+json": {
       "model_id": "edd70c51044e4eeeb735366b8e0eff7b",
       "version_major": 2,
       "version_minor": 0
      },
      "text/plain": [
       "Episodes for: Exp Epsilon-Greedy 0.3, 0.0, 0.3:   0%|          | 0/1000 [00:00<?, ?it/s]"
      ]
     },
     "metadata": {},
     "output_type": "display_data"
    },
    {
     "data": {
      "application/vnd.jupyter.widget-view+json": {
       "model_id": "04e22c9640134a1eb0d041f8d378099b",
       "version_major": 2,
       "version_minor": 0
      },
      "text/plain": [
       "Episodes for: Optimistic 1.0, 10:   0%|          | 0/1000 [00:00<?, ?it/s]"
      ]
     },
     "metadata": {},
     "output_type": "display_data"
    },
    {
     "data": {
      "application/vnd.jupyter.widget-view+json": {
       "model_id": "acfd02ca70b049bf89b36d3aeaee02f4",
       "version_major": 2,
       "version_minor": 0
      },
      "text/plain": [
       "Episodes for: Optimistic 1.0, 50:   0%|          | 0/1000 [00:00<?, ?it/s]"
      ]
     },
     "metadata": {},
     "output_type": "display_data"
    },
    {
     "data": {
      "application/vnd.jupyter.widget-view+json": {
       "model_id": "f7dc7e479b194b66b544e75a19922a40",
       "version_major": 2,
       "version_minor": 0
      },
      "text/plain": [
       "Experiments with seed 34:   0%|          | 0/10 [00:00<?, ?it/s]"
      ]
     },
     "metadata": {},
     "output_type": "display_data"
    },
    {
     "data": {
      "application/vnd.jupyter.widget-view+json": {
       "model_id": "ecd89c522a2c4287b090609394ef3028",
       "version_major": 2,
       "version_minor": 0
      },
      "text/plain": [
       "Episodes for: Pure exploitation:   0%|          | 0/1000 [00:00<?, ?it/s]"
      ]
     },
     "metadata": {},
     "output_type": "display_data"
    },
    {
     "data": {
      "application/vnd.jupyter.widget-view+json": {
       "model_id": "1d630056d48d449fba26f5b4b9e77d04",
       "version_major": 2,
       "version_minor": 0
      },
      "text/plain": [
       "Episodes for: Pure exploration:   0%|          | 0/1000 [00:00<?, ?it/s]"
      ]
     },
     "metadata": {},
     "output_type": "display_data"
    },
    {
     "data": {
      "application/vnd.jupyter.widget-view+json": {
       "model_id": "b8bc5a26c60e410095c5a03265718d24",
       "version_major": 2,
       "version_minor": 0
      },
      "text/plain": [
       "Episodes for: Pure exploration:   0%|          | 0/1000 [00:00<?, ?it/s]"
      ]
     },
     "metadata": {},
     "output_type": "display_data"
    },
    {
     "data": {
      "application/vnd.jupyter.widget-view+json": {
       "model_id": "938883ed3e1747b59cdd9e60bf64a263",
       "version_major": 2,
       "version_minor": 0
      },
      "text/plain": [
       "Episodes for: Pure exploration:   0%|          | 0/1000 [00:00<?, ?it/s]"
      ]
     },
     "metadata": {},
     "output_type": "display_data"
    },
    {
     "data": {
      "application/vnd.jupyter.widget-view+json": {
       "model_id": "a5ca9069e02f463b8776daa4d9af7c2b",
       "version_major": 2,
       "version_minor": 0
      },
      "text/plain": [
       "Episodes for: Lin Epsilon-Greedy 1.0, 0.0, 0.1:   0%|          | 0/1000 [00:00<?, ?it/s]"
      ]
     },
     "metadata": {},
     "output_type": "display_data"
    },
    {
     "data": {
      "application/vnd.jupyter.widget-view+json": {
       "model_id": "572464844dfd40ac9f4b1bc811d5aa1d",
       "version_major": 2,
       "version_minor": 0
      },
      "text/plain": [
       "Episodes for: Lin Epsilon-Greedy 0.3, 0.001, 0.1:   0%|          | 0/1000 [00:00<?, ?it/s]"
      ]
     },
     "metadata": {},
     "output_type": "display_data"
    },
    {
     "data": {
      "application/vnd.jupyter.widget-view+json": {
       "model_id": "2229161a08ee4a61bbfe9e4db396cd88",
       "version_major": 2,
       "version_minor": 0
      },
      "text/plain": [
       "Episodes for: Exp Epsilon-Greedy 1.0, 0.0, 0.1:   0%|          | 0/1000 [00:00<?, ?it/s]"
      ]
     },
     "metadata": {},
     "output_type": "display_data"
    },
    {
     "data": {
      "application/vnd.jupyter.widget-view+json": {
       "model_id": "ee3d9f7ba16b45fc98f28161c567169b",
       "version_major": 2,
       "version_minor": 0
      },
      "text/plain": [
       "Episodes for: Exp Epsilon-Greedy 0.3, 0.0, 0.3:   0%|          | 0/1000 [00:00<?, ?it/s]"
      ]
     },
     "metadata": {},
     "output_type": "display_data"
    },
    {
     "data": {
      "application/vnd.jupyter.widget-view+json": {
       "model_id": "bb3fbe89d97c4a6192ad6bdc23d358a2",
       "version_major": 2,
       "version_minor": 0
      },
      "text/plain": [
       "Episodes for: Optimistic 1.0, 10:   0%|          | 0/1000 [00:00<?, ?it/s]"
      ]
     },
     "metadata": {},
     "output_type": "display_data"
    },
    {
     "data": {
      "application/vnd.jupyter.widget-view+json": {
       "model_id": "2034dc1414254fdd9a94b1c75371d7c4",
       "version_major": 2,
       "version_minor": 0
      },
      "text/plain": [
       "Episodes for: Optimistic 1.0, 50:   0%|          | 0/1000 [00:00<?, ?it/s]"
      ]
     },
     "metadata": {},
     "output_type": "display_data"
    },
    {
     "data": {
      "application/vnd.jupyter.widget-view+json": {
       "model_id": "3b8783c2893540a18f9c3df3c3a6a104",
       "version_major": 2,
       "version_minor": 0
      },
      "text/plain": [
       "Experiments with seed 56:   0%|          | 0/10 [00:00<?, ?it/s]"
      ]
     },
     "metadata": {},
     "output_type": "display_data"
    },
    {
     "data": {
      "application/vnd.jupyter.widget-view+json": {
       "model_id": "0235b119a89941f797756ceba48a97fc",
       "version_major": 2,
       "version_minor": 0
      },
      "text/plain": [
       "Episodes for: Pure exploitation:   0%|          | 0/1000 [00:00<?, ?it/s]"
      ]
     },
     "metadata": {},
     "output_type": "display_data"
    },
    {
     "data": {
      "application/vnd.jupyter.widget-view+json": {
       "model_id": "ef904b8f940a4242944639bcfd1ed8f4",
       "version_major": 2,
       "version_minor": 0
      },
      "text/plain": [
       "Episodes for: Pure exploration:   0%|          | 0/1000 [00:00<?, ?it/s]"
      ]
     },
     "metadata": {},
     "output_type": "display_data"
    },
    {
     "data": {
      "application/vnd.jupyter.widget-view+json": {
       "model_id": "f90c0e060d124e1b8f41e019ff1b133f",
       "version_major": 2,
       "version_minor": 0
      },
      "text/plain": [
       "Episodes for: Pure exploration:   0%|          | 0/1000 [00:00<?, ?it/s]"
      ]
     },
     "metadata": {},
     "output_type": "display_data"
    },
    {
     "data": {
      "application/vnd.jupyter.widget-view+json": {
       "model_id": "d50a9159fe214d26aa244e2fae68deaf",
       "version_major": 2,
       "version_minor": 0
      },
      "text/plain": [
       "Episodes for: Pure exploration:   0%|          | 0/1000 [00:00<?, ?it/s]"
      ]
     },
     "metadata": {},
     "output_type": "display_data"
    },
    {
     "data": {
      "application/vnd.jupyter.widget-view+json": {
       "model_id": "9edfa9638bac42948819dc169cd2d3bc",
       "version_major": 2,
       "version_minor": 0
      },
      "text/plain": [
       "Episodes for: Lin Epsilon-Greedy 1.0, 0.0, 0.1:   0%|          | 0/1000 [00:00<?, ?it/s]"
      ]
     },
     "metadata": {},
     "output_type": "display_data"
    },
    {
     "data": {
      "application/vnd.jupyter.widget-view+json": {
       "model_id": "c2e5aa0ab5a243b886d78ffadbf4d075",
       "version_major": 2,
       "version_minor": 0
      },
      "text/plain": [
       "Episodes for: Lin Epsilon-Greedy 0.3, 0.001, 0.1:   0%|          | 0/1000 [00:00<?, ?it/s]"
      ]
     },
     "metadata": {},
     "output_type": "display_data"
    },
    {
     "data": {
      "application/vnd.jupyter.widget-view+json": {
       "model_id": "eaba0b1fca494832b4f30693d7902d38",
       "version_major": 2,
       "version_minor": 0
      },
      "text/plain": [
       "Episodes for: Exp Epsilon-Greedy 1.0, 0.0, 0.1:   0%|          | 0/1000 [00:00<?, ?it/s]"
      ]
     },
     "metadata": {},
     "output_type": "display_data"
    },
    {
     "data": {
      "application/vnd.jupyter.widget-view+json": {
       "model_id": "b96000d66210421aabf04448cf1e7597",
       "version_major": 2,
       "version_minor": 0
      },
      "text/plain": [
       "Episodes for: Exp Epsilon-Greedy 0.3, 0.0, 0.3:   0%|          | 0/1000 [00:00<?, ?it/s]"
      ]
     },
     "metadata": {},
     "output_type": "display_data"
    },
    {
     "data": {
      "application/vnd.jupyter.widget-view+json": {
       "model_id": "31673825324e4b0cb27522f3852e8913",
       "version_major": 2,
       "version_minor": 0
      },
      "text/plain": [
       "Episodes for: Optimistic 1.0, 10:   0%|          | 0/1000 [00:00<?, ?it/s]"
      ]
     },
     "metadata": {},
     "output_type": "display_data"
    },
    {
     "data": {
      "application/vnd.jupyter.widget-view+json": {
       "model_id": "d2b1bcdbd4724bc6ac0ea6c755b452d0",
       "version_major": 2,
       "version_minor": 0
      },
      "text/plain": [
       "Episodes for: Optimistic 1.0, 50:   0%|          | 0/1000 [00:00<?, ?it/s]"
      ]
     },
     "metadata": {},
     "output_type": "display_data"
    },
    {
     "data": {
      "application/vnd.jupyter.widget-view+json": {
       "model_id": "2934977899854cf38da91779112f08e9",
       "version_major": 2,
       "version_minor": 0
      },
      "text/plain": [
       "Experiments with seed 78:   0%|          | 0/10 [00:00<?, ?it/s]"
      ]
     },
     "metadata": {},
     "output_type": "display_data"
    },
    {
     "data": {
      "application/vnd.jupyter.widget-view+json": {
       "model_id": "9845a3e69f6e47819b40fb0c697d312a",
       "version_major": 2,
       "version_minor": 0
      },
      "text/plain": [
       "Episodes for: Pure exploitation:   0%|          | 0/1000 [00:00<?, ?it/s]"
      ]
     },
     "metadata": {},
     "output_type": "display_data"
    },
    {
     "data": {
      "application/vnd.jupyter.widget-view+json": {
       "model_id": "3d3e91e7afcd4684b959038965b7a837",
       "version_major": 2,
       "version_minor": 0
      },
      "text/plain": [
       "Episodes for: Pure exploration:   0%|          | 0/1000 [00:00<?, ?it/s]"
      ]
     },
     "metadata": {},
     "output_type": "display_data"
    },
    {
     "data": {
      "application/vnd.jupyter.widget-view+json": {
       "model_id": "b722f39ccee54002b1cdf096095e29bb",
       "version_major": 2,
       "version_minor": 0
      },
      "text/plain": [
       "Episodes for: Pure exploration:   0%|          | 0/1000 [00:00<?, ?it/s]"
      ]
     },
     "metadata": {},
     "output_type": "display_data"
    },
    {
     "data": {
      "application/vnd.jupyter.widget-view+json": {
       "model_id": "ab868fe4d50a49f89a8002839d544704",
       "version_major": 2,
       "version_minor": 0
      },
      "text/plain": [
       "Episodes for: Pure exploration:   0%|          | 0/1000 [00:00<?, ?it/s]"
      ]
     },
     "metadata": {},
     "output_type": "display_data"
    },
    {
     "data": {
      "application/vnd.jupyter.widget-view+json": {
       "model_id": "ef8e2db1e76348e08f3a40ef21d5bee6",
       "version_major": 2,
       "version_minor": 0
      },
      "text/plain": [
       "Episodes for: Lin Epsilon-Greedy 1.0, 0.0, 0.1:   0%|          | 0/1000 [00:00<?, ?it/s]"
      ]
     },
     "metadata": {},
     "output_type": "display_data"
    },
    {
     "data": {
      "application/vnd.jupyter.widget-view+json": {
       "model_id": "7a1d2a04eef346d0aa4ef31a3545719d",
       "version_major": 2,
       "version_minor": 0
      },
      "text/plain": [
       "Episodes for: Lin Epsilon-Greedy 0.3, 0.001, 0.1:   0%|          | 0/1000 [00:00<?, ?it/s]"
      ]
     },
     "metadata": {},
     "output_type": "display_data"
    },
    {
     "data": {
      "application/vnd.jupyter.widget-view+json": {
       "model_id": "f7400d94fc054cf790ad049384b5c423",
       "version_major": 2,
       "version_minor": 0
      },
      "text/plain": [
       "Episodes for: Exp Epsilon-Greedy 1.0, 0.0, 0.1:   0%|          | 0/1000 [00:00<?, ?it/s]"
      ]
     },
     "metadata": {},
     "output_type": "display_data"
    },
    {
     "data": {
      "application/vnd.jupyter.widget-view+json": {
       "model_id": "6520ef1e70054bdbb029bef07460f386",
       "version_major": 2,
       "version_minor": 0
      },
      "text/plain": [
       "Episodes for: Exp Epsilon-Greedy 0.3, 0.0, 0.3:   0%|          | 0/1000 [00:00<?, ?it/s]"
      ]
     },
     "metadata": {},
     "output_type": "display_data"
    },
    {
     "data": {
      "application/vnd.jupyter.widget-view+json": {
       "model_id": "06e11d7c39514676b1506a0ab35d2bc6",
       "version_major": 2,
       "version_minor": 0
      },
      "text/plain": [
       "Episodes for: Optimistic 1.0, 10:   0%|          | 0/1000 [00:00<?, ?it/s]"
      ]
     },
     "metadata": {},
     "output_type": "display_data"
    },
    {
     "data": {
      "application/vnd.jupyter.widget-view+json": {
       "model_id": "90980a04eebd4852a36e4a5dce294d83",
       "version_major": 2,
       "version_minor": 0
      },
      "text/plain": [
       "Episodes for: Optimistic 1.0, 50:   0%|          | 0/1000 [00:00<?, ?it/s]"
      ]
     },
     "metadata": {},
     "output_type": "display_data"
    },
    {
     "data": {
      "application/vnd.jupyter.widget-view+json": {
       "model_id": "2f26c6a69acd43cc8bbc7d55ea84a506",
       "version_major": 2,
       "version_minor": 0
      },
      "text/plain": [
       "Experiments with seed 90:   0%|          | 0/10 [00:00<?, ?it/s]"
      ]
     },
     "metadata": {},
     "output_type": "display_data"
    },
    {
     "data": {
      "application/vnd.jupyter.widget-view+json": {
       "model_id": "94ba1123032340ea9c2236e74bad5df1",
       "version_major": 2,
       "version_minor": 0
      },
      "text/plain": [
       "Episodes for: Pure exploitation:   0%|          | 0/1000 [00:00<?, ?it/s]"
      ]
     },
     "metadata": {},
     "output_type": "display_data"
    },
    {
     "data": {
      "application/vnd.jupyter.widget-view+json": {
       "model_id": "fa23e871d7c44728bbd6f171977bd022",
       "version_major": 2,
       "version_minor": 0
      },
      "text/plain": [
       "Episodes for: Pure exploration:   0%|          | 0/1000 [00:00<?, ?it/s]"
      ]
     },
     "metadata": {},
     "output_type": "display_data"
    },
    {
     "data": {
      "application/vnd.jupyter.widget-view+json": {
       "model_id": "077697a22fed447c99eb1bd39ea35189",
       "version_major": 2,
       "version_minor": 0
      },
      "text/plain": [
       "Episodes for: Pure exploration:   0%|          | 0/1000 [00:00<?, ?it/s]"
      ]
     },
     "metadata": {},
     "output_type": "display_data"
    },
    {
     "data": {
      "application/vnd.jupyter.widget-view+json": {
       "model_id": "907f470eef344703834bededdfa692e7",
       "version_major": 2,
       "version_minor": 0
      },
      "text/plain": [
       "Episodes for: Pure exploration:   0%|          | 0/1000 [00:00<?, ?it/s]"
      ]
     },
     "metadata": {},
     "output_type": "display_data"
    },
    {
     "data": {
      "application/vnd.jupyter.widget-view+json": {
       "model_id": "2511bd1d2303464d8f20ab98383c3f24",
       "version_major": 2,
       "version_minor": 0
      },
      "text/plain": [
       "Episodes for: Lin Epsilon-Greedy 1.0, 0.0, 0.1:   0%|          | 0/1000 [00:00<?, ?it/s]"
      ]
     },
     "metadata": {},
     "output_type": "display_data"
    },
    {
     "data": {
      "application/vnd.jupyter.widget-view+json": {
       "model_id": "1ee3e88d52804a89a314ca8849027970",
       "version_major": 2,
       "version_minor": 0
      },
      "text/plain": [
       "Episodes for: Lin Epsilon-Greedy 0.3, 0.001, 0.1:   0%|          | 0/1000 [00:00<?, ?it/s]"
      ]
     },
     "metadata": {},
     "output_type": "display_data"
    },
    {
     "data": {
      "application/vnd.jupyter.widget-view+json": {
       "model_id": "093445f9a0e848a49622490a2b837839",
       "version_major": 2,
       "version_minor": 0
      },
      "text/plain": [
       "Episodes for: Exp Epsilon-Greedy 1.0, 0.0, 0.1:   0%|          | 0/1000 [00:00<?, ?it/s]"
      ]
     },
     "metadata": {},
     "output_type": "display_data"
    },
    {
     "data": {
      "application/vnd.jupyter.widget-view+json": {
       "model_id": "65e3e6e7f36b4f6fb67f4d4183b8e281",
       "version_major": 2,
       "version_minor": 0
      },
      "text/plain": [
       "Episodes for: Exp Epsilon-Greedy 0.3, 0.0, 0.3:   0%|          | 0/1000 [00:00<?, ?it/s]"
      ]
     },
     "metadata": {},
     "output_type": "display_data"
    },
    {
     "data": {
      "application/vnd.jupyter.widget-view+json": {
       "model_id": "ef64b233488540ddac1ed60a66c2a100",
       "version_major": 2,
       "version_minor": 0
      },
      "text/plain": [
       "Episodes for: Optimistic 1.0, 10:   0%|          | 0/1000 [00:00<?, ?it/s]"
      ]
     },
     "metadata": {},
     "output_type": "display_data"
    },
    {
     "data": {
      "application/vnd.jupyter.widget-view+json": {
       "model_id": "4f346d661fd741548676100ea52e3a0e",
       "version_major": 2,
       "version_minor": 0
      },
      "text/plain": [
       "Episodes for: Optimistic 1.0, 50:   0%|          | 0/1000 [00:00<?, ?it/s]"
      ]
     },
     "metadata": {},
     "output_type": "display_data"
    },
    {
     "data": {
      "application/vnd.jupyter.widget-view+json": {
       "model_id": "c84641db3ecc4e82ad9b47a06ff4c408",
       "version_major": 2,
       "version_minor": 0
      },
      "text/plain": [
       "All environments:   0%|          | 0/5 [00:00<?, ?it/s]"
      ]
     },
     "metadata": {},
     "output_type": "display_data"
    },
    {
     "data": {
      "application/vnd.jupyter.widget-view+json": {
       "model_id": "4e9ff7291cb34b9680be7d82434585f4",
       "version_major": 2,
       "version_minor": 0
      },
      "text/plain": [
       "Experiments with seed 12:   0%|          | 0/10 [00:00<?, ?it/s]"
      ]
     },
     "metadata": {},
     "output_type": "display_data"
    },
    {
     "data": {
      "application/vnd.jupyter.widget-view+json": {
       "model_id": "2f0a0a42175140998ab361fe83ba9fb3",
       "version_major": 2,
       "version_minor": 0
      },
      "text/plain": [
       "Episodes for: Pure exploitation:   0%|          | 0/1000 [00:00<?, ?it/s]"
      ]
     },
     "metadata": {},
     "output_type": "display_data"
    },
    {
     "data": {
      "application/vnd.jupyter.widget-view+json": {
       "model_id": "c9f93b7f29ab48e79573b8f8079cf651",
       "version_major": 2,
       "version_minor": 0
      },
      "text/plain": [
       "Episodes for: Pure exploration:   0%|          | 0/1000 [00:00<?, ?it/s]"
      ]
     },
     "metadata": {},
     "output_type": "display_data"
    },
    {
     "data": {
      "application/vnd.jupyter.widget-view+json": {
       "model_id": "23099ce28b6e4e23881a81c0b98c83f0",
       "version_major": 2,
       "version_minor": 0
      },
      "text/plain": [
       "Episodes for: Pure exploration:   0%|          | 0/1000 [00:00<?, ?it/s]"
      ]
     },
     "metadata": {},
     "output_type": "display_data"
    },
    {
     "data": {
      "application/vnd.jupyter.widget-view+json": {
       "model_id": "d0ad2f1e1ee842ecb9747c645e7fea56",
       "version_major": 2,
       "version_minor": 0
      },
      "text/plain": [
       "Episodes for: Pure exploration:   0%|          | 0/1000 [00:00<?, ?it/s]"
      ]
     },
     "metadata": {},
     "output_type": "display_data"
    },
    {
     "data": {
      "application/vnd.jupyter.widget-view+json": {
       "model_id": "bc16f5018da84c7a8d2fe2fb31573aa5",
       "version_major": 2,
       "version_minor": 0
      },
      "text/plain": [
       "Episodes for: Lin Epsilon-Greedy 1.0, 0.0, 0.1:   0%|          | 0/1000 [00:00<?, ?it/s]"
      ]
     },
     "metadata": {},
     "output_type": "display_data"
    },
    {
     "data": {
      "application/vnd.jupyter.widget-view+json": {
       "model_id": "5f302d865b6b48a9aad0db562ce2c8de",
       "version_major": 2,
       "version_minor": 0
      },
      "text/plain": [
       "Episodes for: Lin Epsilon-Greedy 0.3, 0.001, 0.1:   0%|          | 0/1000 [00:00<?, ?it/s]"
      ]
     },
     "metadata": {},
     "output_type": "display_data"
    },
    {
     "data": {
      "application/vnd.jupyter.widget-view+json": {
       "model_id": "20c6059aa2b049819fbcf11bee78b740",
       "version_major": 2,
       "version_minor": 0
      },
      "text/plain": [
       "Episodes for: Exp Epsilon-Greedy 1.0, 0.0, 0.1:   0%|          | 0/1000 [00:00<?, ?it/s]"
      ]
     },
     "metadata": {},
     "output_type": "display_data"
    },
    {
     "data": {
      "application/vnd.jupyter.widget-view+json": {
       "model_id": "fec0ddd63f7249f590a99bc18289d9ad",
       "version_major": 2,
       "version_minor": 0
      },
      "text/plain": [
       "Episodes for: Exp Epsilon-Greedy 0.3, 0.0, 0.3:   0%|          | 0/1000 [00:00<?, ?it/s]"
      ]
     },
     "metadata": {},
     "output_type": "display_data"
    },
    {
     "data": {
      "application/vnd.jupyter.widget-view+json": {
       "model_id": "e42e90cb35484345b631f7b2a384f3cd",
       "version_major": 2,
       "version_minor": 0
      },
      "text/plain": [
       "Episodes for: Optimistic 1.0, 10:   0%|          | 0/1000 [00:00<?, ?it/s]"
      ]
     },
     "metadata": {},
     "output_type": "display_data"
    },
    {
     "data": {
      "application/vnd.jupyter.widget-view+json": {
       "model_id": "c36f88ba57d94eebbc6872bc5d732686",
       "version_major": 2,
       "version_minor": 0
      },
      "text/plain": [
       "Episodes for: Optimistic 1.0, 50:   0%|          | 0/1000 [00:00<?, ?it/s]"
      ]
     },
     "metadata": {},
     "output_type": "display_data"
    },
    {
     "data": {
      "application/vnd.jupyter.widget-view+json": {
       "model_id": "44d52e5d16f34b0aabf08715c8652d75",
       "version_major": 2,
       "version_minor": 0
      },
      "text/plain": [
       "Experiments with seed 34:   0%|          | 0/10 [00:00<?, ?it/s]"
      ]
     },
     "metadata": {},
     "output_type": "display_data"
    },
    {
     "data": {
      "application/vnd.jupyter.widget-view+json": {
       "model_id": "56396d7028054b4a9b6081e89d51dccb",
       "version_major": 2,
       "version_minor": 0
      },
      "text/plain": [
       "Episodes for: Pure exploitation:   0%|          | 0/1000 [00:00<?, ?it/s]"
      ]
     },
     "metadata": {},
     "output_type": "display_data"
    },
    {
     "data": {
      "application/vnd.jupyter.widget-view+json": {
       "model_id": "e183df61e00842089006cb1474d937fc",
       "version_major": 2,
       "version_minor": 0
      },
      "text/plain": [
       "Episodes for: Pure exploration:   0%|          | 0/1000 [00:00<?, ?it/s]"
      ]
     },
     "metadata": {},
     "output_type": "display_data"
    },
    {
     "data": {
      "application/vnd.jupyter.widget-view+json": {
       "model_id": "fa860e92e00c459fbd7765ac192b6ac6",
       "version_major": 2,
       "version_minor": 0
      },
      "text/plain": [
       "Episodes for: Pure exploration:   0%|          | 0/1000 [00:00<?, ?it/s]"
      ]
     },
     "metadata": {},
     "output_type": "display_data"
    },
    {
     "data": {
      "application/vnd.jupyter.widget-view+json": {
       "model_id": "abf70b063d3b4e86bad8c6b6a8734aad",
       "version_major": 2,
       "version_minor": 0
      },
      "text/plain": [
       "Episodes for: Pure exploration:   0%|          | 0/1000 [00:00<?, ?it/s]"
      ]
     },
     "metadata": {},
     "output_type": "display_data"
    },
    {
     "data": {
      "application/vnd.jupyter.widget-view+json": {
       "model_id": "cffa2119cc5048c7bc8d2ef5d4f40e4c",
       "version_major": 2,
       "version_minor": 0
      },
      "text/plain": [
       "Episodes for: Lin Epsilon-Greedy 1.0, 0.0, 0.1:   0%|          | 0/1000 [00:00<?, ?it/s]"
      ]
     },
     "metadata": {},
     "output_type": "display_data"
    },
    {
     "data": {
      "application/vnd.jupyter.widget-view+json": {
       "model_id": "088864e0b0d64c0ea1eda87a2dea2ece",
       "version_major": 2,
       "version_minor": 0
      },
      "text/plain": [
       "Episodes for: Lin Epsilon-Greedy 0.3, 0.001, 0.1:   0%|          | 0/1000 [00:00<?, ?it/s]"
      ]
     },
     "metadata": {},
     "output_type": "display_data"
    },
    {
     "data": {
      "application/vnd.jupyter.widget-view+json": {
       "model_id": "ae3044dd5c4d4f559a1e9fa5578e51c4",
       "version_major": 2,
       "version_minor": 0
      },
      "text/plain": [
       "Episodes for: Exp Epsilon-Greedy 1.0, 0.0, 0.1:   0%|          | 0/1000 [00:00<?, ?it/s]"
      ]
     },
     "metadata": {},
     "output_type": "display_data"
    },
    {
     "data": {
      "application/vnd.jupyter.widget-view+json": {
       "model_id": "5e74ea6a08ea4b34bb0540020147a338",
       "version_major": 2,
       "version_minor": 0
      },
      "text/plain": [
       "Episodes for: Exp Epsilon-Greedy 0.3, 0.0, 0.3:   0%|          | 0/1000 [00:00<?, ?it/s]"
      ]
     },
     "metadata": {},
     "output_type": "display_data"
    },
    {
     "data": {
      "application/vnd.jupyter.widget-view+json": {
       "model_id": "546b28ba3491403b9b91d05a60fca9bc",
       "version_major": 2,
       "version_minor": 0
      },
      "text/plain": [
       "Episodes for: Optimistic 1.0, 10:   0%|          | 0/1000 [00:00<?, ?it/s]"
      ]
     },
     "metadata": {},
     "output_type": "display_data"
    },
    {
     "data": {
      "application/vnd.jupyter.widget-view+json": {
       "model_id": "210a495b5e6449d1bbb8bdccaddc02d4",
       "version_major": 2,
       "version_minor": 0
      },
      "text/plain": [
       "Episodes for: Optimistic 1.0, 50:   0%|          | 0/1000 [00:00<?, ?it/s]"
      ]
     },
     "metadata": {},
     "output_type": "display_data"
    },
    {
     "data": {
      "application/vnd.jupyter.widget-view+json": {
       "model_id": "ebf66cce45924bedbc29e8cf542d8a69",
       "version_major": 2,
       "version_minor": 0
      },
      "text/plain": [
       "Experiments with seed 56:   0%|          | 0/10 [00:00<?, ?it/s]"
      ]
     },
     "metadata": {},
     "output_type": "display_data"
    },
    {
     "data": {
      "application/vnd.jupyter.widget-view+json": {
       "model_id": "af45580e16cf479a8ec90bbdb6a96adf",
       "version_major": 2,
       "version_minor": 0
      },
      "text/plain": [
       "Episodes for: Pure exploitation:   0%|          | 0/1000 [00:00<?, ?it/s]"
      ]
     },
     "metadata": {},
     "output_type": "display_data"
    },
    {
     "data": {
      "application/vnd.jupyter.widget-view+json": {
       "model_id": "03e6d92bd73546c09b25858d7404d074",
       "version_major": 2,
       "version_minor": 0
      },
      "text/plain": [
       "Episodes for: Pure exploration:   0%|          | 0/1000 [00:00<?, ?it/s]"
      ]
     },
     "metadata": {},
     "output_type": "display_data"
    },
    {
     "data": {
      "application/vnd.jupyter.widget-view+json": {
       "model_id": "04adfd528f85481b8fc0817463b83705",
       "version_major": 2,
       "version_minor": 0
      },
      "text/plain": [
       "Episodes for: Pure exploration:   0%|          | 0/1000 [00:00<?, ?it/s]"
      ]
     },
     "metadata": {},
     "output_type": "display_data"
    },
    {
     "data": {
      "application/vnd.jupyter.widget-view+json": {
       "model_id": "a4831d43d149477d9a400a6a81693d5c",
       "version_major": 2,
       "version_minor": 0
      },
      "text/plain": [
       "Episodes for: Pure exploration:   0%|          | 0/1000 [00:00<?, ?it/s]"
      ]
     },
     "metadata": {},
     "output_type": "display_data"
    },
    {
     "data": {
      "application/vnd.jupyter.widget-view+json": {
       "model_id": "78dcfd555b084ff9a5d723047a33ca4a",
       "version_major": 2,
       "version_minor": 0
      },
      "text/plain": [
       "Episodes for: Lin Epsilon-Greedy 1.0, 0.0, 0.1:   0%|          | 0/1000 [00:00<?, ?it/s]"
      ]
     },
     "metadata": {},
     "output_type": "display_data"
    },
    {
     "data": {
      "application/vnd.jupyter.widget-view+json": {
       "model_id": "22f18077656a4017a8fc0b49da88089f",
       "version_major": 2,
       "version_minor": 0
      },
      "text/plain": [
       "Episodes for: Lin Epsilon-Greedy 0.3, 0.001, 0.1:   0%|          | 0/1000 [00:00<?, ?it/s]"
      ]
     },
     "metadata": {},
     "output_type": "display_data"
    },
    {
     "data": {
      "application/vnd.jupyter.widget-view+json": {
       "model_id": "04bf4f17bdf74875a86c028dd2cad86b",
       "version_major": 2,
       "version_minor": 0
      },
      "text/plain": [
       "Episodes for: Exp Epsilon-Greedy 1.0, 0.0, 0.1:   0%|          | 0/1000 [00:00<?, ?it/s]"
      ]
     },
     "metadata": {},
     "output_type": "display_data"
    },
    {
     "data": {
      "application/vnd.jupyter.widget-view+json": {
       "model_id": "39bc1d21d51b4c33b502d8e4b95551fa",
       "version_major": 2,
       "version_minor": 0
      },
      "text/plain": [
       "Episodes for: Exp Epsilon-Greedy 0.3, 0.0, 0.3:   0%|          | 0/1000 [00:00<?, ?it/s]"
      ]
     },
     "metadata": {},
     "output_type": "display_data"
    },
    {
     "data": {
      "application/vnd.jupyter.widget-view+json": {
       "model_id": "5ecd24db581e4581af900d4996b136c7",
       "version_major": 2,
       "version_minor": 0
      },
      "text/plain": [
       "Episodes for: Optimistic 1.0, 10:   0%|          | 0/1000 [00:00<?, ?it/s]"
      ]
     },
     "metadata": {},
     "output_type": "display_data"
    },
    {
     "data": {
      "application/vnd.jupyter.widget-view+json": {
       "model_id": "9245a7e1f9264680982f48e737ddd78d",
       "version_major": 2,
       "version_minor": 0
      },
      "text/plain": [
       "Episodes for: Optimistic 1.0, 50:   0%|          | 0/1000 [00:00<?, ?it/s]"
      ]
     },
     "metadata": {},
     "output_type": "display_data"
    },
    {
     "data": {
      "application/vnd.jupyter.widget-view+json": {
       "model_id": "a05f70a658de41b3a3be140fbf449634",
       "version_major": 2,
       "version_minor": 0
      },
      "text/plain": [
       "Experiments with seed 78:   0%|          | 0/10 [00:00<?, ?it/s]"
      ]
     },
     "metadata": {},
     "output_type": "display_data"
    },
    {
     "data": {
      "application/vnd.jupyter.widget-view+json": {
       "model_id": "7cb2c4c1599f406a89c2df9ea02936a3",
       "version_major": 2,
       "version_minor": 0
      },
      "text/plain": [
       "Episodes for: Pure exploitation:   0%|          | 0/1000 [00:00<?, ?it/s]"
      ]
     },
     "metadata": {},
     "output_type": "display_data"
    },
    {
     "data": {
      "application/vnd.jupyter.widget-view+json": {
       "model_id": "4d1ee7de77674227a19d04e2ec0746ce",
       "version_major": 2,
       "version_minor": 0
      },
      "text/plain": [
       "Episodes for: Pure exploration:   0%|          | 0/1000 [00:00<?, ?it/s]"
      ]
     },
     "metadata": {},
     "output_type": "display_data"
    },
    {
     "data": {
      "application/vnd.jupyter.widget-view+json": {
       "model_id": "9a2fe661ca304101b505c426395b2e5f",
       "version_major": 2,
       "version_minor": 0
      },
      "text/plain": [
       "Episodes for: Pure exploration:   0%|          | 0/1000 [00:00<?, ?it/s]"
      ]
     },
     "metadata": {},
     "output_type": "display_data"
    },
    {
     "data": {
      "application/vnd.jupyter.widget-view+json": {
       "model_id": "ddbb4f7546cc4dd8a758a82707be88ef",
       "version_major": 2,
       "version_minor": 0
      },
      "text/plain": [
       "Episodes for: Pure exploration:   0%|          | 0/1000 [00:00<?, ?it/s]"
      ]
     },
     "metadata": {},
     "output_type": "display_data"
    },
    {
     "data": {
      "application/vnd.jupyter.widget-view+json": {
       "model_id": "faec822090ef438eb01b82bf9d962229",
       "version_major": 2,
       "version_minor": 0
      },
      "text/plain": [
       "Episodes for: Lin Epsilon-Greedy 1.0, 0.0, 0.1:   0%|          | 0/1000 [00:00<?, ?it/s]"
      ]
     },
     "metadata": {},
     "output_type": "display_data"
    },
    {
     "data": {
      "application/vnd.jupyter.widget-view+json": {
       "model_id": "5558c482aaaa41e9a771227b39543559",
       "version_major": 2,
       "version_minor": 0
      },
      "text/plain": [
       "Episodes for: Lin Epsilon-Greedy 0.3, 0.001, 0.1:   0%|          | 0/1000 [00:00<?, ?it/s]"
      ]
     },
     "metadata": {},
     "output_type": "display_data"
    },
    {
     "data": {
      "application/vnd.jupyter.widget-view+json": {
       "model_id": "022ec66d219f42f09a9d859928d38e64",
       "version_major": 2,
       "version_minor": 0
      },
      "text/plain": [
       "Episodes for: Exp Epsilon-Greedy 1.0, 0.0, 0.1:   0%|          | 0/1000 [00:00<?, ?it/s]"
      ]
     },
     "metadata": {},
     "output_type": "display_data"
    },
    {
     "data": {
      "application/vnd.jupyter.widget-view+json": {
       "model_id": "5bcfcd744878442a98e7fae81df21ccf",
       "version_major": 2,
       "version_minor": 0
      },
      "text/plain": [
       "Episodes for: Exp Epsilon-Greedy 0.3, 0.0, 0.3:   0%|          | 0/1000 [00:00<?, ?it/s]"
      ]
     },
     "metadata": {},
     "output_type": "display_data"
    },
    {
     "data": {
      "application/vnd.jupyter.widget-view+json": {
       "model_id": "7e9bd249c039496b99d695de915684b6",
       "version_major": 2,
       "version_minor": 0
      },
      "text/plain": [
       "Episodes for: Optimistic 1.0, 10:   0%|          | 0/1000 [00:00<?, ?it/s]"
      ]
     },
     "metadata": {},
     "output_type": "display_data"
    },
    {
     "data": {
      "application/vnd.jupyter.widget-view+json": {
       "model_id": "d88554e52d6f4b72948c1b59feaffc7d",
       "version_major": 2,
       "version_minor": 0
      },
      "text/plain": [
       "Episodes for: Optimistic 1.0, 50:   0%|          | 0/1000 [00:00<?, ?it/s]"
      ]
     },
     "metadata": {},
     "output_type": "display_data"
    },
    {
     "data": {
      "application/vnd.jupyter.widget-view+json": {
       "model_id": "3cbfcc44a756415bb97b1cbe4e445277",
       "version_major": 2,
       "version_minor": 0
      },
      "text/plain": [
       "Experiments with seed 90:   0%|          | 0/10 [00:00<?, ?it/s]"
      ]
     },
     "metadata": {},
     "output_type": "display_data"
    },
    {
     "data": {
      "application/vnd.jupyter.widget-view+json": {
       "model_id": "ddfda1dfaf894ef887c2c1c67fda28a2",
       "version_major": 2,
       "version_minor": 0
      },
      "text/plain": [
       "Episodes for: Pure exploitation:   0%|          | 0/1000 [00:00<?, ?it/s]"
      ]
     },
     "metadata": {},
     "output_type": "display_data"
    },
    {
     "data": {
      "application/vnd.jupyter.widget-view+json": {
       "model_id": "875c04344f4147688d2c4b0de5bdc79c",
       "version_major": 2,
       "version_minor": 0
      },
      "text/plain": [
       "Episodes for: Pure exploration:   0%|          | 0/1000 [00:00<?, ?it/s]"
      ]
     },
     "metadata": {},
     "output_type": "display_data"
    },
    {
     "data": {
      "application/vnd.jupyter.widget-view+json": {
       "model_id": "df6a9e32829b4347a95faf12cde5127f",
       "version_major": 2,
       "version_minor": 0
      },
      "text/plain": [
       "Episodes for: Pure exploration:   0%|          | 0/1000 [00:00<?, ?it/s]"
      ]
     },
     "metadata": {},
     "output_type": "display_data"
    },
    {
     "data": {
      "application/vnd.jupyter.widget-view+json": {
       "model_id": "97e05e7026be47ffb09dde9ad459368d",
       "version_major": 2,
       "version_minor": 0
      },
      "text/plain": [
       "Episodes for: Pure exploration:   0%|          | 0/1000 [00:00<?, ?it/s]"
      ]
     },
     "metadata": {},
     "output_type": "display_data"
    },
    {
     "data": {
      "application/vnd.jupyter.widget-view+json": {
       "model_id": "13f81a15770c4b5094f5f03dc0c2c26f",
       "version_major": 2,
       "version_minor": 0
      },
      "text/plain": [
       "Episodes for: Lin Epsilon-Greedy 1.0, 0.0, 0.1:   0%|          | 0/1000 [00:00<?, ?it/s]"
      ]
     },
     "metadata": {},
     "output_type": "display_data"
    },
    {
     "data": {
      "application/vnd.jupyter.widget-view+json": {
       "model_id": "1fbb6042275649b285194f181d6da85f",
       "version_major": 2,
       "version_minor": 0
      },
      "text/plain": [
       "Episodes for: Lin Epsilon-Greedy 0.3, 0.001, 0.1:   0%|          | 0/1000 [00:00<?, ?it/s]"
      ]
     },
     "metadata": {},
     "output_type": "display_data"
    },
    {
     "data": {
      "application/vnd.jupyter.widget-view+json": {
       "model_id": "6dc7abd049e941a8a16f91d79008f58a",
       "version_major": 2,
       "version_minor": 0
      },
      "text/plain": [
       "Episodes for: Exp Epsilon-Greedy 1.0, 0.0, 0.1:   0%|          | 0/1000 [00:00<?, ?it/s]"
      ]
     },
     "metadata": {},
     "output_type": "display_data"
    },
    {
     "data": {
      "application/vnd.jupyter.widget-view+json": {
       "model_id": "c25a2f1bd5ad4c6193660ca02d9f93b1",
       "version_major": 2,
       "version_minor": 0
      },
      "text/plain": [
       "Episodes for: Exp Epsilon-Greedy 0.3, 0.0, 0.3:   0%|          | 0/1000 [00:00<?, ?it/s]"
      ]
     },
     "metadata": {},
     "output_type": "display_data"
    },
    {
     "data": {
      "application/vnd.jupyter.widget-view+json": {
       "model_id": "3f9328b4ff72423896956ec3588a2769",
       "version_major": 2,
       "version_minor": 0
      },
      "text/plain": [
       "Episodes for: Optimistic 1.0, 10:   0%|          | 0/1000 [00:00<?, ?it/s]"
      ]
     },
     "metadata": {},
     "output_type": "display_data"
    },
    {
     "data": {
      "application/vnd.jupyter.widget-view+json": {
       "model_id": "bd7647f4dc1442678c17746ee4df2d53",
       "version_major": 2,
       "version_minor": 0
      },
      "text/plain": [
       "Episodes for: Optimistic 1.0, 50:   0%|          | 0/1000 [00:00<?, ?it/s]"
      ]
     },
     "metadata": {},
     "output_type": "display_data"
    },
    {
     "data": {
      "application/vnd.jupyter.widget-view+json": {
       "model_id": "a3b06e82803145b8b090e9d8617b32b1",
       "version_major": 2,
       "version_minor": 0
      },
      "text/plain": [
       "All environments:   0%|          | 0/5 [00:00<?, ?it/s]"
      ]
     },
     "metadata": {},
     "output_type": "display_data"
    },
    {
     "data": {
      "application/vnd.jupyter.widget-view+json": {
       "model_id": "a3656708690645bb91a8842f51d10178",
       "version_major": 2,
       "version_minor": 0
      },
      "text/plain": [
       "Experiments with seed 12:   0%|          | 0/10 [00:00<?, ?it/s]"
      ]
     },
     "metadata": {},
     "output_type": "display_data"
    },
    {
     "data": {
      "application/vnd.jupyter.widget-view+json": {
       "model_id": "ff509e443f9a49098d95e75c3972dea9",
       "version_major": 2,
       "version_minor": 0
      },
      "text/plain": [
       "Episodes for: Pure exploitation:   0%|          | 0/1000 [00:00<?, ?it/s]"
      ]
     },
     "metadata": {},
     "output_type": "display_data"
    },
    {
     "data": {
      "application/vnd.jupyter.widget-view+json": {
       "model_id": "b0ff0dbfe7404348ada22f1a4d6141cd",
       "version_major": 2,
       "version_minor": 0
      },
      "text/plain": [
       "Episodes for: Pure exploration:   0%|          | 0/1000 [00:00<?, ?it/s]"
      ]
     },
     "metadata": {},
     "output_type": "display_data"
    },
    {
     "data": {
      "application/vnd.jupyter.widget-view+json": {
       "model_id": "4f0dcbf63a274f10950e57102738fed5",
       "version_major": 2,
       "version_minor": 0
      },
      "text/plain": [
       "Episodes for: Pure exploration:   0%|          | 0/1000 [00:00<?, ?it/s]"
      ]
     },
     "metadata": {},
     "output_type": "display_data"
    },
    {
     "data": {
      "application/vnd.jupyter.widget-view+json": {
       "model_id": "965b1b8b092544778d611ad1c9792ea7",
       "version_major": 2,
       "version_minor": 0
      },
      "text/plain": [
       "Episodes for: Pure exploration:   0%|          | 0/1000 [00:00<?, ?it/s]"
      ]
     },
     "metadata": {},
     "output_type": "display_data"
    },
    {
     "data": {
      "application/vnd.jupyter.widget-view+json": {
       "model_id": "4c7a50bee72f431287f1406d41fc4f37",
       "version_major": 2,
       "version_minor": 0
      },
      "text/plain": [
       "Episodes for: Lin Epsilon-Greedy 1.0, 0.0, 0.1:   0%|          | 0/1000 [00:00<?, ?it/s]"
      ]
     },
     "metadata": {},
     "output_type": "display_data"
    },
    {
     "data": {
      "application/vnd.jupyter.widget-view+json": {
       "model_id": "187a49e640de4e5388a37b72d76f38df",
       "version_major": 2,
       "version_minor": 0
      },
      "text/plain": [
       "Episodes for: Lin Epsilon-Greedy 0.3, 0.001, 0.1:   0%|          | 0/1000 [00:00<?, ?it/s]"
      ]
     },
     "metadata": {},
     "output_type": "display_data"
    },
    {
     "data": {
      "application/vnd.jupyter.widget-view+json": {
       "model_id": "ab03e17ad9ec4af7bb00f2e3d8b7622f",
       "version_major": 2,
       "version_minor": 0
      },
      "text/plain": [
       "Episodes for: Exp Epsilon-Greedy 1.0, 0.0, 0.1:   0%|          | 0/1000 [00:00<?, ?it/s]"
      ]
     },
     "metadata": {},
     "output_type": "display_data"
    },
    {
     "data": {
      "application/vnd.jupyter.widget-view+json": {
       "model_id": "031d7d3f82134140ab84f4a4c46dda2f",
       "version_major": 2,
       "version_minor": 0
      },
      "text/plain": [
       "Episodes for: Exp Epsilon-Greedy 0.3, 0.0, 0.3:   0%|          | 0/1000 [00:00<?, ?it/s]"
      ]
     },
     "metadata": {},
     "output_type": "display_data"
    },
    {
     "data": {
      "application/vnd.jupyter.widget-view+json": {
       "model_id": "8e287b9a40164b378b83e04f67ec4633",
       "version_major": 2,
       "version_minor": 0
      },
      "text/plain": [
       "Episodes for: Optimistic 1.0, 10:   0%|          | 0/1000 [00:00<?, ?it/s]"
      ]
     },
     "metadata": {},
     "output_type": "display_data"
    },
    {
     "data": {
      "application/vnd.jupyter.widget-view+json": {
       "model_id": "e02e3520f83c4b2c84d33b7a44c08e36",
       "version_major": 2,
       "version_minor": 0
      },
      "text/plain": [
       "Episodes for: Optimistic 1.0, 50:   0%|          | 0/1000 [00:00<?, ?it/s]"
      ]
     },
     "metadata": {},
     "output_type": "display_data"
    },
    {
     "data": {
      "application/vnd.jupyter.widget-view+json": {
       "model_id": "06a33a05042d487a94efabca696af85d",
       "version_major": 2,
       "version_minor": 0
      },
      "text/plain": [
       "Experiments with seed 34:   0%|          | 0/10 [00:00<?, ?it/s]"
      ]
     },
     "metadata": {},
     "output_type": "display_data"
    },
    {
     "data": {
      "application/vnd.jupyter.widget-view+json": {
       "model_id": "1641da55c4714f7aaf1200382a3e40e9",
       "version_major": 2,
       "version_minor": 0
      },
      "text/plain": [
       "Episodes for: Pure exploitation:   0%|          | 0/1000 [00:00<?, ?it/s]"
      ]
     },
     "metadata": {},
     "output_type": "display_data"
    },
    {
     "data": {
      "application/vnd.jupyter.widget-view+json": {
       "model_id": "77723c48abdc484d9c41c73b6b629112",
       "version_major": 2,
       "version_minor": 0
      },
      "text/plain": [
       "Episodes for: Pure exploration:   0%|          | 0/1000 [00:00<?, ?it/s]"
      ]
     },
     "metadata": {},
     "output_type": "display_data"
    },
    {
     "data": {
      "application/vnd.jupyter.widget-view+json": {
       "model_id": "bc85439e4cd14a18b50f9f4107b294f2",
       "version_major": 2,
       "version_minor": 0
      },
      "text/plain": [
       "Episodes for: Pure exploration:   0%|          | 0/1000 [00:00<?, ?it/s]"
      ]
     },
     "metadata": {},
     "output_type": "display_data"
    },
    {
     "data": {
      "application/vnd.jupyter.widget-view+json": {
       "model_id": "6b84433377634a649c9b6ea12e6e0687",
       "version_major": 2,
       "version_minor": 0
      },
      "text/plain": [
       "Episodes for: Pure exploration:   0%|          | 0/1000 [00:00<?, ?it/s]"
      ]
     },
     "metadata": {},
     "output_type": "display_data"
    },
    {
     "data": {
      "application/vnd.jupyter.widget-view+json": {
       "model_id": "5b1fbbf6ce4645bcbef7339611a987be",
       "version_major": 2,
       "version_minor": 0
      },
      "text/plain": [
       "Episodes for: Lin Epsilon-Greedy 1.0, 0.0, 0.1:   0%|          | 0/1000 [00:00<?, ?it/s]"
      ]
     },
     "metadata": {},
     "output_type": "display_data"
    },
    {
     "data": {
      "application/vnd.jupyter.widget-view+json": {
       "model_id": "6e7310d7b8f9448298f8d17c25b20cf7",
       "version_major": 2,
       "version_minor": 0
      },
      "text/plain": [
       "Episodes for: Lin Epsilon-Greedy 0.3, 0.001, 0.1:   0%|          | 0/1000 [00:00<?, ?it/s]"
      ]
     },
     "metadata": {},
     "output_type": "display_data"
    },
    {
     "data": {
      "application/vnd.jupyter.widget-view+json": {
       "model_id": "39173fdd33154ec0946329de363d2b44",
       "version_major": 2,
       "version_minor": 0
      },
      "text/plain": [
       "Episodes for: Exp Epsilon-Greedy 1.0, 0.0, 0.1:   0%|          | 0/1000 [00:00<?, ?it/s]"
      ]
     },
     "metadata": {},
     "output_type": "display_data"
    },
    {
     "data": {
      "application/vnd.jupyter.widget-view+json": {
       "model_id": "379bdf95df4743db9b9e652327117236",
       "version_major": 2,
       "version_minor": 0
      },
      "text/plain": [
       "Episodes for: Exp Epsilon-Greedy 0.3, 0.0, 0.3:   0%|          | 0/1000 [00:00<?, ?it/s]"
      ]
     },
     "metadata": {},
     "output_type": "display_data"
    },
    {
     "data": {
      "application/vnd.jupyter.widget-view+json": {
       "model_id": "6225ea7dd5324e7fa6df7fee2e81368d",
       "version_major": 2,
       "version_minor": 0
      },
      "text/plain": [
       "Episodes for: Optimistic 1.0, 10:   0%|          | 0/1000 [00:00<?, ?it/s]"
      ]
     },
     "metadata": {},
     "output_type": "display_data"
    },
    {
     "data": {
      "application/vnd.jupyter.widget-view+json": {
       "model_id": "4145be49ba404b5d8cf03d4ac09559ca",
       "version_major": 2,
       "version_minor": 0
      },
      "text/plain": [
       "Episodes for: Optimistic 1.0, 50:   0%|          | 0/1000 [00:00<?, ?it/s]"
      ]
     },
     "metadata": {},
     "output_type": "display_data"
    },
    {
     "data": {
      "application/vnd.jupyter.widget-view+json": {
       "model_id": "2569882e16d04310b32dc95fe85079c9",
       "version_major": 2,
       "version_minor": 0
      },
      "text/plain": [
       "Experiments with seed 56:   0%|          | 0/10 [00:00<?, ?it/s]"
      ]
     },
     "metadata": {},
     "output_type": "display_data"
    },
    {
     "data": {
      "application/vnd.jupyter.widget-view+json": {
       "model_id": "1cda899f4f4c433e9760456b507a6255",
       "version_major": 2,
       "version_minor": 0
      },
      "text/plain": [
       "Episodes for: Pure exploitation:   0%|          | 0/1000 [00:00<?, ?it/s]"
      ]
     },
     "metadata": {},
     "output_type": "display_data"
    },
    {
     "data": {
      "application/vnd.jupyter.widget-view+json": {
       "model_id": "5c609705e37446dca22daeb4bce228c1",
       "version_major": 2,
       "version_minor": 0
      },
      "text/plain": [
       "Episodes for: Pure exploration:   0%|          | 0/1000 [00:00<?, ?it/s]"
      ]
     },
     "metadata": {},
     "output_type": "display_data"
    },
    {
     "data": {
      "application/vnd.jupyter.widget-view+json": {
       "model_id": "752bc47f598542beb6df80b77285bfa4",
       "version_major": 2,
       "version_minor": 0
      },
      "text/plain": [
       "Episodes for: Pure exploration:   0%|          | 0/1000 [00:00<?, ?it/s]"
      ]
     },
     "metadata": {},
     "output_type": "display_data"
    },
    {
     "data": {
      "application/vnd.jupyter.widget-view+json": {
       "model_id": "fa9e5a3f56874d6994aeb51db34787dd",
       "version_major": 2,
       "version_minor": 0
      },
      "text/plain": [
       "Episodes for: Pure exploration:   0%|          | 0/1000 [00:00<?, ?it/s]"
      ]
     },
     "metadata": {},
     "output_type": "display_data"
    },
    {
     "data": {
      "application/vnd.jupyter.widget-view+json": {
       "model_id": "db4a8f24122a4be5aa74ed35b45917bd",
       "version_major": 2,
       "version_minor": 0
      },
      "text/plain": [
       "Episodes for: Lin Epsilon-Greedy 1.0, 0.0, 0.1:   0%|          | 0/1000 [00:00<?, ?it/s]"
      ]
     },
     "metadata": {},
     "output_type": "display_data"
    },
    {
     "data": {
      "application/vnd.jupyter.widget-view+json": {
       "model_id": "65281832947b4d83acd799540cf7745a",
       "version_major": 2,
       "version_minor": 0
      },
      "text/plain": [
       "Episodes for: Lin Epsilon-Greedy 0.3, 0.001, 0.1:   0%|          | 0/1000 [00:00<?, ?it/s]"
      ]
     },
     "metadata": {},
     "output_type": "display_data"
    },
    {
     "data": {
      "application/vnd.jupyter.widget-view+json": {
       "model_id": "a3f116a036d349cba6c5a6b37cd241c5",
       "version_major": 2,
       "version_minor": 0
      },
      "text/plain": [
       "Episodes for: Exp Epsilon-Greedy 1.0, 0.0, 0.1:   0%|          | 0/1000 [00:00<?, ?it/s]"
      ]
     },
     "metadata": {},
     "output_type": "display_data"
    },
    {
     "data": {
      "application/vnd.jupyter.widget-view+json": {
       "model_id": "dd94395dc8d54977b29e065fe31a0d11",
       "version_major": 2,
       "version_minor": 0
      },
      "text/plain": [
       "Episodes for: Exp Epsilon-Greedy 0.3, 0.0, 0.3:   0%|          | 0/1000 [00:00<?, ?it/s]"
      ]
     },
     "metadata": {},
     "output_type": "display_data"
    },
    {
     "data": {
      "application/vnd.jupyter.widget-view+json": {
       "model_id": "4ea4c139b5294f41b8d00601dd9743fe",
       "version_major": 2,
       "version_minor": 0
      },
      "text/plain": [
       "Episodes for: Optimistic 1.0, 10:   0%|          | 0/1000 [00:00<?, ?it/s]"
      ]
     },
     "metadata": {},
     "output_type": "display_data"
    },
    {
     "data": {
      "application/vnd.jupyter.widget-view+json": {
       "model_id": "4d21fe0c2d6e421bae22082c3919c93b",
       "version_major": 2,
       "version_minor": 0
      },
      "text/plain": [
       "Episodes for: Optimistic 1.0, 50:   0%|          | 0/1000 [00:00<?, ?it/s]"
      ]
     },
     "metadata": {},
     "output_type": "display_data"
    },
    {
     "data": {
      "application/vnd.jupyter.widget-view+json": {
       "model_id": "0a65b8dea83140d78ae9d26b4be49de5",
       "version_major": 2,
       "version_minor": 0
      },
      "text/plain": [
       "Experiments with seed 78:   0%|          | 0/10 [00:00<?, ?it/s]"
      ]
     },
     "metadata": {},
     "output_type": "display_data"
    },
    {
     "data": {
      "application/vnd.jupyter.widget-view+json": {
       "model_id": "c579d3ae749248ad854152cc590267b1",
       "version_major": 2,
       "version_minor": 0
      },
      "text/plain": [
       "Episodes for: Pure exploitation:   0%|          | 0/1000 [00:00<?, ?it/s]"
      ]
     },
     "metadata": {},
     "output_type": "display_data"
    },
    {
     "data": {
      "application/vnd.jupyter.widget-view+json": {
       "model_id": "2416f85a5e9443869dcb44eeaea9c290",
       "version_major": 2,
       "version_minor": 0
      },
      "text/plain": [
       "Episodes for: Pure exploration:   0%|          | 0/1000 [00:00<?, ?it/s]"
      ]
     },
     "metadata": {},
     "output_type": "display_data"
    },
    {
     "data": {
      "application/vnd.jupyter.widget-view+json": {
       "model_id": "9a78416f34aa44b5ab372e5a0e39f6c2",
       "version_major": 2,
       "version_minor": 0
      },
      "text/plain": [
       "Episodes for: Pure exploration:   0%|          | 0/1000 [00:00<?, ?it/s]"
      ]
     },
     "metadata": {},
     "output_type": "display_data"
    },
    {
     "data": {
      "application/vnd.jupyter.widget-view+json": {
       "model_id": "419cc9fc67cd4eb9bb190f3efad50479",
       "version_major": 2,
       "version_minor": 0
      },
      "text/plain": [
       "Episodes for: Pure exploration:   0%|          | 0/1000 [00:00<?, ?it/s]"
      ]
     },
     "metadata": {},
     "output_type": "display_data"
    },
    {
     "data": {
      "application/vnd.jupyter.widget-view+json": {
       "model_id": "aca84584cd494e9280f9d0f0523b6634",
       "version_major": 2,
       "version_minor": 0
      },
      "text/plain": [
       "Episodes for: Lin Epsilon-Greedy 1.0, 0.0, 0.1:   0%|          | 0/1000 [00:00<?, ?it/s]"
      ]
     },
     "metadata": {},
     "output_type": "display_data"
    },
    {
     "data": {
      "application/vnd.jupyter.widget-view+json": {
       "model_id": "2cae024ef751421db194d07558e99278",
       "version_major": 2,
       "version_minor": 0
      },
      "text/plain": [
       "Episodes for: Lin Epsilon-Greedy 0.3, 0.001, 0.1:   0%|          | 0/1000 [00:00<?, ?it/s]"
      ]
     },
     "metadata": {},
     "output_type": "display_data"
    },
    {
     "data": {
      "application/vnd.jupyter.widget-view+json": {
       "model_id": "7548ec941f8449b4920f7b79e5d35992",
       "version_major": 2,
       "version_minor": 0
      },
      "text/plain": [
       "Episodes for: Exp Epsilon-Greedy 1.0, 0.0, 0.1:   0%|          | 0/1000 [00:00<?, ?it/s]"
      ]
     },
     "metadata": {},
     "output_type": "display_data"
    },
    {
     "data": {
      "application/vnd.jupyter.widget-view+json": {
       "model_id": "8f4a2666f5354c29ada75c448610d12d",
       "version_major": 2,
       "version_minor": 0
      },
      "text/plain": [
       "Episodes for: Exp Epsilon-Greedy 0.3, 0.0, 0.3:   0%|          | 0/1000 [00:00<?, ?it/s]"
      ]
     },
     "metadata": {},
     "output_type": "display_data"
    },
    {
     "data": {
      "application/vnd.jupyter.widget-view+json": {
       "model_id": "acb21fe2f6c64a298053731f51360484",
       "version_major": 2,
       "version_minor": 0
      },
      "text/plain": [
       "Episodes for: Optimistic 1.0, 10:   0%|          | 0/1000 [00:00<?, ?it/s]"
      ]
     },
     "metadata": {},
     "output_type": "display_data"
    },
    {
     "data": {
      "application/vnd.jupyter.widget-view+json": {
       "model_id": "376768296bc346aea6743e776e63ac1d",
       "version_major": 2,
       "version_minor": 0
      },
      "text/plain": [
       "Episodes for: Optimistic 1.0, 50:   0%|          | 0/1000 [00:00<?, ?it/s]"
      ]
     },
     "metadata": {},
     "output_type": "display_data"
    },
    {
     "data": {
      "application/vnd.jupyter.widget-view+json": {
       "model_id": "30fef808c6ca46509d53c14df80f0dfc",
       "version_major": 2,
       "version_minor": 0
      },
      "text/plain": [
       "Experiments with seed 90:   0%|          | 0/10 [00:00<?, ?it/s]"
      ]
     },
     "metadata": {},
     "output_type": "display_data"
    },
    {
     "data": {
      "application/vnd.jupyter.widget-view+json": {
       "model_id": "8e518f7fa466435d9a07b0f807df742a",
       "version_major": 2,
       "version_minor": 0
      },
      "text/plain": [
       "Episodes for: Pure exploitation:   0%|          | 0/1000 [00:00<?, ?it/s]"
      ]
     },
     "metadata": {},
     "output_type": "display_data"
    },
    {
     "data": {
      "application/vnd.jupyter.widget-view+json": {
       "model_id": "042e30fb61094cfabfb0020592cc8939",
       "version_major": 2,
       "version_minor": 0
      },
      "text/plain": [
       "Episodes for: Pure exploration:   0%|          | 0/1000 [00:00<?, ?it/s]"
      ]
     },
     "metadata": {},
     "output_type": "display_data"
    },
    {
     "data": {
      "application/vnd.jupyter.widget-view+json": {
       "model_id": "1ced106c8f3c4b57957c3a625636a4e3",
       "version_major": 2,
       "version_minor": 0
      },
      "text/plain": [
       "Episodes for: Pure exploration:   0%|          | 0/1000 [00:00<?, ?it/s]"
      ]
     },
     "metadata": {},
     "output_type": "display_data"
    },
    {
     "data": {
      "application/vnd.jupyter.widget-view+json": {
       "model_id": "d07068d860d643d282d15ad07a29a8bd",
       "version_major": 2,
       "version_minor": 0
      },
      "text/plain": [
       "Episodes for: Pure exploration:   0%|          | 0/1000 [00:00<?, ?it/s]"
      ]
     },
     "metadata": {},
     "output_type": "display_data"
    },
    {
     "data": {
      "application/vnd.jupyter.widget-view+json": {
       "model_id": "b913ae9fed71409f994583941a26f7d9",
       "version_major": 2,
       "version_minor": 0
      },
      "text/plain": [
       "Episodes for: Lin Epsilon-Greedy 1.0, 0.0, 0.1:   0%|          | 0/1000 [00:00<?, ?it/s]"
      ]
     },
     "metadata": {},
     "output_type": "display_data"
    },
    {
     "data": {
      "application/vnd.jupyter.widget-view+json": {
       "model_id": "0dfc2d0e721c4c36be6b234db0420d02",
       "version_major": 2,
       "version_minor": 0
      },
      "text/plain": [
       "Episodes for: Lin Epsilon-Greedy 0.3, 0.001, 0.1:   0%|          | 0/1000 [00:00<?, ?it/s]"
      ]
     },
     "metadata": {},
     "output_type": "display_data"
    },
    {
     "data": {
      "application/vnd.jupyter.widget-view+json": {
       "model_id": "fefc00cfff434e48984191bc598f0983",
       "version_major": 2,
       "version_minor": 0
      },
      "text/plain": [
       "Episodes for: Exp Epsilon-Greedy 1.0, 0.0, 0.1:   0%|          | 0/1000 [00:00<?, ?it/s]"
      ]
     },
     "metadata": {},
     "output_type": "display_data"
    },
    {
     "data": {
      "application/vnd.jupyter.widget-view+json": {
       "model_id": "09a17335727944dc9486f44186fa03c1",
       "version_major": 2,
       "version_minor": 0
      },
      "text/plain": [
       "Episodes for: Exp Epsilon-Greedy 0.3, 0.0, 0.3:   0%|          | 0/1000 [00:00<?, ?it/s]"
      ]
     },
     "metadata": {},
     "output_type": "display_data"
    },
    {
     "data": {
      "application/vnd.jupyter.widget-view+json": {
       "model_id": "e8e275d7ebaa45609a571b30f3ade33c",
       "version_major": 2,
       "version_minor": 0
      },
      "text/plain": [
       "Episodes for: Optimistic 1.0, 10:   0%|          | 0/1000 [00:00<?, ?it/s]"
      ]
     },
     "metadata": {},
     "output_type": "display_data"
    },
    {
     "data": {
      "application/vnd.jupyter.widget-view+json": {
       "model_id": "287b94666a1a49ba933ba102340e5f8b",
       "version_major": 2,
       "version_minor": 0
      },
      "text/plain": [
       "Episodes for: Optimistic 1.0, 50:   0%|          | 0/1000 [00:00<?, ?it/s]"
      ]
     },
     "metadata": {},
     "output_type": "display_data"
    },
    {
     "data": {
      "application/vnd.jupyter.widget-view+json": {
       "model_id": "485da60560da4d889e6727d17cf46a65",
       "version_major": 2,
       "version_minor": 0
      },
      "text/plain": [
       "All environments:   0%|          | 0/5 [00:00<?, ?it/s]"
      ]
     },
     "metadata": {},
     "output_type": "display_data"
    },
    {
     "data": {
      "application/vnd.jupyter.widget-view+json": {
       "model_id": "e52e4e55863f41049869f518bd6255db",
       "version_major": 2,
       "version_minor": 0
      },
      "text/plain": [
       "Experiments with seed 12:   0%|          | 0/10 [00:00<?, ?it/s]"
      ]
     },
     "metadata": {},
     "output_type": "display_data"
    },
    {
     "data": {
      "application/vnd.jupyter.widget-view+json": {
       "model_id": "295c5ca3e72b4c7097d656bf8e4145cb",
       "version_major": 2,
       "version_minor": 0
      },
      "text/plain": [
       "Episodes for: Pure exploitation:   0%|          | 0/1000 [00:00<?, ?it/s]"
      ]
     },
     "metadata": {},
     "output_type": "display_data"
    },
    {
     "data": {
      "application/vnd.jupyter.widget-view+json": {
       "model_id": "0a9e33bd9c6445ca846be1765df81904",
       "version_major": 2,
       "version_minor": 0
      },
      "text/plain": [
       "Episodes for: Pure exploration:   0%|          | 0/1000 [00:00<?, ?it/s]"
      ]
     },
     "metadata": {},
     "output_type": "display_data"
    },
    {
     "data": {
      "application/vnd.jupyter.widget-view+json": {
       "model_id": "d9e895fc8d794de58570c754100a3533",
       "version_major": 2,
       "version_minor": 0
      },
      "text/plain": [
       "Episodes for: Pure exploration:   0%|          | 0/1000 [00:00<?, ?it/s]"
      ]
     },
     "metadata": {},
     "output_type": "display_data"
    },
    {
     "data": {
      "application/vnd.jupyter.widget-view+json": {
       "model_id": "06c0311fe5424abd95864d576ee52e09",
       "version_major": 2,
       "version_minor": 0
      },
      "text/plain": [
       "Episodes for: Pure exploration:   0%|          | 0/1000 [00:00<?, ?it/s]"
      ]
     },
     "metadata": {},
     "output_type": "display_data"
    },
    {
     "data": {
      "application/vnd.jupyter.widget-view+json": {
       "model_id": "4b4454ea423b4e7ca8bb9f36d23fcb4c",
       "version_major": 2,
       "version_minor": 0
      },
      "text/plain": [
       "Episodes for: Lin Epsilon-Greedy 1.0, 0.0, 0.1:   0%|          | 0/1000 [00:00<?, ?it/s]"
      ]
     },
     "metadata": {},
     "output_type": "display_data"
    },
    {
     "data": {
      "application/vnd.jupyter.widget-view+json": {
       "model_id": "adb64aaa09a44b57b1a65626d37f2b5f",
       "version_major": 2,
       "version_minor": 0
      },
      "text/plain": [
       "Episodes for: Lin Epsilon-Greedy 0.3, 0.001, 0.1:   0%|          | 0/1000 [00:00<?, ?it/s]"
      ]
     },
     "metadata": {},
     "output_type": "display_data"
    },
    {
     "data": {
      "application/vnd.jupyter.widget-view+json": {
       "model_id": "9b54a0e6ee004e599c11b5473d64073c",
       "version_major": 2,
       "version_minor": 0
      },
      "text/plain": [
       "Episodes for: Exp Epsilon-Greedy 1.0, 0.0, 0.1:   0%|          | 0/1000 [00:00<?, ?it/s]"
      ]
     },
     "metadata": {},
     "output_type": "display_data"
    },
    {
     "data": {
      "application/vnd.jupyter.widget-view+json": {
       "model_id": "e42dafe7679b4dafa30b273f99eec0df",
       "version_major": 2,
       "version_minor": 0
      },
      "text/plain": [
       "Episodes for: Exp Epsilon-Greedy 0.3, 0.0, 0.3:   0%|          | 0/1000 [00:00<?, ?it/s]"
      ]
     },
     "metadata": {},
     "output_type": "display_data"
    },
    {
     "data": {
      "application/vnd.jupyter.widget-view+json": {
       "model_id": "95a63dadc098482bbb07d0b4e78609b0",
       "version_major": 2,
       "version_minor": 0
      },
      "text/plain": [
       "Episodes for: Optimistic 1.0, 10:   0%|          | 0/1000 [00:00<?, ?it/s]"
      ]
     },
     "metadata": {},
     "output_type": "display_data"
    },
    {
     "data": {
      "application/vnd.jupyter.widget-view+json": {
       "model_id": "18d77acfefe84152a9baf85d4368dbc8",
       "version_major": 2,
       "version_minor": 0
      },
      "text/plain": [
       "Episodes for: Optimistic 1.0, 50:   0%|          | 0/1000 [00:00<?, ?it/s]"
      ]
     },
     "metadata": {},
     "output_type": "display_data"
    },
    {
     "data": {
      "application/vnd.jupyter.widget-view+json": {
       "model_id": "a63c3d8b0cb145ba821e8588e6e6a35d",
       "version_major": 2,
       "version_minor": 0
      },
      "text/plain": [
       "Experiments with seed 34:   0%|          | 0/10 [00:00<?, ?it/s]"
      ]
     },
     "metadata": {},
     "output_type": "display_data"
    },
    {
     "data": {
      "application/vnd.jupyter.widget-view+json": {
       "model_id": "0961c3d9805545759a07102a30accc62",
       "version_major": 2,
       "version_minor": 0
      },
      "text/plain": [
       "Episodes for: Pure exploitation:   0%|          | 0/1000 [00:00<?, ?it/s]"
      ]
     },
     "metadata": {},
     "output_type": "display_data"
    },
    {
     "data": {
      "application/vnd.jupyter.widget-view+json": {
       "model_id": "9de20c8b613f471d8c566b60e62741fd",
       "version_major": 2,
       "version_minor": 0
      },
      "text/plain": [
       "Episodes for: Pure exploration:   0%|          | 0/1000 [00:00<?, ?it/s]"
      ]
     },
     "metadata": {},
     "output_type": "display_data"
    },
    {
     "data": {
      "application/vnd.jupyter.widget-view+json": {
       "model_id": "5792defd0eb94d02b7e7659f77eeb9a8",
       "version_major": 2,
       "version_minor": 0
      },
      "text/plain": [
       "Episodes for: Pure exploration:   0%|          | 0/1000 [00:00<?, ?it/s]"
      ]
     },
     "metadata": {},
     "output_type": "display_data"
    },
    {
     "data": {
      "application/vnd.jupyter.widget-view+json": {
       "model_id": "911b5a8c7ee04672b7166627bf51c251",
       "version_major": 2,
       "version_minor": 0
      },
      "text/plain": [
       "Episodes for: Pure exploration:   0%|          | 0/1000 [00:00<?, ?it/s]"
      ]
     },
     "metadata": {},
     "output_type": "display_data"
    },
    {
     "data": {
      "application/vnd.jupyter.widget-view+json": {
       "model_id": "7e06a4915c4941a884e523ce2741717d",
       "version_major": 2,
       "version_minor": 0
      },
      "text/plain": [
       "Episodes for: Lin Epsilon-Greedy 1.0, 0.0, 0.1:   0%|          | 0/1000 [00:00<?, ?it/s]"
      ]
     },
     "metadata": {},
     "output_type": "display_data"
    },
    {
     "data": {
      "application/vnd.jupyter.widget-view+json": {
       "model_id": "64911e6dde0e4d82a9ef2c2940e0aa44",
       "version_major": 2,
       "version_minor": 0
      },
      "text/plain": [
       "Episodes for: Lin Epsilon-Greedy 0.3, 0.001, 0.1:   0%|          | 0/1000 [00:00<?, ?it/s]"
      ]
     },
     "metadata": {},
     "output_type": "display_data"
    },
    {
     "data": {
      "application/vnd.jupyter.widget-view+json": {
       "model_id": "0517c697ff0f42f3aff2bbc5eb90d3d2",
       "version_major": 2,
       "version_minor": 0
      },
      "text/plain": [
       "Episodes for: Exp Epsilon-Greedy 1.0, 0.0, 0.1:   0%|          | 0/1000 [00:00<?, ?it/s]"
      ]
     },
     "metadata": {},
     "output_type": "display_data"
    },
    {
     "data": {
      "application/vnd.jupyter.widget-view+json": {
       "model_id": "20b76c9c446e4fbeb3e715140baace03",
       "version_major": 2,
       "version_minor": 0
      },
      "text/plain": [
       "Episodes for: Exp Epsilon-Greedy 0.3, 0.0, 0.3:   0%|          | 0/1000 [00:00<?, ?it/s]"
      ]
     },
     "metadata": {},
     "output_type": "display_data"
    },
    {
     "data": {
      "application/vnd.jupyter.widget-view+json": {
       "model_id": "19243378ed1f44f39e224a2e7fd90f05",
       "version_major": 2,
       "version_minor": 0
      },
      "text/plain": [
       "Episodes for: Optimistic 1.0, 10:   0%|          | 0/1000 [00:00<?, ?it/s]"
      ]
     },
     "metadata": {},
     "output_type": "display_data"
    },
    {
     "data": {
      "application/vnd.jupyter.widget-view+json": {
       "model_id": "af0c96585f1c4a20b92c4bcdf29a85c6",
       "version_major": 2,
       "version_minor": 0
      },
      "text/plain": [
       "Episodes for: Optimistic 1.0, 50:   0%|          | 0/1000 [00:00<?, ?it/s]"
      ]
     },
     "metadata": {},
     "output_type": "display_data"
    },
    {
     "data": {
      "application/vnd.jupyter.widget-view+json": {
       "model_id": "522a44ccfe274177a52b1c286abe7592",
       "version_major": 2,
       "version_minor": 0
      },
      "text/plain": [
       "Experiments with seed 56:   0%|          | 0/10 [00:00<?, ?it/s]"
      ]
     },
     "metadata": {},
     "output_type": "display_data"
    },
    {
     "data": {
      "application/vnd.jupyter.widget-view+json": {
       "model_id": "7db0edfb2a4b4c0aa518c6c1e6f13d19",
       "version_major": 2,
       "version_minor": 0
      },
      "text/plain": [
       "Episodes for: Pure exploitation:   0%|          | 0/1000 [00:00<?, ?it/s]"
      ]
     },
     "metadata": {},
     "output_type": "display_data"
    },
    {
     "data": {
      "application/vnd.jupyter.widget-view+json": {
       "model_id": "daa1446426924c569bd1a3f1091d19aa",
       "version_major": 2,
       "version_minor": 0
      },
      "text/plain": [
       "Episodes for: Pure exploration:   0%|          | 0/1000 [00:00<?, ?it/s]"
      ]
     },
     "metadata": {},
     "output_type": "display_data"
    },
    {
     "data": {
      "application/vnd.jupyter.widget-view+json": {
       "model_id": "3a6924cfa43b4a3a9e448239e46eb692",
       "version_major": 2,
       "version_minor": 0
      },
      "text/plain": [
       "Episodes for: Pure exploration:   0%|          | 0/1000 [00:00<?, ?it/s]"
      ]
     },
     "metadata": {},
     "output_type": "display_data"
    },
    {
     "data": {
      "application/vnd.jupyter.widget-view+json": {
       "model_id": "ec427390adf448d6a951536fd8277116",
       "version_major": 2,
       "version_minor": 0
      },
      "text/plain": [
       "Episodes for: Pure exploration:   0%|          | 0/1000 [00:00<?, ?it/s]"
      ]
     },
     "metadata": {},
     "output_type": "display_data"
    },
    {
     "data": {
      "application/vnd.jupyter.widget-view+json": {
       "model_id": "47c97f78c6774c809f8b79ee53a36886",
       "version_major": 2,
       "version_minor": 0
      },
      "text/plain": [
       "Episodes for: Lin Epsilon-Greedy 1.0, 0.0, 0.1:   0%|          | 0/1000 [00:00<?, ?it/s]"
      ]
     },
     "metadata": {},
     "output_type": "display_data"
    },
    {
     "data": {
      "application/vnd.jupyter.widget-view+json": {
       "model_id": "d7187637ada840a4b0c5b0f7c4753ec5",
       "version_major": 2,
       "version_minor": 0
      },
      "text/plain": [
       "Episodes for: Lin Epsilon-Greedy 0.3, 0.001, 0.1:   0%|          | 0/1000 [00:00<?, ?it/s]"
      ]
     },
     "metadata": {},
     "output_type": "display_data"
    },
    {
     "data": {
      "application/vnd.jupyter.widget-view+json": {
       "model_id": "0d6b8443cf844f1a877c342993619c2c",
       "version_major": 2,
       "version_minor": 0
      },
      "text/plain": [
       "Episodes for: Exp Epsilon-Greedy 1.0, 0.0, 0.1:   0%|          | 0/1000 [00:00<?, ?it/s]"
      ]
     },
     "metadata": {},
     "output_type": "display_data"
    },
    {
     "data": {
      "application/vnd.jupyter.widget-view+json": {
       "model_id": "dfb50603c83b4ccfa4d7be02c7c25fb0",
       "version_major": 2,
       "version_minor": 0
      },
      "text/plain": [
       "Episodes for: Exp Epsilon-Greedy 0.3, 0.0, 0.3:   0%|          | 0/1000 [00:00<?, ?it/s]"
      ]
     },
     "metadata": {},
     "output_type": "display_data"
    },
    {
     "data": {
      "application/vnd.jupyter.widget-view+json": {
       "model_id": "9e7a00c4f36d4f53a02256853c6a3b87",
       "version_major": 2,
       "version_minor": 0
      },
      "text/plain": [
       "Episodes for: Optimistic 1.0, 10:   0%|          | 0/1000 [00:00<?, ?it/s]"
      ]
     },
     "metadata": {},
     "output_type": "display_data"
    },
    {
     "data": {
      "application/vnd.jupyter.widget-view+json": {
       "model_id": "f8964d23c757461fa06576538924a46b",
       "version_major": 2,
       "version_minor": 0
      },
      "text/plain": [
       "Episodes for: Optimistic 1.0, 50:   0%|          | 0/1000 [00:00<?, ?it/s]"
      ]
     },
     "metadata": {},
     "output_type": "display_data"
    },
    {
     "data": {
      "application/vnd.jupyter.widget-view+json": {
       "model_id": "020c0e729ad24d8b987d672a90a2b65f",
       "version_major": 2,
       "version_minor": 0
      },
      "text/plain": [
       "Experiments with seed 78:   0%|          | 0/10 [00:00<?, ?it/s]"
      ]
     },
     "metadata": {},
     "output_type": "display_data"
    },
    {
     "data": {
      "application/vnd.jupyter.widget-view+json": {
       "model_id": "63d85113287d4fd19fd866fbf5c20f6f",
       "version_major": 2,
       "version_minor": 0
      },
      "text/plain": [
       "Episodes for: Pure exploitation:   0%|          | 0/1000 [00:00<?, ?it/s]"
      ]
     },
     "metadata": {},
     "output_type": "display_data"
    },
    {
     "data": {
      "application/vnd.jupyter.widget-view+json": {
       "model_id": "65924bf120534a98b6b5e3f1b911ccf9",
       "version_major": 2,
       "version_minor": 0
      },
      "text/plain": [
       "Episodes for: Pure exploration:   0%|          | 0/1000 [00:00<?, ?it/s]"
      ]
     },
     "metadata": {},
     "output_type": "display_data"
    },
    {
     "data": {
      "application/vnd.jupyter.widget-view+json": {
       "model_id": "6c1a1bb4d10b49e58d2f46bef07a227b",
       "version_major": 2,
       "version_minor": 0
      },
      "text/plain": [
       "Episodes for: Pure exploration:   0%|          | 0/1000 [00:00<?, ?it/s]"
      ]
     },
     "metadata": {},
     "output_type": "display_data"
    },
    {
     "data": {
      "application/vnd.jupyter.widget-view+json": {
       "model_id": "cdcf767d7a4a4dc78607b2546c798df6",
       "version_major": 2,
       "version_minor": 0
      },
      "text/plain": [
       "Episodes for: Pure exploration:   0%|          | 0/1000 [00:00<?, ?it/s]"
      ]
     },
     "metadata": {},
     "output_type": "display_data"
    },
    {
     "data": {
      "application/vnd.jupyter.widget-view+json": {
       "model_id": "0b36862e3e0a41ff8bee58c3d93a3358",
       "version_major": 2,
       "version_minor": 0
      },
      "text/plain": [
       "Episodes for: Lin Epsilon-Greedy 1.0, 0.0, 0.1:   0%|          | 0/1000 [00:00<?, ?it/s]"
      ]
     },
     "metadata": {},
     "output_type": "display_data"
    },
    {
     "data": {
      "application/vnd.jupyter.widget-view+json": {
       "model_id": "cb842ab4ac7d444c976b77e54a21c923",
       "version_major": 2,
       "version_minor": 0
      },
      "text/plain": [
       "Episodes for: Lin Epsilon-Greedy 0.3, 0.001, 0.1:   0%|          | 0/1000 [00:00<?, ?it/s]"
      ]
     },
     "metadata": {},
     "output_type": "display_data"
    },
    {
     "data": {
      "application/vnd.jupyter.widget-view+json": {
       "model_id": "effd8bfddf8c46f2accdb581ac1e16cb",
       "version_major": 2,
       "version_minor": 0
      },
      "text/plain": [
       "Episodes for: Exp Epsilon-Greedy 1.0, 0.0, 0.1:   0%|          | 0/1000 [00:00<?, ?it/s]"
      ]
     },
     "metadata": {},
     "output_type": "display_data"
    },
    {
     "data": {
      "application/vnd.jupyter.widget-view+json": {
       "model_id": "1ea4953bc5944073a5c80f347680a8a6",
       "version_major": 2,
       "version_minor": 0
      },
      "text/plain": [
       "Episodes for: Exp Epsilon-Greedy 0.3, 0.0, 0.3:   0%|          | 0/1000 [00:00<?, ?it/s]"
      ]
     },
     "metadata": {},
     "output_type": "display_data"
    },
    {
     "data": {
      "application/vnd.jupyter.widget-view+json": {
       "model_id": "af97125f6e4a4bf38359d2d390e1843b",
       "version_major": 2,
       "version_minor": 0
      },
      "text/plain": [
       "Episodes for: Optimistic 1.0, 10:   0%|          | 0/1000 [00:00<?, ?it/s]"
      ]
     },
     "metadata": {},
     "output_type": "display_data"
    },
    {
     "data": {
      "application/vnd.jupyter.widget-view+json": {
       "model_id": "17efa4ff5bb84865a8c826b2b6653813",
       "version_major": 2,
       "version_minor": 0
      },
      "text/plain": [
       "Episodes for: Optimistic 1.0, 50:   0%|          | 0/1000 [00:00<?, ?it/s]"
      ]
     },
     "metadata": {},
     "output_type": "display_data"
    },
    {
     "data": {
      "application/vnd.jupyter.widget-view+json": {
       "model_id": "6e1b8d98612a4f5188381646b40ff589",
       "version_major": 2,
       "version_minor": 0
      },
      "text/plain": [
       "Experiments with seed 90:   0%|          | 0/10 [00:00<?, ?it/s]"
      ]
     },
     "metadata": {},
     "output_type": "display_data"
    },
    {
     "data": {
      "application/vnd.jupyter.widget-view+json": {
       "model_id": "519b374903ef473698b530402f5dd1c4",
       "version_major": 2,
       "version_minor": 0
      },
      "text/plain": [
       "Episodes for: Pure exploitation:   0%|          | 0/1000 [00:00<?, ?it/s]"
      ]
     },
     "metadata": {},
     "output_type": "display_data"
    },
    {
     "data": {
      "application/vnd.jupyter.widget-view+json": {
       "model_id": "72fdc8f5fc1d44819fd93a9fe6973562",
       "version_major": 2,
       "version_minor": 0
      },
      "text/plain": [
       "Episodes for: Pure exploration:   0%|          | 0/1000 [00:00<?, ?it/s]"
      ]
     },
     "metadata": {},
     "output_type": "display_data"
    },
    {
     "data": {
      "application/vnd.jupyter.widget-view+json": {
       "model_id": "82fe3a6845ed4382a5097730fd04a316",
       "version_major": 2,
       "version_minor": 0
      },
      "text/plain": [
       "Episodes for: Pure exploration:   0%|          | 0/1000 [00:00<?, ?it/s]"
      ]
     },
     "metadata": {},
     "output_type": "display_data"
    },
    {
     "data": {
      "application/vnd.jupyter.widget-view+json": {
       "model_id": "153ffd4a526d4b6ea6be712a376ea4ee",
       "version_major": 2,
       "version_minor": 0
      },
      "text/plain": [
       "Episodes for: Pure exploration:   0%|          | 0/1000 [00:00<?, ?it/s]"
      ]
     },
     "metadata": {},
     "output_type": "display_data"
    },
    {
     "data": {
      "application/vnd.jupyter.widget-view+json": {
       "model_id": "382e44c843f94b2686106ef0a7562ab9",
       "version_major": 2,
       "version_minor": 0
      },
      "text/plain": [
       "Episodes for: Lin Epsilon-Greedy 1.0, 0.0, 0.1:   0%|          | 0/1000 [00:00<?, ?it/s]"
      ]
     },
     "metadata": {},
     "output_type": "display_data"
    },
    {
     "data": {
      "application/vnd.jupyter.widget-view+json": {
       "model_id": "15a9ab739ed1407b942f855fc21f52c2",
       "version_major": 2,
       "version_minor": 0
      },
      "text/plain": [
       "Episodes for: Lin Epsilon-Greedy 0.3, 0.001, 0.1:   0%|          | 0/1000 [00:00<?, ?it/s]"
      ]
     },
     "metadata": {},
     "output_type": "display_data"
    },
    {
     "data": {
      "application/vnd.jupyter.widget-view+json": {
       "model_id": "646a4b6ae46c4de38e3283ac95d359da",
       "version_major": 2,
       "version_minor": 0
      },
      "text/plain": [
       "Episodes for: Exp Epsilon-Greedy 1.0, 0.0, 0.1:   0%|          | 0/1000 [00:00<?, ?it/s]"
      ]
     },
     "metadata": {},
     "output_type": "display_data"
    },
    {
     "data": {
      "application/vnd.jupyter.widget-view+json": {
       "model_id": "3de954a27ecf40afb53b42463b21ce88",
       "version_major": 2,
       "version_minor": 0
      },
      "text/plain": [
       "Episodes for: Exp Epsilon-Greedy 0.3, 0.0, 0.3:   0%|          | 0/1000 [00:00<?, ?it/s]"
      ]
     },
     "metadata": {},
     "output_type": "display_data"
    },
    {
     "data": {
      "application/vnd.jupyter.widget-view+json": {
       "model_id": "e2e65f1e96c14cbebb129a8f00a6faa8",
       "version_major": 2,
       "version_minor": 0
      },
      "text/plain": [
       "Episodes for: Optimistic 1.0, 10:   0%|          | 0/1000 [00:00<?, ?it/s]"
      ]
     },
     "metadata": {},
     "output_type": "display_data"
    },
    {
     "data": {
      "application/vnd.jupyter.widget-view+json": {
       "model_id": "a0cb74455e9c4df2a2dd0b46c8e52ae7",
       "version_major": 2,
       "version_minor": 0
      },
      "text/plain": [
       "Episodes for: Optimistic 1.0, 50:   0%|          | 0/1000 [00:00<?, ?it/s]"
      ]
     },
     "metadata": {},
     "output_type": "display_data"
    }
   ],
   "source": [
    "def b2_run_simple_strategies_experiment(env_name='Bandit-v0'):\n",
    "    results = {}\n",
    "    experiments = [\n",
    "        # baseline strategies\n",
    "        lambda env: pure_exploitation(env),\n",
    "        lambda env: pure_exploration(env),\n",
    "        \n",
    "        # epsilon greedy\n",
    "        lambda env: epsilon_greedy(env, epsilon=0.07),\n",
    "        lambda env: epsilon_greedy(env, epsilon=0.1),\n",
    "        \n",
    "        # epsilon greedy linearly decaying\n",
    "        lambda env: lin_dec_epsilon_greedy(\n",
    "            env, init_epsilon=1.0, min_epsilon=0.0, decay_ratio=0.1\n",
    "        ),\n",
    "        lambda env: lin_dec_epsilon_greedy(\n",
    "            env, init_epsilon=0.3, min_epsilon=0.001, decay_ratio=0.1\n",
    "        ),\n",
    "        \n",
    "        # epsilon greedy exponentially decaying\n",
    "        lambda env: exp_dec_epsilon_greedy(\n",
    "            env, init_epsilon=1.0, min_epsilon=0.0, decay_ratio=0.1\n",
    "        ),\n",
    "        lambda env: exp_dec_epsilon_greedy(\n",
    "            env, init_epsilon=0.3, min_epsilon=0.0, decay_ratio=0.3\n",
    "        ),\n",
    "        \n",
    "        # epsilon greedy\n",
    "        lambda env: optimistic_initialization(\n",
    "            env, optimistic_estimate=1.0, initial_count=10\n",
    "        ),\n",
    "        lambda env: optimistic_initialization(\n",
    "            env, optimistic_estimate=1.0, initial_count=50\n",
    "        ),\n",
    "    ]\n",
    "    \n",
    "    \n",
    "    # For the new gymnasium API, we need to access the true Q-values differently\n",
    "    # We'll use a simple approach to estimate the true Q-values by sampling\n",
    "    # This is a workaround since we don't have direct access to p_dist and r_dist\n",
    "    \n",
    "    # Sample each action multiple times to estimate Q-values\n",
    "    n_samples = 1000\n",
    "    rewards = np.zeros((env.action_space.n, n_samples))\n",
    "    \n",
    "    for action in range(env.action_space.n):\n",
    "        for i in range(n_samples):\n",
    "            env.reset()\n",
    "            _, reward, _, _, _ = env.step(action)\n",
    "            rewards[action, i] = reward\n",
    "    \n",
    "    for env_seed in tqdm(SEEDS, desc='All experiments'):\n",
    "        env = gym.make(env_name, seed=env_seed)\n",
    "        env.reset()\n",
    "        \n",
    "        # Estimate true Q-values as the mean reward for each action\n",
    "        true_Q = np.mean(rewards, axis=1)\n",
    "        opt_V = np.max(true_Q)\n",
    "        \n",
    "        for seed in tqdm(SEEDS, desc='All environments', leave=False):\n",
    "            for experiment in tqdm(\n",
    "                experiments, desc=f'Experiments with seed {seed}', leave=False):\n",
    "                env.reset()\n",
    "                env.action_space.seed(seed)\n",
    "                np.random.seed(seed)\n",
    "                random.seed(seed)\n",
    "                name, Re, Qe, Ae = experiment(env)\n",
    "                Ae = np.expand_dims(Ae, -1)\n",
    "                \n",
    "                episode_mean_rew = np.cumsum(Re) / (np.arange(len(Re)) + 1)\n",
    "                \n",
    "                Q_selected = np.take_along_axis(\n",
    "                    np.tile(true_Q, Ae.shape), Ae, axis=1).squeeze()\n",
    "                regret = opt_V - Q_selected\n",
    "                cum_regret = np.cumsum(regret)\n",
    "                \n",
    "                if name not in results.keys(): results[name] = {}\n",
    "                if 'Re' not in results[name].keys(): results[name]['Re'] = []\n",
    "                if 'Qe' not in results[name].keys(): results[name]['Qe'] = []\n",
    "                if 'Ae' not in results[name].keys(): results[name]['Ae'] = []\n",
    "                if 'cum_regret' not in results[name].keys(): \n",
    "                    results[name]['cum_regret'] = []\n",
    "                if 'episode_mean_rew' not in results[name].keys(): \n",
    "                    results[name]['episode_mean_rew'] = []\n",
    "\n",
    "                results[name]['Re'].append(Re)\n",
    "                results[name]['Qe'].append(Qe)\n",
    "                results[name]['Ae'].append(Ae)\n",
    "                results[name]['cum_regret'].append(cum_regret)\n",
    "                results[name]['episode_mean_rew'].append(episode_mean_rew)\n",
    "    return results\n",
    "\n",
    "b2_results_s = b2_run_simple_strategies_experiment()"
   ]
  },
  {
   "cell_type": "markdown",
   "metadata": {},
   "source": [
    "# Plotting results of simple strategies on Two-Armed Bandit environments"
   ]
  },
  {
   "cell_type": "code",
   "execution_count": 19,
   "metadata": {},
   "outputs": [
    {
     "data": {
      "image/png": "[encoded data removed]",
      "text/plain": [
       "<Figure size 2800x2800 with 5 Axes>"
      ]
     },
     "metadata": {},
     "output_type": "display_data"
    }
   ],
   "source": [
    "fig, axs = plt.subplots(5, 1, figsize=(28, 28), sharey=False, sharex=False)\n",
    "\n",
    "lines = [\"-\",\"--\",\":\",\"-.\"]\n",
    "linecycler = cycle(lines)\n",
    "min_reg, max_ret = float('inf'), float('-inf')\n",
    "for label, result in b2_results_s.items():\n",
    "    color = next(linecycler)\n",
    "\n",
    "    # reward\n",
    "    episode_mean_rew = np.array(result['episode_mean_rew'])\n",
    "    mean_episode_mean_rew = np.mean(episode_mean_rew, axis=0)\n",
    "\n",
    "    axs[0].plot(mean_episode_mean_rew, color, linewidth=2, label=label)\n",
    "\n",
    "    axs[1].plot(mean_episode_mean_rew, color, linewidth=2, label=label)\n",
    "    axs[1].set_xscale('log')\n",
    "    \n",
    "    axs[2].plot(mean_episode_mean_rew, color, linewidth=2, label=label)\n",
    "    if max_ret < mean_episode_mean_rew[-1]: max_ret = mean_episode_mean_rew[-1]\n",
    "    axs[2].axis((\n",
    "        mean_episode_mean_rew.shape[0]*0.989,\n",
    "        mean_episode_mean_rew.shape[0],\n",
    "        max_ret-0.005,\n",
    "        max_ret+0.0001\n",
    "        )\n",
    "    )\n",
    "    \n",
    "    # regret\n",
    "    cum_regret = np.array(result['cum_regret'])\n",
    "    mean_cum_regret = np.mean(cum_regret, axis=0)\n",
    "    \n",
    "    axs[3].plot(mean_cum_regret, color, linewidth=2, label=label)\n",
    "    \n",
    "    axs[4].plot(mean_cum_regret, color, linewidth=2, label=label)\n",
    "    if min_reg > mean_cum_regret[-1]: min_reg = mean_cum_regret[-1]\n",
    "    plt.axis((\n",
    "            mean_cum_regret.shape[0]*0.989,\n",
    "            mean_cum_regret.shape[0],\n",
    "            min_reg-0.5,\n",
    "            min_reg+5\n",
    "        )\n",
    "    )\n",
    "    \n",
    "    # config plot\n",
    "    axs[0].set_title('Mean Episode Reward')\n",
    "    axs[1].set_title('Mean Episode Reward (Log scale)')\n",
    "    axs[2].set_title('Mean Episode Reward (Zoom on best)')\n",
    "    axs[3].set_title('Total Regret')\n",
    "    axs[4].set_title('Total Regret (Zoom on best)')\n",
    "    plt.xlabel('Episodes')\n",
    "    axs[0].legend(loc='upper left')\n",
    "\n",
    "plt.show()"
   ]
  },
  {
   "cell_type": "markdown",
   "metadata": {},
   "source": [
    "# Advanced strategies"
   ]
  },
  {
   "cell_type": "code",
   "execution_count": 20,
   "metadata": {},
   "outputs": [
    {
     "data": {
      "text/plain": [
       "(np.float64(22026.465794806718), 22026.465794806703)"
      ]
     },
     "execution_count": 20,
     "metadata": {},
     "output_type": "execute_result"
    }
   ],
   "source": [
    "np.nextafter(np.float32(0), np.float32(1))\n",
    "1e-45\n",
    "np.nextafter(2, 4)\n",
    "d = np.zeros((10))\n",
    "np.exp(10), 2.718281828459045**10"
   ]
  },
  {
   "cell_type": "code",
   "execution_count": 33,
   "metadata": {},
   "outputs": [],
   "source": [
    "def softmax(\n",
    "    env, init_temp=float('inf'), min_temp=0.0, decay_ratio=0.04, n_episodes=1000):\n",
    "    \n",
    "    Q = np.zeros((env.action_space.n), dtype=np.float64)\n",
    "    N = np.zeros((env.action_space.n), dtype=np.int32)\n",
    "    \n",
    "    Qe = np.empty((n_episodes, env.action_space.n), dtype=np.float64)\n",
    "    returns = np.empty(n_episodes, dtype=np.float64)\n",
    "    actions = np.empty(n_episodes, dtype=np.int32)\n",
    "    \n",
    "    # can't really use infinity\n",
    "    init_temp = min(init_temp, sys.float_info.max)\n",
    "    \n",
    "    # can't really use zero\n",
    "    min_temp = max(min_temp, 1e-45)\n",
    "    \n",
    "    name = f'Lin SoftMax {init_temp}, {min_temp}, {decay_ratio}'\n",
    "    es = tqdm(range(n_episodes), desc='Episodes for: ' + name, leave=False)\n",
    "    \n",
    "    epsilon, temp = lin_decay(init_temp, min_temp, decay_ratio, n_episodes)\n",
    "    \n",
    "    for e in es:\n",
    "        scaled_Q = Q / temp\n",
    "        norm_Q = scaled_Q - np.max(scaled_Q)\n",
    "        exp_Q = np.exp(norm_Q)\n",
    "        probs = exp_Q / np.sum(exp_Q)\n",
    "        assert np.isclose(probs.sum(), 1.0)\n",
    "        \n",
    "        action = np.random.choice(np.arange(len(probs)), size=1, p=probs)[0]\n",
    "        \n",
    "        _, reward, _, _, _ = env.step(action)\n",
    "        N[action] += 1\n",
    "        Q[action] = Q[action] + (reward - Q[action])/N[action]\n",
    "        \n",
    "        Qe[e] = Q\n",
    "        returns[e] = reward\n",
    "        actions[e] = action\n",
    "    return name, returns, Qe, actions"
   ]
  },
  {
   "cell_type": "code",
   "execution_count": 22,
   "metadata": {},
   "outputs": [
    {
     "data": {
      "text/plain": [
       "array([0, 0, 0, 0, 0, 0, 0, 0, 0, 0], dtype=int16)"
      ]
     },
     "execution_count": 22,
     "metadata": {},
     "output_type": "execute_result"
    }
   ],
   "source": [
    "np.log(e), e\n",
    "10**0.44\n",
    "N = np.zeros((10), dtype=np.int16)\n",
    "N"
   ]
  },
  {
   "cell_type": "code",
   "execution_count": 35,
   "metadata": {},
   "outputs": [],
   "source": [
    "def upper_confidence_bound(env: gym.Env, c=2, n_episodes=1000):\n",
    "    Q = np.zeros((env.action_space.n), dtype=np.float64)\n",
    "    N = np.zeros((env.action_space.n), dtype=np.int32)\n",
    "    \n",
    "    Qe = np.zeros((n_episodes, env.action_space.n), dtype=np.float64)\n",
    "    returns = np.zeros((n_episodes), dtype=np.float64)\n",
    "    actions = np.zeros((n_episodes), dtype=np.int32)\n",
    "    \n",
    "    name = f'UCB {c}'\n",
    "    es = tqdm(range(n_episodes), desc=f'Episodes for: {name}', leave=False)\n",
    "    \n",
    "    for e in es:\n",
    "        action = e\n",
    "        if e >= env.action_space.n:\n",
    "            U = c * np.sqrt(np.log(e) / N)\n",
    "            action = np.argmax(Q + U)\n",
    "        \n",
    "        _, reward, _, _, _ = env.step(action)\n",
    "        Q[action] += (reward - Q[action]) / N[action]\n",
    "        N[action] += 1\n",
    "        \n",
    "        Qe[e] = Q\n",
    "        returns[e] = reward\n",
    "        actions[e] = action\n",
    "    \n",
    "    return name, returns, Qe, action"
   ]
  },
  {
   "cell_type": "code",
   "execution_count": 28,
   "metadata": {},
   "outputs": [
    {
     "data": {
      "text/plain": [
       "array([ -13.20966269, -182.45634411,   41.49332992,  121.63714771,\n",
       "       -112.36592914,  182.3739568 ,  -70.23460732,  100.89522194,\n",
       "        -55.05488877,  142.83769221])"
      ]
     },
     "execution_count": 28,
     "metadata": {},
     "output_type": "execute_result"
    }
   ],
   "source": [
    "Q = np.zeros((10), dtype=np.float64)\n",
    "samples = np.random.normal(loc=Q, scale=1 / (np.sqrt(N) + 0.01 ))\n",
    "\n",
    "samples\n",
    "# np.mean(samples)"
   ]
  },
  {
   "cell_type": "code",
   "execution_count": 25,
   "metadata": {},
   "outputs": [],
   "source": [
    "def thompson_sampling(env: gym.Env, alpha=1, beta=0, n_episodes=1000):\n",
    "    Q = np.zeros((env.action_space.n), dtype=np.float64)\n",
    "    N = np.zeros((env.action_space.n), dtype=np.int32)\n",
    "    \n",
    "    Qe = np.zeros((n_episodes, env.action_space.n), dtype=np.float64)\n",
    "    returns = np.zeros((n_episodes), dtype=np.float64)\n",
    "    actions = np.zeros((n_episodes), dtype=np.int32)\n",
    "    \n",
    "    name = f\"Thompson Sampling {alpha}, {beta}\"\n",
    "    es = tqdm(range(n_episodes), desc=f\"Episodes for: {name}\", leave=False)\n",
    "    for e in es:\n",
    "        samples = np.random.normal(loc=Q, scale=alpha / (np.sqrt(N) + beta))\n",
    "        action = np.argmax(samples)\n",
    "        \n",
    "        _, reward, _, _, _ = env.step(action)\n",
    "        N[action] += 1\n",
    "        Q[action] += (reward - Q[action]) / N[action]\n",
    "        \n",
    "        Qe[e] = Q\n",
    "        returns[e] = reward\n",
    "        actions[e] = actions\n",
    "    return name, returns, Qe, actions"
   ]
  },
  {
   "cell_type": "markdown",
   "metadata": {},
   "source": [
    "# Running advanced strategies on Two-Armed Bandit environments"
   ]
  },
  {
   "cell_type": "code",
   "execution_count": null,
   "metadata": {},
   "outputs": [
    {
     "data": {
      "application/vnd.jupyter.widget-view+json": {
       "model_id": "ce0248e71c134121b29fc5e7e070269c",
       "version_major": 2,
       "version_minor": 0
      },
      "text/plain": [
       "All experiments:   0%|          | 0/5 [00:00<?, ?it/s]"
      ]
     },
     "metadata": {},
     "output_type": "display_data"
    },
    {
     "data": {
      "application/vnd.jupyter.widget-view+json": {
       "model_id": "98134f3c4c2e496491778b9acf0cffea",
       "version_major": 2,
       "version_minor": 0
      },
      "text/plain": [
       "All environments:   0%|          | 0/5 [00:00<?, ?it/s]"
      ]
     },
     "metadata": {},
     "output_type": "display_data"
    },
    {
     "data": {
      "application/vnd.jupyter.widget-view+json": {
       "model_id": "f936e93f8d214af78df270bcde19a163",
       "version_major": 2,
       "version_minor": 0
      },
      "text/plain": [
       "Experiments with seed 12:   0%|          | 0/10 [00:00<?, ?it/s]"
      ]
     },
     "metadata": {},
     "output_type": "display_data"
    },
    {
     "data": {
      "application/vnd.jupyter.widget-view+json": {
       "model_id": "857930624eed4e82a96863c5647b3427",
       "version_major": 2,
       "version_minor": 0
      },
      "text/plain": [
       "Episodes for: Pure exploitation:   0%|          | 0/1000 [00:00<?, ?it/s]"
      ]
     },
     "metadata": {},
     "output_type": "display_data"
    },
    {
     "name": "stdout",
     "output_type": "stream",
     "text": [
      "[3.16504005 3.33406892 3.29398034 3.40706897 3.18043762 3.17397194\n",
      " 3.0708369  3.22905955 3.1491671  3.44983105]\n",
      "[[0]\n",
      " [0]\n",
      " [0]\n",
      " [0]\n",
      " [0]\n",
      " [0]\n",
      " [0]\n",
      " [0]\n",
      " [0]\n",
      " [0]\n",
      " [0]\n",
      " [0]\n",
      " [0]\n",
      " [0]\n",
      " [0]\n",
      " [0]\n",
      " [0]\n",
      " [0]\n",
      " [0]\n",
      " [0]\n",
      " [0]\n",
      " [0]\n",
      " [0]\n",
      " [0]\n",
      " [0]\n",
      " [0]\n",
      " [0]\n",
      " [0]\n",
      " [0]\n",
      " [0]\n",
      " [0]\n",
      " [0]\n",
      " [0]\n",
      " [0]\n",
      " [0]\n",
      " [0]\n",
      " [0]\n",
      " [0]\n",
      " [0]\n",
      " [0]\n",
      " [0]\n",
      " [0]\n",
      " [0]\n",
      " [0]\n",
      " [0]\n",
      " [0]\n",
      " [0]\n",
      " [0]\n",
      " [0]\n",
      " [0]\n",
      " [0]\n",
      " [0]\n",
      " [0]\n",
      " [0]\n",
      " [0]\n",
      " [0]\n",
      " [0]\n",
      " [0]\n",
      " [0]\n",
      " [0]\n",
      " [0]\n",
      " [0]\n",
      " [0]\n",
      " [0]\n",
      " [0]\n",
      " [0]\n",
      " [0]\n",
      " [0]\n",
      " [0]\n",
      " [0]\n",
      " [0]\n",
      " [0]\n",
      " [0]\n",
      " [0]\n",
      " [0]\n",
      " [0]\n",
      " [0]\n",
      " [0]\n",
      " [0]\n",
      " [0]\n",
      " [0]\n",
      " [0]\n",
      " [0]\n",
      " [0]\n",
      " [0]\n",
      " [0]\n",
      " [0]\n",
      " [0]\n",
      " [0]\n",
      " [0]\n",
      " [0]\n",
      " [0]\n",
      " [0]\n",
      " [0]\n",
      " [0]\n",
      " [0]\n",
      " [0]\n",
      " [0]\n",
      " [0]\n",
      " [0]\n",
      " [0]\n",
      " [0]\n",
      " [0]\n",
      " [0]\n",
      " [0]\n",
      " [0]\n",
      " [0]\n",
      " [0]\n",
      " [0]\n",
      " [0]\n",
      " [0]\n",
      " [0]\n",
      " [0]\n",
      " [0]\n",
      " [0]\n",
      " [0]\n",
      " [0]\n",
      " [0]\n",
      " [0]\n",
      " [0]\n",
      " [0]\n",
      " [0]\n",
      " [0]\n",
      " [0]\n",
      " [0]\n",
      " [0]\n",
      " [0]\n",
      " [0]\n",
      " [0]\n",
      " [0]\n",
      " [0]\n",
      " [0]\n",
      " [0]\n",
      " [0]\n",
      " [0]\n",
      " [0]\n",
      " [0]\n",
      " [0]\n",
      " [0]\n",
      " [0]\n",
      " [0]\n",
      " [0]\n",
      " [0]\n",
      " [0]\n",
      " [0]\n",
      " [0]\n",
      " [0]\n",
      " [0]\n",
      " [0]\n",
      " [0]\n",
      " [0]\n",
      " [0]\n",
      " [0]\n",
      " [0]\n",
      " [0]\n",
      " [0]\n",
      " [0]\n",
      " [0]\n",
      " [0]\n",
      " [0]\n",
      " [0]\n",
      " [0]\n",
      " [0]\n",
      " [0]\n",
      " [0]\n",
      " [0]\n",
      " [0]\n",
      " [0]\n",
      " [0]\n",
      " [0]\n",
      " [0]\n",
      " [0]\n",
      " [0]\n",
      " [0]\n",
      " [0]\n",
      " [0]\n",
      " [0]\n",
      " [0]\n",
      " [0]\n",
      " [0]\n",
      " [0]\n",
      " [0]\n",
      " [0]\n",
      " [0]\n",
      " [0]\n",
      " [0]\n",
      " [0]\n",
      " [0]\n",
      " [0]\n",
      " [0]\n",
      " [0]\n",
      " [0]\n",
      " [0]\n",
      " [0]\n",
      " [0]\n",
      " [0]\n",
      " [0]\n",
      " [0]\n",
      " [0]\n",
      " [0]\n",
      " [0]\n",
      " [0]\n",
      " [0]\n",
      " [0]\n",
      " [0]\n",
      " [0]\n",
      " [0]\n",
      " [0]\n",
      " [0]\n",
      " [0]\n",
      " [0]\n",
      " [0]\n",
      " [0]\n",
      " [0]\n",
      " [0]\n",
      " [0]\n",
      " [0]\n",
      " [0]\n",
      " [0]\n",
      " [0]\n",
      " [0]\n",
      " [0]\n",
      " [0]\n",
      " [0]\n",
      " [0]\n",
      " [0]\n",
      " [0]\n",
      " [0]\n",
      " [0]\n",
      " [0]\n",
      " [0]\n",
      " [0]\n",
      " [0]\n",
      " [0]\n",
      " [0]\n",
      " [0]\n",
      " [0]\n",
      " [0]\n",
      " [0]\n",
      " [0]\n",
      " [0]\n",
      " [0]\n",
      " [0]\n",
      " [0]\n",
      " [0]\n",
      " [0]\n",
      " [0]\n",
      " [0]\n",
      " [0]\n",
      " [0]\n",
      " [0]\n",
      " [0]\n",
      " [0]\n",
      " [0]\n",
      " [0]\n",
      " [0]\n",
      " [0]\n",
      " [0]\n",
      " [0]\n",
      " [0]\n",
      " [0]\n",
      " [0]\n",
      " [0]\n",
      " [0]\n",
      " [0]\n",
      " [0]\n",
      " [0]\n",
      " [0]\n",
      " [0]\n",
      " [0]\n",
      " [0]\n",
      " [0]\n",
      " [0]\n",
      " [0]\n",
      " [0]\n",
      " [0]\n",
      " [0]\n",
      " [0]\n",
      " [0]\n",
      " [0]\n",
      " [0]\n",
      " [0]\n",
      " [0]\n",
      " [0]\n",
      " [0]\n",
      " [0]\n",
      " [0]\n",
      " [0]\n",
      " [0]\n",
      " [0]\n",
      " [0]\n",
      " [0]\n",
      " [0]\n",
      " [0]\n",
      " [0]\n",
      " [0]\n",
      " [0]\n",
      " [0]\n",
      " [0]\n",
      " [0]\n",
      " [0]\n",
      " [0]\n",
      " [0]\n",
      " [0]\n",
      " [0]\n",
      " [0]\n",
      " [0]\n",
      " [0]\n",
      " [0]\n",
      " [0]\n",
      " [0]\n",
      " [0]\n",
      " [0]\n",
      " [0]\n",
      " [0]\n",
      " [0]\n",
      " [0]\n",
      " [0]\n",
      " [0]\n",
      " [0]\n",
      " [0]\n",
      " [0]\n",
      " [0]\n",
      " [0]\n",
      " [0]\n",
      " [0]\n",
      " [0]\n",
      " [0]\n",
      " [0]\n",
      " [0]\n",
      " [0]\n",
      " [0]\n",
      " [0]\n",
      " [0]\n",
      " [0]\n",
      " [0]\n",
      " [0]\n",
      " [0]\n",
      " [0]\n",
      " [0]\n",
      " [0]\n",
      " [0]\n",
      " [0]\n",
      " [0]\n",
      " [0]\n",
      " [0]\n",
      " [0]\n",
      " [0]\n",
      " [0]\n",
      " [0]\n",
      " [0]\n",
      " [0]\n",
      " [0]\n",
      " [0]\n",
      " [0]\n",
      " [0]\n",
      " [0]\n",
      " [0]\n",
      " [0]\n",
      " [0]\n",
      " [0]\n",
      " [0]\n",
      " [0]\n",
      " [0]\n",
      " [0]\n",
      " [0]\n",
      " [0]\n",
      " [0]\n",
      " [0]\n",
      " [0]\n",
      " [0]\n",
      " [0]\n",
      " [0]\n",
      " [0]\n",
      " [0]\n",
      " [0]\n",
      " [0]\n",
      " [0]\n",
      " [0]\n",
      " [0]\n",
      " [0]\n",
      " [0]\n",
      " [0]\n",
      " [0]\n",
      " [0]\n",
      " [0]\n",
      " [0]\n",
      " [0]\n",
      " [0]\n",
      " [0]\n",
      " [0]\n",
      " [0]\n",
      " [0]\n",
      " [0]\n",
      " [0]\n",
      " [0]\n",
      " [0]\n",
      " [0]\n",
      " [0]\n",
      " [0]\n",
      " [0]\n",
      " [0]\n",
      " [0]\n",
      " [0]\n",
      " [0]\n",
      " [0]\n",
      " [0]\n",
      " [0]\n",
      " [0]\n",
      " [0]\n",
      " [0]\n",
      " [0]\n",
      " [0]\n",
      " [0]\n",
      " [0]\n",
      " [0]\n",
      " [0]\n",
      " [0]\n",
      " [0]\n",
      " [0]\n",
      " [0]\n",
      " [0]\n",
      " [0]\n",
      " [0]\n",
      " [0]\n",
      " [0]\n",
      " [0]\n",
      " [0]\n",
      " [0]\n",
      " [0]\n",
      " [0]\n",
      " [0]\n",
      " [0]\n",
      " [0]\n",
      " [0]\n",
      " [0]\n",
      " [0]\n",
      " [0]\n",
      " [0]\n",
      " [0]\n",
      " [0]\n",
      " [0]\n",
      " [0]\n",
      " [0]\n",
      " [0]\n",
      " [0]\n",
      " [0]\n",
      " [0]\n",
      " [0]\n",
      " [0]\n",
      " [0]\n",
      " [0]\n",
      " [0]\n",
      " [0]\n",
      " [0]\n",
      " [0]\n",
      " [0]\n",
      " [0]\n",
      " [0]\n",
      " [0]\n",
      " [0]\n",
      " [0]\n",
      " [0]\n",
      " [0]\n",
      " [0]\n",
      " [0]\n",
      " [0]\n",
      " [0]\n",
      " [0]\n",
      " [0]\n",
      " [0]\n",
      " [0]\n",
      " [0]\n",
      " [0]\n",
      " [0]\n",
      " [0]\n",
      " [0]\n",
      " [0]\n",
      " [0]\n",
      " [0]\n",
      " [0]\n",
      " [0]\n",
      " [0]\n",
      " [0]\n",
      " [0]\n",
      " [0]\n",
      " [0]\n",
      " [0]\n",
      " [0]\n",
      " [0]\n",
      " [0]\n",
      " [0]\n",
      " [0]\n",
      " [0]\n",
      " [0]\n",
      " [0]\n",
      " [0]\n",
      " [0]\n",
      " [0]\n",
      " [0]\n",
      " [0]\n",
      " [0]\n",
      " [0]\n",
      " [0]\n",
      " [0]\n",
      " [0]\n",
      " [0]\n",
      " [0]\n",
      " [0]\n",
      " [0]\n",
      " [0]\n",
      " [0]\n",
      " [0]\n",
      " [0]\n",
      " [0]\n",
      " [0]\n",
      " [0]\n",
      " [0]\n",
      " [0]\n",
      " [0]\n",
      " [0]\n",
      " [0]\n",
      " [0]\n",
      " [0]\n",
      " [0]\n",
      " [0]\n",
      " [0]\n",
      " [0]\n",
      " [0]\n",
      " [0]\n",
      " [0]\n",
      " [0]\n",
      " [0]\n",
      " [0]\n",
      " [0]\n",
      " [0]\n",
      " [0]\n",
      " [0]\n",
      " [0]\n",
      " [0]\n",
      " [0]\n",
      " [0]\n",
      " [0]\n",
      " [0]\n",
      " [0]\n",
      " [0]\n",
      " [0]\n",
      " [0]\n",
      " [0]\n",
      " [0]\n",
      " [0]\n",
      " [0]\n",
      " [0]\n",
      " [0]\n",
      " [0]\n",
      " [0]\n",
      " [0]\n",
      " [0]\n",
      " [0]\n",
      " [0]\n",
      " [0]\n",
      " [0]\n",
      " [0]\n",
      " [0]\n",
      " [0]\n",
      " [0]\n",
      " [0]\n",
      " [0]\n",
      " [0]\n",
      " [0]\n",
      " [0]\n",
      " [0]\n",
      " [0]\n",
      " [0]\n",
      " [0]\n",
      " [0]\n",
      " [0]\n",
      " [0]\n",
      " [0]\n",
      " [0]\n",
      " [0]\n",
      " [0]\n",
      " [0]\n",
      " [0]\n",
      " [0]\n",
      " [0]\n",
      " [0]\n",
      " [0]\n",
      " [0]\n",
      " [0]\n",
      " [0]\n",
      " [0]\n",
      " [0]\n",
      " [0]\n",
      " [0]\n",
      " [0]\n",
      " [0]\n",
      " [0]\n",
      " [0]\n",
      " [0]\n",
      " [0]\n",
      " [0]\n",
      " [0]\n",
      " [0]\n",
      " [0]\n",
      " [0]\n",
      " [0]\n",
      " [0]\n",
      " [0]\n",
      " [0]\n",
      " [0]\n",
      " [0]\n",
      " [0]\n",
      " [0]\n",
      " [0]\n",
      " [0]\n",
      " [0]\n",
      " [0]\n",
      " [0]\n",
      " [0]\n",
      " [0]\n",
      " [0]\n",
      " [0]\n",
      " [0]\n",
      " [0]\n",
      " [0]\n",
      " [0]\n",
      " [0]\n",
      " [0]\n",
      " [0]\n",
      " [0]\n",
      " [0]\n",
      " [0]\n",
      " [0]\n",
      " [0]\n",
      " [0]\n",
      " [0]\n",
      " [0]\n",
      " [0]\n",
      " [0]\n",
      " [0]\n",
      " [0]\n",
      " [0]\n",
      " [0]\n",
      " [0]\n",
      " [0]\n",
      " [0]\n",
      " [0]\n",
      " [0]\n",
      " [0]\n",
      " [0]\n",
      " [0]\n",
      " [0]\n",
      " [0]\n",
      " [0]\n",
      " [0]\n",
      " [0]\n",
      " [0]\n",
      " [0]\n",
      " [0]\n",
      " [0]\n",
      " [0]\n",
      " [0]\n",
      " [0]\n",
      " [0]\n",
      " [0]\n",
      " [0]\n",
      " [0]\n",
      " [0]\n",
      " [0]\n",
      " [0]\n",
      " [0]\n",
      " [0]\n",
      " [0]\n",
      " [0]\n",
      " [0]\n",
      " [0]\n",
      " [0]\n",
      " [0]\n",
      " [0]\n",
      " [0]\n",
      " [0]\n",
      " [0]\n",
      " [0]\n",
      " [0]\n",
      " [0]\n",
      " [0]\n",
      " [0]\n",
      " [0]\n",
      " [0]\n",
      " [0]\n",
      " [0]\n",
      " [0]\n",
      " [0]\n",
      " [0]\n",
      " [0]\n",
      " [0]\n",
      " [0]\n",
      " [0]\n",
      " [0]\n",
      " [0]\n",
      " [0]\n",
      " [0]\n",
      " [0]\n",
      " [0]\n",
      " [0]\n",
      " [0]\n",
      " [0]\n",
      " [0]\n",
      " [0]\n",
      " [0]\n",
      " [0]\n",
      " [0]\n",
      " [0]\n",
      " [0]\n",
      " [0]\n",
      " [0]\n",
      " [0]\n",
      " [0]\n",
      " [0]\n",
      " [0]\n",
      " [0]\n",
      " [0]\n",
      " [0]\n",
      " [0]\n",
      " [0]\n",
      " [0]\n",
      " [0]\n",
      " [0]\n",
      " [0]\n",
      " [0]\n",
      " [0]\n",
      " [0]\n",
      " [0]\n",
      " [0]\n",
      " [0]\n",
      " [0]\n",
      " [0]\n",
      " [0]\n",
      " [0]\n",
      " [0]\n",
      " [0]\n",
      " [0]\n",
      " [0]\n",
      " [0]\n",
      " [0]\n",
      " [0]\n",
      " [0]\n",
      " [0]\n",
      " [0]\n",
      " [0]\n",
      " [0]\n",
      " [0]\n",
      " [0]\n",
      " [0]\n",
      " [0]\n",
      " [0]\n",
      " [0]\n",
      " [0]\n",
      " [0]\n",
      " [0]\n",
      " [0]\n",
      " [0]\n",
      " [0]\n",
      " [0]\n",
      " [0]\n",
      " [0]\n",
      " [0]\n",
      " [0]\n",
      " [0]\n",
      " [0]\n",
      " [0]\n",
      " [0]\n",
      " [0]\n",
      " [0]\n",
      " [0]\n",
      " [0]\n",
      " [0]\n",
      " [0]\n",
      " [0]\n",
      " [0]\n",
      " [0]\n",
      " [0]\n",
      " [0]\n",
      " [0]\n",
      " [0]\n",
      " [0]\n",
      " [0]\n",
      " [0]\n",
      " [0]\n",
      " [0]\n",
      " [0]\n",
      " [0]\n",
      " [0]\n",
      " [0]\n",
      " [0]\n",
      " [0]\n",
      " [0]\n",
      " [0]\n",
      " [0]\n",
      " [0]\n",
      " [0]\n",
      " [0]\n",
      " [0]\n",
      " [0]\n",
      " [0]\n",
      " [0]\n",
      " [0]\n",
      " [0]\n",
      " [0]\n",
      " [0]\n",
      " [0]\n",
      " [0]\n",
      " [0]\n",
      " [0]\n",
      " [0]\n",
      " [0]\n",
      " [0]\n",
      " [0]\n",
      " [0]\n",
      " [0]\n",
      " [0]\n",
      " [0]\n",
      " [0]\n",
      " [0]\n",
      " [0]\n",
      " [0]\n",
      " [0]\n",
      " [0]\n",
      " [0]\n",
      " [0]\n",
      " [0]\n",
      " [0]\n",
      " [0]\n",
      " [0]\n",
      " [0]\n",
      " [0]\n",
      " [0]\n",
      " [0]\n",
      " [0]\n",
      " [0]\n",
      " [0]\n",
      " [0]\n",
      " [0]\n",
      " [0]\n",
      " [0]\n",
      " [0]\n",
      " [0]\n",
      " [0]\n",
      " [0]\n",
      " [0]\n",
      " [0]\n",
      " [0]\n",
      " [0]\n",
      " [0]\n",
      " [0]\n",
      " [0]\n",
      " [0]\n",
      " [0]\n",
      " [0]\n",
      " [0]\n",
      " [0]\n",
      " [0]\n",
      " [0]\n",
      " [0]\n",
      " [0]\n",
      " [0]\n",
      " [0]\n",
      " [0]\n",
      " [0]\n",
      " [0]\n",
      " [0]\n",
      " [0]\n",
      " [0]\n",
      " [0]\n",
      " [0]\n",
      " [0]\n",
      " [0]\n",
      " [0]\n",
      " [0]\n",
      " [0]\n",
      " [0]\n",
      " [0]\n",
      " [0]\n",
      " [0]\n",
      " [0]\n",
      " [0]\n",
      " [0]\n",
      " [0]\n",
      " [0]\n",
      " [0]\n",
      " [0]\n",
      " [0]\n",
      " [0]\n",
      " [0]\n",
      " [0]\n",
      " [0]\n",
      " [0]\n",
      " [0]\n",
      " [0]\n",
      " [0]\n",
      " [0]\n",
      " [0]\n",
      " [0]\n",
      " [0]\n",
      " [0]\n",
      " [0]\n",
      " [0]\n",
      " [0]\n",
      " [0]\n",
      " [0]\n",
      " [0]\n",
      " [0]\n",
      " [0]\n",
      " [0]\n",
      " [0]\n",
      " [0]\n",
      " [0]\n",
      " [0]\n",
      " [0]\n",
      " [0]\n",
      " [0]\n",
      " [0]\n",
      " [0]\n",
      " [0]\n",
      " [0]\n",
      " [0]\n",
      " [0]\n",
      " [0]\n",
      " [0]\n",
      " [0]\n",
      " [0]\n",
      " [0]\n",
      " [0]\n",
      " [0]\n",
      " [0]\n",
      " [0]\n",
      " [0]\n",
      " [0]\n",
      " [0]\n",
      " [0]\n",
      " [0]\n",
      " [0]\n",
      " [0]\n",
      " [0]\n",
      " [0]\n",
      " [0]\n",
      " [0]\n",
      " [0]\n",
      " [0]\n",
      " [0]\n",
      " [0]\n",
      " [0]\n",
      " [0]\n",
      " [0]\n",
      " [0]\n",
      " [0]\n",
      " [0]\n",
      " [0]\n",
      " [0]\n",
      " [0]\n",
      " [0]\n",
      " [0]\n",
      " [0]\n",
      " [0]\n",
      " [0]\n",
      " [0]\n",
      " [0]\n",
      " [0]\n",
      " [0]\n",
      " [0]\n",
      " [0]\n",
      " [0]\n",
      " [0]\n",
      " [0]\n",
      " [0]\n",
      " [0]\n",
      " [0]\n",
      " [0]\n",
      " [0]\n",
      " [0]\n",
      " [0]\n",
      " [0]\n",
      " [0]\n",
      " [0]\n",
      " [0]\n",
      " [0]\n",
      " [0]\n",
      " [0]\n",
      " [0]\n",
      " [0]\n",
      " [0]\n",
      " [0]\n",
      " [0]\n",
      " [0]\n",
      " [0]\n",
      " [0]\n",
      " [0]\n",
      " [0]\n",
      " [0]]\n",
      "(1000, 1)\n"
     ]
    },
    {
     "data": {
      "application/vnd.jupyter.widget-view+json": {
       "model_id": "a6d8a317d88349eda2f3c5bc00f88828",
       "version_major": 2,
       "version_minor": 0
      },
      "text/plain": [
       "Episodes for: Pure exploration:   0%|          | 0/1000 [00:00<?, ?it/s]"
      ]
     },
     "metadata": {},
     "output_type": "display_data"
    },
    {
     "name": "stdout",
     "output_type": "stream",
     "text": [
      "[3.16504005 3.33406892 3.29398034 3.40706897 3.18043762 3.17397194\n",
      " 3.0708369  3.22905955 3.1491671  3.44983105]\n",
      "[[6]\n",
      " [1]\n",
      " [2]\n",
      " [3]\n",
      " [3]\n",
      " [0]\n",
      " [6]\n",
      " [1]\n",
      " [4]\n",
      " [5]\n",
      " [9]\n",
      " [2]\n",
      " [6]\n",
      " [0]\n",
      " [5]\n",
      " [8]\n",
      " [2]\n",
      " [9]\n",
      " [3]\n",
      " [4]\n",
      " [3]\n",
      " [1]\n",
      " [7]\n",
      " [0]\n",
      " [2]\n",
      " [6]\n",
      " [2]\n",
      " [0]\n",
      " [4]\n",
      " [6]\n",
      " [9]\n",
      " [0]\n",
      " [0]\n",
      " [9]\n",
      " [8]\n",
      " [9]\n",
      " [6]\n",
      " [1]\n",
      " [8]\n",
      " [4]\n",
      " [0]\n",
      " [4]\n",
      " [1]\n",
      " [5]\n",
      " [5]\n",
      " [3]\n",
      " [4]\n",
      " [5]\n",
      " [5]\n",
      " [0]\n",
      " [6]\n",
      " [6]\n",
      " [3]\n",
      " [2]\n",
      " [4]\n",
      " [3]\n",
      " [9]\n",
      " [6]\n",
      " [7]\n",
      " [4]\n",
      " [1]\n",
      " [4]\n",
      " [9]\n",
      " [5]\n",
      " [3]\n",
      " [5]\n",
      " [0]\n",
      " [2]\n",
      " [9]\n",
      " [6]\n",
      " [4]\n",
      " [7]\n",
      " [6]\n",
      " [2]\n",
      " [3]\n",
      " [2]\n",
      " [6]\n",
      " [4]\n",
      " [5]\n",
      " [0]\n",
      " [0]\n",
      " [5]\n",
      " [4]\n",
      " [0]\n",
      " [3]\n",
      " [7]\n",
      " [9]\n",
      " [6]\n",
      " [8]\n",
      " [6]\n",
      " [1]\n",
      " [4]\n",
      " [9]\n",
      " [6]\n",
      " [5]\n",
      " [9]\n",
      " [2]\n",
      " [4]\n",
      " [0]\n",
      " [8]\n",
      " [4]\n",
      " [4]\n",
      " [3]\n",
      " [7]\n",
      " [3]\n",
      " [6]\n",
      " [1]\n",
      " [4]\n",
      " [3]\n",
      " [8]\n",
      " [8]\n",
      " [6]\n",
      " [9]\n",
      " [8]\n",
      " [4]\n",
      " [9]\n",
      " [4]\n",
      " [1]\n",
      " [4]\n",
      " [1]\n",
      " [4]\n",
      " [3]\n",
      " [2]\n",
      " [8]\n",
      " [0]\n",
      " [1]\n",
      " [4]\n",
      " [6]\n",
      " [5]\n",
      " [4]\n",
      " [2]\n",
      " [0]\n",
      " [1]\n",
      " [2]\n",
      " [5]\n",
      " [2]\n",
      " [0]\n",
      " [1]\n",
      " [4]\n",
      " [7]\n",
      " [7]\n",
      " [9]\n",
      " [1]\n",
      " [6]\n",
      " [1]\n",
      " [3]\n",
      " [0]\n",
      " [1]\n",
      " [8]\n",
      " [4]\n",
      " [8]\n",
      " [8]\n",
      " [8]\n",
      " [8]\n",
      " [3]\n",
      " [9]\n",
      " [5]\n",
      " [1]\n",
      " [6]\n",
      " [3]\n",
      " [2]\n",
      " [3]\n",
      " [1]\n",
      " [9]\n",
      " [3]\n",
      " [2]\n",
      " [2]\n",
      " [8]\n",
      " [9]\n",
      " [3]\n",
      " [5]\n",
      " [9]\n",
      " [1]\n",
      " [7]\n",
      " [4]\n",
      " [0]\n",
      " [8]\n",
      " [3]\n",
      " [1]\n",
      " [4]\n",
      " [7]\n",
      " [2]\n",
      " [2]\n",
      " [4]\n",
      " [0]\n",
      " [8]\n",
      " [3]\n",
      " [5]\n",
      " [2]\n",
      " [4]\n",
      " [7]\n",
      " [5]\n",
      " [0]\n",
      " [2]\n",
      " [4]\n",
      " [6]\n",
      " [6]\n",
      " [2]\n",
      " [7]\n",
      " [2]\n",
      " [5]\n",
      " [1]\n",
      " [5]\n",
      " [3]\n",
      " [7]\n",
      " [7]\n",
      " [1]\n",
      " [2]\n",
      " [1]\n",
      " [5]\n",
      " [8]\n",
      " [0]\n",
      " [8]\n",
      " [6]\n",
      " [5]\n",
      " [6]\n",
      " [4]\n",
      " [7]\n",
      " [8]\n",
      " [7]\n",
      " [1]\n",
      " [8]\n",
      " [2]\n",
      " [2]\n",
      " [7]\n",
      " [0]\n",
      " [1]\n",
      " [0]\n",
      " [5]\n",
      " [9]\n",
      " [0]\n",
      " [0]\n",
      " [7]\n",
      " [4]\n",
      " [3]\n",
      " [2]\n",
      " [6]\n",
      " [3]\n",
      " [4]\n",
      " [4]\n",
      " [9]\n",
      " [7]\n",
      " [2]\n",
      " [2]\n",
      " [3]\n",
      " [0]\n",
      " [3]\n",
      " [7]\n",
      " [8]\n",
      " [1]\n",
      " [6]\n",
      " [1]\n",
      " [8]\n",
      " [6]\n",
      " [6]\n",
      " [1]\n",
      " [3]\n",
      " [0]\n",
      " [5]\n",
      " [5]\n",
      " [3]\n",
      " [3]\n",
      " [7]\n",
      " [5]\n",
      " [1]\n",
      " [7]\n",
      " [7]\n",
      " [2]\n",
      " [3]\n",
      " [0]\n",
      " [2]\n",
      " [5]\n",
      " [8]\n",
      " [9]\n",
      " [4]\n",
      " [3]\n",
      " [0]\n",
      " [9]\n",
      " [1]\n",
      " [8]\n",
      " [4]\n",
      " [8]\n",
      " [0]\n",
      " [1]\n",
      " [5]\n",
      " [1]\n",
      " [2]\n",
      " [9]\n",
      " [3]\n",
      " [5]\n",
      " [6]\n",
      " [0]\n",
      " [8]\n",
      " [3]\n",
      " [4]\n",
      " [4]\n",
      " [2]\n",
      " [7]\n",
      " [7]\n",
      " [9]\n",
      " [0]\n",
      " [3]\n",
      " [4]\n",
      " [0]\n",
      " [2]\n",
      " [4]\n",
      " [2]\n",
      " [2]\n",
      " [5]\n",
      " [1]\n",
      " [9]\n",
      " [2]\n",
      " [2]\n",
      " [2]\n",
      " [6]\n",
      " [0]\n",
      " [7]\n",
      " [4]\n",
      " [8]\n",
      " [9]\n",
      " [3]\n",
      " [9]\n",
      " [9]\n",
      " [8]\n",
      " [8]\n",
      " [7]\n",
      " [4]\n",
      " [2]\n",
      " [2]\n",
      " [3]\n",
      " [3]\n",
      " [7]\n",
      " [4]\n",
      " [8]\n",
      " [7]\n",
      " [6]\n",
      " [0]\n",
      " [9]\n",
      " [9]\n",
      " [8]\n",
      " [9]\n",
      " [0]\n",
      " [6]\n",
      " [7]\n",
      " [4]\n",
      " [0]\n",
      " [9]\n",
      " [1]\n",
      " [9]\n",
      " [6]\n",
      " [4]\n",
      " [9]\n",
      " [2]\n",
      " [9]\n",
      " [0]\n",
      " [2]\n",
      " [8]\n",
      " [2]\n",
      " [0]\n",
      " [5]\n",
      " [9]\n",
      " [9]\n",
      " [0]\n",
      " [3]\n",
      " [0]\n",
      " [8]\n",
      " [1]\n",
      " [0]\n",
      " [6]\n",
      " [0]\n",
      " [0]\n",
      " [2]\n",
      " [4]\n",
      " [3]\n",
      " [9]\n",
      " [9]\n",
      " [1]\n",
      " [5]\n",
      " [0]\n",
      " [2]\n",
      " [2]\n",
      " [8]\n",
      " [5]\n",
      " [0]\n",
      " [7]\n",
      " [9]\n",
      " [0]\n",
      " [2]\n",
      " [8]\n",
      " [0]\n",
      " [5]\n",
      " [3]\n",
      " [5]\n",
      " [7]\n",
      " [9]\n",
      " [6]\n",
      " [6]\n",
      " [4]\n",
      " [6]\n",
      " [1]\n",
      " [9]\n",
      " [1]\n",
      " [2]\n",
      " [4]\n",
      " [4]\n",
      " [6]\n",
      " [2]\n",
      " [3]\n",
      " [4]\n",
      " [4]\n",
      " [3]\n",
      " [0]\n",
      " [8]\n",
      " [7]\n",
      " [5]\n",
      " [1]\n",
      " [1]\n",
      " [3]\n",
      " [7]\n",
      " [9]\n",
      " [5]\n",
      " [9]\n",
      " [0]\n",
      " [7]\n",
      " [8]\n",
      " [9]\n",
      " [9]\n",
      " [5]\n",
      " [0]\n",
      " [5]\n",
      " [9]\n",
      " [9]\n",
      " [1]\n",
      " [4]\n",
      " [9]\n",
      " [6]\n",
      " [2]\n",
      " [3]\n",
      " [4]\n",
      " [7]\n",
      " [4]\n",
      " [7]\n",
      " [6]\n",
      " [4]\n",
      " [6]\n",
      " [3]\n",
      " [1]\n",
      " [9]\n",
      " [2]\n",
      " [4]\n",
      " [2]\n",
      " [8]\n",
      " [8]\n",
      " [9]\n",
      " [3]\n",
      " [5]\n",
      " [3]\n",
      " [1]\n",
      " [4]\n",
      " [5]\n",
      " [4]\n",
      " [9]\n",
      " [7]\n",
      " [9]\n",
      " [9]\n",
      " [9]\n",
      " [4]\n",
      " [0]\n",
      " [9]\n",
      " [4]\n",
      " [2]\n",
      " [2]\n",
      " [7]\n",
      " [7]\n",
      " [6]\n",
      " [0]\n",
      " [9]\n",
      " [6]\n",
      " [1]\n",
      " [2]\n",
      " [2]\n",
      " [6]\n",
      " [3]\n",
      " [1]\n",
      " [6]\n",
      " [3]\n",
      " [7]\n",
      " [2]\n",
      " [0]\n",
      " [6]\n",
      " [4]\n",
      " [9]\n",
      " [2]\n",
      " [8]\n",
      " [0]\n",
      " [1]\n",
      " [9]\n",
      " [9]\n",
      " [7]\n",
      " [3]\n",
      " [9]\n",
      " [9]\n",
      " [4]\n",
      " [3]\n",
      " [5]\n",
      " [4]\n",
      " [4]\n",
      " [5]\n",
      " [5]\n",
      " [6]\n",
      " [1]\n",
      " [7]\n",
      " [7]\n",
      " [9]\n",
      " [1]\n",
      " [7]\n",
      " [0]\n",
      " [1]\n",
      " [8]\n",
      " [7]\n",
      " [7]\n",
      " [3]\n",
      " [1]\n",
      " [9]\n",
      " [6]\n",
      " [9]\n",
      " [0]\n",
      " [0]\n",
      " [7]\n",
      " [2]\n",
      " [2]\n",
      " [6]\n",
      " [3]\n",
      " [7]\n",
      " [3]\n",
      " [6]\n",
      " [9]\n",
      " [1]\n",
      " [5]\n",
      " [9]\n",
      " [1]\n",
      " [1]\n",
      " [1]\n",
      " [8]\n",
      " [0]\n",
      " [5]\n",
      " [5]\n",
      " [0]\n",
      " [2]\n",
      " [3]\n",
      " [3]\n",
      " [5]\n",
      " [9]\n",
      " [0]\n",
      " [3]\n",
      " [5]\n",
      " [1]\n",
      " [4]\n",
      " [6]\n",
      " [0]\n",
      " [0]\n",
      " [5]\n",
      " [3]\n",
      " [0]\n",
      " [5]\n",
      " [5]\n",
      " [8]\n",
      " [5]\n",
      " [5]\n",
      " [4]\n",
      " [4]\n",
      " [6]\n",
      " [5]\n",
      " [3]\n",
      " [1]\n",
      " [5]\n",
      " [9]\n",
      " [7]\n",
      " [9]\n",
      " [1]\n",
      " [2]\n",
      " [2]\n",
      " [0]\n",
      " [4]\n",
      " [8]\n",
      " [1]\n",
      " [6]\n",
      " [5]\n",
      " [6]\n",
      " [6]\n",
      " [6]\n",
      " [9]\n",
      " [1]\n",
      " [7]\n",
      " [6]\n",
      " [5]\n",
      " [5]\n",
      " [3]\n",
      " [0]\n",
      " [3]\n",
      " [5]\n",
      " [3]\n",
      " [5]\n",
      " [5]\n",
      " [6]\n",
      " [2]\n",
      " [8]\n",
      " [0]\n",
      " [5]\n",
      " [7]\n",
      " [0]\n",
      " [7]\n",
      " [7]\n",
      " [2]\n",
      " [4]\n",
      " [4]\n",
      " [0]\n",
      " [9]\n",
      " [5]\n",
      " [6]\n",
      " [6]\n",
      " [5]\n",
      " [3]\n",
      " [3]\n",
      " [4]\n",
      " [9]\n",
      " [4]\n",
      " [8]\n",
      " [0]\n",
      " [6]\n",
      " [8]\n",
      " [0]\n",
      " [3]\n",
      " [8]\n",
      " [2]\n",
      " [3]\n",
      " [6]\n",
      " [4]\n",
      " [1]\n",
      " [0]\n",
      " [5]\n",
      " [5]\n",
      " [8]\n",
      " [5]\n",
      " [7]\n",
      " [4]\n",
      " [4]\n",
      " [4]\n",
      " [4]\n",
      " [6]\n",
      " [9]\n",
      " [3]\n",
      " [1]\n",
      " [6]\n",
      " [3]\n",
      " [9]\n",
      " [0]\n",
      " [3]\n",
      " [5]\n",
      " [2]\n",
      " [2]\n",
      " [7]\n",
      " [6]\n",
      " [8]\n",
      " [5]\n",
      " [8]\n",
      " [6]\n",
      " [9]\n",
      " [6]\n",
      " [2]\n",
      " [6]\n",
      " [1]\n",
      " [7]\n",
      " [3]\n",
      " [5]\n",
      " [3]\n",
      " [1]\n",
      " [6]\n",
      " [2]\n",
      " [0]\n",
      " [0]\n",
      " [4]\n",
      " [2]\n",
      " [3]\n",
      " [0]\n",
      " [8]\n",
      " [0]\n",
      " [8]\n",
      " [7]\n",
      " [4]\n",
      " [2]\n",
      " [1]\n",
      " [1]\n",
      " [3]\n",
      " [9]\n",
      " [9]\n",
      " [8]\n",
      " [5]\n",
      " [9]\n",
      " [8]\n",
      " [2]\n",
      " [0]\n",
      " [5]\n",
      " [6]\n",
      " [9]\n",
      " [3]\n",
      " [0]\n",
      " [9]\n",
      " [7]\n",
      " [5]\n",
      " [9]\n",
      " [8]\n",
      " [8]\n",
      " [4]\n",
      " [8]\n",
      " [9]\n",
      " [3]\n",
      " [5]\n",
      " [9]\n",
      " [7]\n",
      " [1]\n",
      " [1]\n",
      " [9]\n",
      " [2]\n",
      " [2]\n",
      " [4]\n",
      " [5]\n",
      " [2]\n",
      " [3]\n",
      " [3]\n",
      " [6]\n",
      " [2]\n",
      " [5]\n",
      " [2]\n",
      " [8]\n",
      " [3]\n",
      " [6]\n",
      " [8]\n",
      " [2]\n",
      " [8]\n",
      " [0]\n",
      " [3]\n",
      " [4]\n",
      " [5]\n",
      " [3]\n",
      " [3]\n",
      " [8]\n",
      " [2]\n",
      " [0]\n",
      " [4]\n",
      " [5]\n",
      " [2]\n",
      " [1]\n",
      " [8]\n",
      " [6]\n",
      " [9]\n",
      " [5]\n",
      " [5]\n",
      " [5]\n",
      " [2]\n",
      " [0]\n",
      " [6]\n",
      " [9]\n",
      " [1]\n",
      " [8]\n",
      " [0]\n",
      " [7]\n",
      " [5]\n",
      " [8]\n",
      " [6]\n",
      " [9]\n",
      " [5]\n",
      " [8]\n",
      " [4]\n",
      " [0]\n",
      " [5]\n",
      " [8]\n",
      " [1]\n",
      " [6]\n",
      " [4]\n",
      " [2]\n",
      " [6]\n",
      " [0]\n",
      " [3]\n",
      " [0]\n",
      " [0]\n",
      " [3]\n",
      " [3]\n",
      " [5]\n",
      " [1]\n",
      " [8]\n",
      " [4]\n",
      " [9]\n",
      " [9]\n",
      " [5]\n",
      " [4]\n",
      " [3]\n",
      " [2]\n",
      " [5]\n",
      " [1]\n",
      " [8]\n",
      " [7]\n",
      " [6]\n",
      " [7]\n",
      " [9]\n",
      " [3]\n",
      " [8]\n",
      " [7]\n",
      " [9]\n",
      " [4]\n",
      " [4]\n",
      " [8]\n",
      " [1]\n",
      " [7]\n",
      " [9]\n",
      " [5]\n",
      " [4]\n",
      " [7]\n",
      " [3]\n",
      " [9]\n",
      " [7]\n",
      " [4]\n",
      " [2]\n",
      " [2]\n",
      " [5]\n",
      " [9]\n",
      " [6]\n",
      " [0]\n",
      " [3]\n",
      " [4]\n",
      " [1]\n",
      " [8]\n",
      " [9]\n",
      " [7]\n",
      " [2]\n",
      " [8]\n",
      " [6]\n",
      " [8]\n",
      " [3]\n",
      " [1]\n",
      " [6]\n",
      " [3]\n",
      " [0]\n",
      " [0]\n",
      " [6]\n",
      " [8]\n",
      " [4]\n",
      " [9]\n",
      " [5]\n",
      " [9]\n",
      " [4]\n",
      " [1]\n",
      " [2]\n",
      " [2]\n",
      " [2]\n",
      " [0]\n",
      " [8]\n",
      " [3]\n",
      " [8]\n",
      " [8]\n",
      " [1]\n",
      " [1]\n",
      " [0]\n",
      " [2]\n",
      " [4]\n",
      " [8]\n",
      " [6]\n",
      " [6]\n",
      " [6]\n",
      " [4]\n",
      " [7]\n",
      " [0]\n",
      " [0]\n",
      " [2]\n",
      " [6]\n",
      " [6]\n",
      " [8]\n",
      " [5]\n",
      " [1]\n",
      " [2]\n",
      " [5]\n",
      " [0]\n",
      " [9]\n",
      " [0]\n",
      " [8]\n",
      " [9]\n",
      " [1]\n",
      " [5]\n",
      " [7]\n",
      " [5]\n",
      " [8]\n",
      " [0]\n",
      " [4]\n",
      " [4]\n",
      " [5]\n",
      " [5]\n",
      " [2]\n",
      " [7]\n",
      " [5]\n",
      " [4]\n",
      " [3]\n",
      " [3]\n",
      " [3]\n",
      " [1]\n",
      " [6]\n",
      " [7]\n",
      " [2]\n",
      " [8]\n",
      " [0]\n",
      " [0]\n",
      " [8]\n",
      " [8]\n",
      " [8]\n",
      " [9]\n",
      " [5]\n",
      " [9]\n",
      " [4]\n",
      " [0]\n",
      " [4]\n",
      " [6]\n",
      " [8]\n",
      " [9]\n",
      " [5]\n",
      " [3]\n",
      " [2]\n",
      " [1]\n",
      " [2]\n",
      " [6]\n",
      " [7]\n",
      " [8]\n",
      " [2]\n",
      " [6]\n",
      " [9]\n",
      " [6]\n",
      " [3]\n",
      " [7]\n",
      " [8]\n",
      " [2]\n",
      " [9]\n",
      " [5]\n",
      " [6]\n",
      " [9]\n",
      " [7]\n",
      " [6]\n",
      " [7]\n",
      " [0]\n",
      " [8]\n",
      " [3]\n",
      " [2]\n",
      " [8]\n",
      " [0]\n",
      " [9]\n",
      " [4]\n",
      " [3]\n",
      " [1]\n",
      " [0]\n",
      " [8]\n",
      " [6]\n",
      " [9]\n",
      " [4]\n",
      " [5]\n",
      " [7]\n",
      " [3]\n",
      " [6]\n",
      " [2]\n",
      " [5]\n",
      " [6]\n",
      " [3]\n",
      " [9]\n",
      " [9]\n",
      " [9]\n",
      " [4]\n",
      " [7]\n",
      " [9]\n",
      " [2]\n",
      " [4]\n",
      " [3]\n",
      " [2]\n",
      " [5]\n",
      " [4]\n",
      " [0]\n",
      " [7]\n",
      " [5]\n",
      " [6]\n",
      " [7]\n",
      " [7]\n",
      " [8]\n",
      " [8]\n",
      " [3]\n",
      " [1]\n",
      " [6]\n",
      " [5]\n",
      " [7]\n",
      " [5]\n",
      " [7]\n",
      " [8]\n",
      " [1]\n",
      " [8]\n",
      " [3]\n",
      " [2]]\n",
      "(1000, 1)\n"
     ]
    },
    {
     "data": {
      "application/vnd.jupyter.widget-view+json": {
       "model_id": "52484b29ee324659a389dc4dcef95de8",
       "version_major": 2,
       "version_minor": 0
      },
      "text/plain": [
       "Episodes for: Optimistic 1.0, 10:   0%|          | 0/1000 [00:00<?, ?it/s]"
      ]
     },
     "metadata": {},
     "output_type": "display_data"
    },
    {
     "name": "stdout",
     "output_type": "stream",
     "text": [
      "[3.16504005 3.33406892 3.29398034 3.40706897 3.18043762 3.17397194\n",
      " 3.0708369  3.22905955 3.1491671  3.44983105]\n",
      "[[0]\n",
      " [0]\n",
      " [0]\n",
      " [0]\n",
      " [0]\n",
      " [0]\n",
      " [0]\n",
      " [0]\n",
      " [0]\n",
      " [0]\n",
      " [0]\n",
      " [0]\n",
      " [0]\n",
      " [0]\n",
      " [0]\n",
      " [0]\n",
      " [0]\n",
      " [0]\n",
      " [0]\n",
      " [0]\n",
      " [0]\n",
      " [0]\n",
      " [0]\n",
      " [0]\n",
      " [0]\n",
      " [0]\n",
      " [0]\n",
      " [0]\n",
      " [0]\n",
      " [0]\n",
      " [0]\n",
      " [0]\n",
      " [0]\n",
      " [0]\n",
      " [0]\n",
      " [0]\n",
      " [0]\n",
      " [0]\n",
      " [0]\n",
      " [0]\n",
      " [0]\n",
      " [0]\n",
      " [0]\n",
      " [0]\n",
      " [0]\n",
      " [0]\n",
      " [0]\n",
      " [0]\n",
      " [0]\n",
      " [0]\n",
      " [0]\n",
      " [0]\n",
      " [0]\n",
      " [0]\n",
      " [0]\n",
      " [0]\n",
      " [0]\n",
      " [0]\n",
      " [0]\n",
      " [0]\n",
      " [0]\n",
      " [0]\n",
      " [0]\n",
      " [0]\n",
      " [0]\n",
      " [0]\n",
      " [0]\n",
      " [0]\n",
      " [0]\n",
      " [0]\n",
      " [0]\n",
      " [0]\n",
      " [0]\n",
      " [0]\n",
      " [0]\n",
      " [0]\n",
      " [0]\n",
      " [0]\n",
      " [0]\n",
      " [0]\n",
      " [0]\n",
      " [0]\n",
      " [0]\n",
      " [0]\n",
      " [0]\n",
      " [0]\n",
      " [0]\n",
      " [0]\n",
      " [0]\n",
      " [0]\n",
      " [0]\n",
      " [0]\n",
      " [0]\n",
      " [0]\n",
      " [0]\n",
      " [0]\n",
      " [0]\n",
      " [0]\n",
      " [0]\n",
      " [0]\n",
      " [0]\n",
      " [0]\n",
      " [0]\n",
      " [0]\n",
      " [0]\n",
      " [0]\n",
      " [0]\n",
      " [0]\n",
      " [0]\n",
      " [0]\n",
      " [0]\n",
      " [0]\n",
      " [0]\n",
      " [0]\n",
      " [0]\n",
      " [0]\n",
      " [0]\n",
      " [0]\n",
      " [0]\n",
      " [0]\n",
      " [0]\n",
      " [0]\n",
      " [0]\n",
      " [0]\n",
      " [0]\n",
      " [0]\n",
      " [0]\n",
      " [0]\n",
      " [0]\n",
      " [0]\n",
      " [0]\n",
      " [0]\n",
      " [0]\n",
      " [0]\n",
      " [0]\n",
      " [0]\n",
      " [0]\n",
      " [0]\n",
      " [0]\n",
      " [0]\n",
      " [0]\n",
      " [0]\n",
      " [0]\n",
      " [0]\n",
      " [0]\n",
      " [0]\n",
      " [0]\n",
      " [0]\n",
      " [0]\n",
      " [0]\n",
      " [0]\n",
      " [0]\n",
      " [0]\n",
      " [0]\n",
      " [0]\n",
      " [0]\n",
      " [0]\n",
      " [0]\n",
      " [0]\n",
      " [0]\n",
      " [0]\n",
      " [0]\n",
      " [0]\n",
      " [0]\n",
      " [0]\n",
      " [0]\n",
      " [0]\n",
      " [0]\n",
      " [0]\n",
      " [0]\n",
      " [0]\n",
      " [0]\n",
      " [0]\n",
      " [0]\n",
      " [0]\n",
      " [0]\n",
      " [0]\n",
      " [0]\n",
      " [0]\n",
      " [0]\n",
      " [0]\n",
      " [0]\n",
      " [0]\n",
      " [0]\n",
      " [0]\n",
      " [0]\n",
      " [0]\n",
      " [0]\n",
      " [0]\n",
      " [0]\n",
      " [0]\n",
      " [0]\n",
      " [0]\n",
      " [0]\n",
      " [0]\n",
      " [0]\n",
      " [0]\n",
      " [0]\n",
      " [0]\n",
      " [0]\n",
      " [0]\n",
      " [0]\n",
      " [0]\n",
      " [0]\n",
      " [0]\n",
      " [0]\n",
      " [0]\n",
      " [0]\n",
      " [0]\n",
      " [0]\n",
      " [0]\n",
      " [0]\n",
      " [0]\n",
      " [0]\n",
      " [0]\n",
      " [0]\n",
      " [0]\n",
      " [0]\n",
      " [0]\n",
      " [0]\n",
      " [0]\n",
      " [0]\n",
      " [0]\n",
      " [0]\n",
      " [0]\n",
      " [0]\n",
      " [0]\n",
      " [0]\n",
      " [0]\n",
      " [0]\n",
      " [0]\n",
      " [0]\n",
      " [0]\n",
      " [0]\n",
      " [0]\n",
      " [0]\n",
      " [0]\n",
      " [0]\n",
      " [0]\n",
      " [0]\n",
      " [0]\n",
      " [0]\n",
      " [0]\n",
      " [0]\n",
      " [0]\n",
      " [0]\n",
      " [0]\n",
      " [0]\n",
      " [0]\n",
      " [0]\n",
      " [0]\n",
      " [0]\n",
      " [0]\n",
      " [0]\n",
      " [0]\n",
      " [0]\n",
      " [0]\n",
      " [0]\n",
      " [0]\n",
      " [0]\n",
      " [0]\n",
      " [0]\n",
      " [0]\n",
      " [0]\n",
      " [0]\n",
      " [0]\n",
      " [0]\n",
      " [0]\n",
      " [0]\n",
      " [0]\n",
      " [0]\n",
      " [0]\n",
      " [0]\n",
      " [0]\n",
      " [0]\n",
      " [0]\n",
      " [0]\n",
      " [0]\n",
      " [0]\n",
      " [0]\n",
      " [0]\n",
      " [0]\n",
      " [0]\n",
      " [0]\n",
      " [0]\n",
      " [0]\n",
      " [0]\n",
      " [0]\n",
      " [0]\n",
      " [0]\n",
      " [0]\n",
      " [0]\n",
      " [0]\n",
      " [0]\n",
      " [0]\n",
      " [0]\n",
      " [0]\n",
      " [0]\n",
      " [0]\n",
      " [0]\n",
      " [0]\n",
      " [0]\n",
      " [0]\n",
      " [0]\n",
      " [0]\n",
      " [0]\n",
      " [0]\n",
      " [0]\n",
      " [0]\n",
      " [0]\n",
      " [0]\n",
      " [0]\n",
      " [0]\n",
      " [0]\n",
      " [0]\n",
      " [0]\n",
      " [0]\n",
      " [0]\n",
      " [0]\n",
      " [0]\n",
      " [0]\n",
      " [0]\n",
      " [0]\n",
      " [0]\n",
      " [0]\n",
      " [0]\n",
      " [0]\n",
      " [0]\n",
      " [0]\n",
      " [0]\n",
      " [0]\n",
      " [0]\n",
      " [0]\n",
      " [0]\n",
      " [0]\n",
      " [0]\n",
      " [0]\n",
      " [0]\n",
      " [0]\n",
      " [0]\n",
      " [0]\n",
      " [0]\n",
      " [0]\n",
      " [0]\n",
      " [0]\n",
      " [0]\n",
      " [0]\n",
      " [0]\n",
      " [0]\n",
      " [0]\n",
      " [0]\n",
      " [0]\n",
      " [0]\n",
      " [0]\n",
      " [0]\n",
      " [0]\n",
      " [0]\n",
      " [0]\n",
      " [0]\n",
      " [0]\n",
      " [0]\n",
      " [0]\n",
      " [0]\n",
      " [0]\n",
      " [0]\n",
      " [0]\n",
      " [0]\n",
      " [0]\n",
      " [0]\n",
      " [0]\n",
      " [0]\n",
      " [0]\n",
      " [0]\n",
      " [0]\n",
      " [0]\n",
      " [0]\n",
      " [0]\n",
      " [0]\n",
      " [0]\n",
      " [0]\n",
      " [0]\n",
      " [0]\n",
      " [0]\n",
      " [0]\n",
      " [0]\n",
      " [0]\n",
      " [0]\n",
      " [0]\n",
      " [0]\n",
      " [0]\n",
      " [0]\n",
      " [0]\n",
      " [0]\n",
      " [0]\n",
      " [0]\n",
      " [0]\n",
      " [0]\n",
      " [0]\n",
      " [0]\n",
      " [0]\n",
      " [0]\n",
      " [0]\n",
      " [0]\n",
      " [0]\n",
      " [0]\n",
      " [0]\n",
      " [0]\n",
      " [0]\n",
      " [0]\n",
      " [0]\n",
      " [0]\n",
      " [0]\n",
      " [0]\n",
      " [0]\n",
      " [0]\n",
      " [0]\n",
      " [0]\n",
      " [0]\n",
      " [0]\n",
      " [0]\n",
      " [0]\n",
      " [0]\n",
      " [0]\n",
      " [0]\n",
      " [0]\n",
      " [0]\n",
      " [0]\n",
      " [0]\n",
      " [0]\n",
      " [0]\n",
      " [0]\n",
      " [0]\n",
      " [0]\n",
      " [0]\n",
      " [0]\n",
      " [0]\n",
      " [0]\n",
      " [0]\n",
      " [0]\n",
      " [0]\n",
      " [0]\n",
      " [0]\n",
      " [0]\n",
      " [0]\n",
      " [0]\n",
      " [0]\n",
      " [0]\n",
      " [0]\n",
      " [0]\n",
      " [0]\n",
      " [0]\n",
      " [0]\n",
      " [0]\n",
      " [0]\n",
      " [0]\n",
      " [0]\n",
      " [0]\n",
      " [0]\n",
      " [0]\n",
      " [0]\n",
      " [0]\n",
      " [0]\n",
      " [0]\n",
      " [0]\n",
      " [0]\n",
      " [0]\n",
      " [0]\n",
      " [0]\n",
      " [0]\n",
      " [0]\n",
      " [0]\n",
      " [0]\n",
      " [0]\n",
      " [0]\n",
      " [0]\n",
      " [0]\n",
      " [0]\n",
      " [0]\n",
      " [0]\n",
      " [0]\n",
      " [0]\n",
      " [0]\n",
      " [0]\n",
      " [0]\n",
      " [0]\n",
      " [0]\n",
      " [0]\n",
      " [0]\n",
      " [0]\n",
      " [0]\n",
      " [0]\n",
      " [0]\n",
      " [0]\n",
      " [0]\n",
      " [0]\n",
      " [0]\n",
      " [0]\n",
      " [0]\n",
      " [0]\n",
      " [0]\n",
      " [0]\n",
      " [0]\n",
      " [0]\n",
      " [0]\n",
      " [0]\n",
      " [0]\n",
      " [0]\n",
      " [0]\n",
      " [0]\n",
      " [0]\n",
      " [0]\n",
      " [0]\n",
      " [0]\n",
      " [0]\n",
      " [0]\n",
      " [0]\n",
      " [0]\n",
      " [0]\n",
      " [0]\n",
      " [0]\n",
      " [0]\n",
      " [0]\n",
      " [0]\n",
      " [0]\n",
      " [0]\n",
      " [0]\n",
      " [0]\n",
      " [0]\n",
      " [0]\n",
      " [0]\n",
      " [0]\n",
      " [0]\n",
      " [0]\n",
      " [0]\n",
      " [0]\n",
      " [0]\n",
      " [0]\n",
      " [0]\n",
      " [0]\n",
      " [0]\n",
      " [0]\n",
      " [0]\n",
      " [0]\n",
      " [0]\n",
      " [0]\n",
      " [0]\n",
      " [0]\n",
      " [0]\n",
      " [0]\n",
      " [0]\n",
      " [0]\n",
      " [0]\n",
      " [0]\n",
      " [0]\n",
      " [0]\n",
      " [0]\n",
      " [0]\n",
      " [0]\n",
      " [0]\n",
      " [0]\n",
      " [0]\n",
      " [0]\n",
      " [0]\n",
      " [0]\n",
      " [0]\n",
      " [0]\n",
      " [0]\n",
      " [0]\n",
      " [0]\n",
      " [0]\n",
      " [0]\n",
      " [0]\n",
      " [0]\n",
      " [0]\n",
      " [0]\n",
      " [0]\n",
      " [0]\n",
      " [0]\n",
      " [0]\n",
      " [0]\n",
      " [0]\n",
      " [0]\n",
      " [0]\n",
      " [0]\n",
      " [0]\n",
      " [0]\n",
      " [0]\n",
      " [0]\n",
      " [0]\n",
      " [0]\n",
      " [0]\n",
      " [0]\n",
      " [0]\n",
      " [0]\n",
      " [0]\n",
      " [0]\n",
      " [0]\n",
      " [0]\n",
      " [0]\n",
      " [0]\n",
      " [0]\n",
      " [0]\n",
      " [0]\n",
      " [0]\n",
      " [0]\n",
      " [0]\n",
      " [0]\n",
      " [0]\n",
      " [0]\n",
      " [0]\n",
      " [0]\n",
      " [0]\n",
      " [0]\n",
      " [0]\n",
      " [0]\n",
      " [0]\n",
      " [0]\n",
      " [0]\n",
      " [0]\n",
      " [0]\n",
      " [0]\n",
      " [0]\n",
      " [0]\n",
      " [0]\n",
      " [0]\n",
      " [0]\n",
      " [0]\n",
      " [0]\n",
      " [0]\n",
      " [0]\n",
      " [0]\n",
      " [0]\n",
      " [0]\n",
      " [0]\n",
      " [0]\n",
      " [0]\n",
      " [0]\n",
      " [0]\n",
      " [0]\n",
      " [0]\n",
      " [0]\n",
      " [0]\n",
      " [0]\n",
      " [0]\n",
      " [0]\n",
      " [0]\n",
      " [0]\n",
      " [0]\n",
      " [0]\n",
      " [0]\n",
      " [0]\n",
      " [0]\n",
      " [0]\n",
      " [0]\n",
      " [0]\n",
      " [0]\n",
      " [0]\n",
      " [0]\n",
      " [0]\n",
      " [0]\n",
      " [0]\n",
      " [0]\n",
      " [0]\n",
      " [0]\n",
      " [0]\n",
      " [0]\n",
      " [0]\n",
      " [0]\n",
      " [0]\n",
      " [0]\n",
      " [0]\n",
      " [0]\n",
      " [0]\n",
      " [0]\n",
      " [0]\n",
      " [0]\n",
      " [0]\n",
      " [0]\n",
      " [0]\n",
      " [0]\n",
      " [0]\n",
      " [0]\n",
      " [0]\n",
      " [0]\n",
      " [0]\n",
      " [0]\n",
      " [0]\n",
      " [0]\n",
      " [0]\n",
      " [0]\n",
      " [0]\n",
      " [0]\n",
      " [0]\n",
      " [0]\n",
      " [0]\n",
      " [0]\n",
      " [0]\n",
      " [0]\n",
      " [0]\n",
      " [0]\n",
      " [0]\n",
      " [0]\n",
      " [0]\n",
      " [0]\n",
      " [0]\n",
      " [0]\n",
      " [0]\n",
      " [0]\n",
      " [0]\n",
      " [0]\n",
      " [0]\n",
      " [0]\n",
      " [0]\n",
      " [0]\n",
      " [0]\n",
      " [0]\n",
      " [0]\n",
      " [0]\n",
      " [0]\n",
      " [0]\n",
      " [0]\n",
      " [0]\n",
      " [0]\n",
      " [0]\n",
      " [0]\n",
      " [0]\n",
      " [0]\n",
      " [0]\n",
      " [0]\n",
      " [0]\n",
      " [0]\n",
      " [0]\n",
      " [0]\n",
      " [0]\n",
      " [0]\n",
      " [0]\n",
      " [0]\n",
      " [0]\n",
      " [0]\n",
      " [0]\n",
      " [0]\n",
      " [0]\n",
      " [0]\n",
      " [0]\n",
      " [0]\n",
      " [0]\n",
      " [0]\n",
      " [0]\n",
      " [0]\n",
      " [0]\n",
      " [0]\n",
      " [0]\n",
      " [0]\n",
      " [0]\n",
      " [0]\n",
      " [0]\n",
      " [0]\n",
      " [0]\n",
      " [0]\n",
      " [0]\n",
      " [0]\n",
      " [0]\n",
      " [0]\n",
      " [0]\n",
      " [0]\n",
      " [0]\n",
      " [0]\n",
      " [0]\n",
      " [0]\n",
      " [0]\n",
      " [0]\n",
      " [0]\n",
      " [0]\n",
      " [0]\n",
      " [0]\n",
      " [0]\n",
      " [0]\n",
      " [0]\n",
      " [0]\n",
      " [0]\n",
      " [0]\n",
      " [0]\n",
      " [0]\n",
      " [0]\n",
      " [0]\n",
      " [0]\n",
      " [0]\n",
      " [0]\n",
      " [0]\n",
      " [0]\n",
      " [0]\n",
      " [0]\n",
      " [0]\n",
      " [0]\n",
      " [0]\n",
      " [0]\n",
      " [0]\n",
      " [0]\n",
      " [0]\n",
      " [0]\n",
      " [0]\n",
      " [0]\n",
      " [0]\n",
      " [0]\n",
      " [0]\n",
      " [0]\n",
      " [0]\n",
      " [0]\n",
      " [0]\n",
      " [0]\n",
      " [0]\n",
      " [0]\n",
      " [0]\n",
      " [0]\n",
      " [0]\n",
      " [0]\n",
      " [0]\n",
      " [0]\n",
      " [0]\n",
      " [0]\n",
      " [0]\n",
      " [0]\n",
      " [0]\n",
      " [0]\n",
      " [0]\n",
      " [0]\n",
      " [0]\n",
      " [0]\n",
      " [0]\n",
      " [0]\n",
      " [0]\n",
      " [0]\n",
      " [0]\n",
      " [0]\n",
      " [0]\n",
      " [0]\n",
      " [0]\n",
      " [0]\n",
      " [0]\n",
      " [0]\n",
      " [0]\n",
      " [0]\n",
      " [0]\n",
      " [0]\n",
      " [0]\n",
      " [0]\n",
      " [0]\n",
      " [0]\n",
      " [0]\n",
      " [0]\n",
      " [0]\n",
      " [0]\n",
      " [0]\n",
      " [0]\n",
      " [0]\n",
      " [0]\n",
      " [0]\n",
      " [0]\n",
      " [0]\n",
      " [0]\n",
      " [0]\n",
      " [0]\n",
      " [0]\n",
      " [0]\n",
      " [0]\n",
      " [0]\n",
      " [0]\n",
      " [0]\n",
      " [0]\n",
      " [0]\n",
      " [0]\n",
      " [0]\n",
      " [0]\n",
      " [0]\n",
      " [0]\n",
      " [0]\n",
      " [0]\n",
      " [0]\n",
      " [0]\n",
      " [0]\n",
      " [0]\n",
      " [0]\n",
      " [0]\n",
      " [0]\n",
      " [0]\n",
      " [0]\n",
      " [0]\n",
      " [0]\n",
      " [0]\n",
      " [0]\n",
      " [0]\n",
      " [0]\n",
      " [0]\n",
      " [0]\n",
      " [0]\n",
      " [0]\n",
      " [0]\n",
      " [0]\n",
      " [0]\n",
      " [0]\n",
      " [0]\n",
      " [0]\n",
      " [0]\n",
      " [0]\n",
      " [0]\n",
      " [0]\n",
      " [0]\n",
      " [0]\n",
      " [0]\n",
      " [0]\n",
      " [0]\n",
      " [0]\n",
      " [0]\n",
      " [0]\n",
      " [0]\n",
      " [0]\n",
      " [0]\n",
      " [0]\n",
      " [0]\n",
      " [0]\n",
      " [0]\n",
      " [0]\n",
      " [0]\n",
      " [0]\n",
      " [0]\n",
      " [0]\n",
      " [0]\n",
      " [0]\n",
      " [0]\n",
      " [0]\n",
      " [0]\n",
      " [0]\n",
      " [0]\n",
      " [0]\n",
      " [0]\n",
      " [0]\n",
      " [0]\n",
      " [0]\n",
      " [0]\n",
      " [0]\n",
      " [0]\n",
      " [0]\n",
      " [0]\n",
      " [0]\n",
      " [0]\n",
      " [0]\n",
      " [0]\n",
      " [0]\n",
      " [0]\n",
      " [0]\n",
      " [0]\n",
      " [0]\n",
      " [0]\n",
      " [0]\n",
      " [0]\n",
      " [0]\n",
      " [0]\n",
      " [0]\n",
      " [0]\n",
      " [0]\n",
      " [0]\n",
      " [0]\n",
      " [0]\n",
      " [0]\n",
      " [0]\n",
      " [0]\n",
      " [0]\n",
      " [0]\n",
      " [0]\n",
      " [0]\n",
      " [0]\n",
      " [0]\n",
      " [0]\n",
      " [0]\n",
      " [0]\n",
      " [0]\n",
      " [0]\n",
      " [0]\n",
      " [0]\n",
      " [0]\n",
      " [0]\n",
      " [0]\n",
      " [0]\n",
      " [0]\n",
      " [0]\n",
      " [0]\n",
      " [0]\n",
      " [0]\n",
      " [0]\n",
      " [0]\n",
      " [0]\n",
      " [0]\n",
      " [0]\n",
      " [0]\n",
      " [0]\n",
      " [0]\n",
      " [0]\n",
      " [0]\n",
      " [0]\n",
      " [0]]\n",
      "(1000, 1)\n"
     ]
    },
    {
     "data": {
      "application/vnd.jupyter.widget-view+json": {
       "model_id": "03b3cc826f5a43bba5b5f8642212beae",
       "version_major": 2,
       "version_minor": 0
      },
      "text/plain": [
       "Episodes for: Exp Epsilon-Greedy 0.3, 0.0, 0.3:   0%|          | 0/1000 [00:00<?, ?it/s]"
      ]
     },
     "metadata": {},
     "output_type": "display_data"
    },
    {
     "name": "stdout",
     "output_type": "stream",
     "text": [
      "[3.16504005 3.33406892 3.29398034 3.40706897 3.18043762 3.17397194\n",
      " 3.0708369  3.22905955 3.1491671  3.44983105]\n",
      "[[6]\n",
      " [0]\n",
      " [3]\n",
      " [6]\n",
      " [5]\n",
      " [2]\n",
      " [0]\n",
      " [0]\n",
      " [0]\n",
      " [0]\n",
      " [0]\n",
      " [0]\n",
      " [0]\n",
      " [0]\n",
      " [0]\n",
      " [0]\n",
      " [0]\n",
      " [0]\n",
      " [0]\n",
      " [0]\n",
      " [0]\n",
      " [0]\n",
      " [0]\n",
      " [0]\n",
      " [0]\n",
      " [0]\n",
      " [0]\n",
      " [0]\n",
      " [0]\n",
      " [0]\n",
      " [0]\n",
      " [0]\n",
      " [0]\n",
      " [0]\n",
      " [0]\n",
      " [0]\n",
      " [0]\n",
      " [0]\n",
      " [0]\n",
      " [0]\n",
      " [0]\n",
      " [0]\n",
      " [0]\n",
      " [0]\n",
      " [0]\n",
      " [0]\n",
      " [0]\n",
      " [0]\n",
      " [0]\n",
      " [0]\n",
      " [0]\n",
      " [0]\n",
      " [0]\n",
      " [0]\n",
      " [0]\n",
      " [0]\n",
      " [0]\n",
      " [0]\n",
      " [0]\n",
      " [0]\n",
      " [0]\n",
      " [0]\n",
      " [0]\n",
      " [0]\n",
      " [0]\n",
      " [0]\n",
      " [0]\n",
      " [0]\n",
      " [0]\n",
      " [0]\n",
      " [0]\n",
      " [0]\n",
      " [0]\n",
      " [0]\n",
      " [0]\n",
      " [0]\n",
      " [0]\n",
      " [0]\n",
      " [0]\n",
      " [0]\n",
      " [0]\n",
      " [0]\n",
      " [0]\n",
      " [0]\n",
      " [0]\n",
      " [0]\n",
      " [0]\n",
      " [0]\n",
      " [0]\n",
      " [0]\n",
      " [0]\n",
      " [0]\n",
      " [0]\n",
      " [0]\n",
      " [0]\n",
      " [0]\n",
      " [0]\n",
      " [0]\n",
      " [0]\n",
      " [0]\n",
      " [0]\n",
      " [0]\n",
      " [0]\n",
      " [0]\n",
      " [0]\n",
      " [0]\n",
      " [0]\n",
      " [0]\n",
      " [0]\n",
      " [0]\n",
      " [0]\n",
      " [0]\n",
      " [0]\n",
      " [0]\n",
      " [0]\n",
      " [0]\n",
      " [0]\n",
      " [0]\n",
      " [0]\n",
      " [0]\n",
      " [0]\n",
      " [0]\n",
      " [0]\n",
      " [0]\n",
      " [0]\n",
      " [0]\n",
      " [0]\n",
      " [0]\n",
      " [0]\n",
      " [0]\n",
      " [0]\n",
      " [0]\n",
      " [0]\n",
      " [0]\n",
      " [0]\n",
      " [0]\n",
      " [0]\n",
      " [0]\n",
      " [0]\n",
      " [0]\n",
      " [0]\n",
      " [0]\n",
      " [0]\n",
      " [0]\n",
      " [0]\n",
      " [0]\n",
      " [0]\n",
      " [0]\n",
      " [0]\n",
      " [0]\n",
      " [0]\n",
      " [0]\n",
      " [0]\n",
      " [0]\n",
      " [0]\n",
      " [0]\n",
      " [0]\n",
      " [0]\n",
      " [0]\n",
      " [0]\n",
      " [0]\n",
      " [0]\n",
      " [0]\n",
      " [0]\n",
      " [0]\n",
      " [0]\n",
      " [0]\n",
      " [0]\n",
      " [0]\n",
      " [0]\n",
      " [0]\n",
      " [0]\n",
      " [0]\n",
      " [0]\n",
      " [0]\n",
      " [0]\n",
      " [0]\n",
      " [0]\n",
      " [0]\n",
      " [0]\n",
      " [0]\n",
      " [0]\n",
      " [0]\n",
      " [0]\n",
      " [0]\n",
      " [0]\n",
      " [0]\n",
      " [0]\n",
      " [0]\n",
      " [0]\n",
      " [0]\n",
      " [0]\n",
      " [0]\n",
      " [0]\n",
      " [0]\n",
      " [0]\n",
      " [0]\n",
      " [0]\n",
      " [0]\n",
      " [0]\n",
      " [0]\n",
      " [0]\n",
      " [0]\n",
      " [0]\n",
      " [0]\n",
      " [0]\n",
      " [0]\n",
      " [0]\n",
      " [0]\n",
      " [0]\n",
      " [0]\n",
      " [0]\n",
      " [0]\n",
      " [0]\n",
      " [0]\n",
      " [0]\n",
      " [0]\n",
      " [0]\n",
      " [0]\n",
      " [0]\n",
      " [0]\n",
      " [0]\n",
      " [0]\n",
      " [0]\n",
      " [0]\n",
      " [0]\n",
      " [0]\n",
      " [0]\n",
      " [0]\n",
      " [0]\n",
      " [0]\n",
      " [0]\n",
      " [0]\n",
      " [0]\n",
      " [0]\n",
      " [0]\n",
      " [0]\n",
      " [0]\n",
      " [0]\n",
      " [0]\n",
      " [0]\n",
      " [0]\n",
      " [0]\n",
      " [0]\n",
      " [0]\n",
      " [0]\n",
      " [0]\n",
      " [0]\n",
      " [0]\n",
      " [0]\n",
      " [0]\n",
      " [0]\n",
      " [0]\n",
      " [0]\n",
      " [0]\n",
      " [0]\n",
      " [0]\n",
      " [0]\n",
      " [0]\n",
      " [0]\n",
      " [0]\n",
      " [0]\n",
      " [0]\n",
      " [0]\n",
      " [0]\n",
      " [0]\n",
      " [0]\n",
      " [0]\n",
      " [0]\n",
      " [0]\n",
      " [0]\n",
      " [0]\n",
      " [0]\n",
      " [0]\n",
      " [0]\n",
      " [0]\n",
      " [0]\n",
      " [0]\n",
      " [0]\n",
      " [0]\n",
      " [0]\n",
      " [0]\n",
      " [0]\n",
      " [0]\n",
      " [0]\n",
      " [0]\n",
      " [0]\n",
      " [0]\n",
      " [0]\n",
      " [0]\n",
      " [0]\n",
      " [0]\n",
      " [0]\n",
      " [0]\n",
      " [0]\n",
      " [0]\n",
      " [0]\n",
      " [0]\n",
      " [0]\n",
      " [0]\n",
      " [0]\n",
      " [0]\n",
      " [0]\n",
      " [0]\n",
      " [0]\n",
      " [0]\n",
      " [0]\n",
      " [0]\n",
      " [0]\n",
      " [0]\n",
      " [0]\n",
      " [0]\n",
      " [0]\n",
      " [0]\n",
      " [0]\n",
      " [0]\n",
      " [0]\n",
      " [0]\n",
      " [0]\n",
      " [0]\n",
      " [0]\n",
      " [0]\n",
      " [0]\n",
      " [0]\n",
      " [0]\n",
      " [0]\n",
      " [0]\n",
      " [0]\n",
      " [0]\n",
      " [0]\n",
      " [0]\n",
      " [0]\n",
      " [0]\n",
      " [0]\n",
      " [0]\n",
      " [0]\n",
      " [0]\n",
      " [0]\n",
      " [0]\n",
      " [0]\n",
      " [0]\n",
      " [0]\n",
      " [0]\n",
      " [0]\n",
      " [0]\n",
      " [0]\n",
      " [0]\n",
      " [0]\n",
      " [0]\n",
      " [0]\n",
      " [0]\n",
      " [0]\n",
      " [0]\n",
      " [0]\n",
      " [0]\n",
      " [0]\n",
      " [0]\n",
      " [0]\n",
      " [0]\n",
      " [0]\n",
      " [0]\n",
      " [0]\n",
      " [0]\n",
      " [0]\n",
      " [0]\n",
      " [0]\n",
      " [0]\n",
      " [0]\n",
      " [0]\n",
      " [0]\n",
      " [0]\n",
      " [0]\n",
      " [0]\n",
      " [0]\n",
      " [0]\n",
      " [0]\n",
      " [0]\n",
      " [0]\n",
      " [0]\n",
      " [0]\n",
      " [0]\n",
      " [0]\n",
      " [0]\n",
      " [0]\n",
      " [0]\n",
      " [0]\n",
      " [0]\n",
      " [0]\n",
      " [0]\n",
      " [0]\n",
      " [0]\n",
      " [0]\n",
      " [0]\n",
      " [0]\n",
      " [0]\n",
      " [0]\n",
      " [0]\n",
      " [0]\n",
      " [0]\n",
      " [0]\n",
      " [0]\n",
      " [0]\n",
      " [0]\n",
      " [0]\n",
      " [0]\n",
      " [0]\n",
      " [0]\n",
      " [0]\n",
      " [0]\n",
      " [0]\n",
      " [0]\n",
      " [0]\n",
      " [0]\n",
      " [0]\n",
      " [0]\n",
      " [0]\n",
      " [0]\n",
      " [0]\n",
      " [0]\n",
      " [0]\n",
      " [0]\n",
      " [0]\n",
      " [0]\n",
      " [0]\n",
      " [0]\n",
      " [0]\n",
      " [0]\n",
      " [0]\n",
      " [0]\n",
      " [0]\n",
      " [0]\n",
      " [0]\n",
      " [0]\n",
      " [0]\n",
      " [0]\n",
      " [0]\n",
      " [0]\n",
      " [0]\n",
      " [0]\n",
      " [0]\n",
      " [0]\n",
      " [0]\n",
      " [0]\n",
      " [0]\n",
      " [0]\n",
      " [0]\n",
      " [0]\n",
      " [0]\n",
      " [0]\n",
      " [0]\n",
      " [0]\n",
      " [0]\n",
      " [0]\n",
      " [0]\n",
      " [0]\n",
      " [0]\n",
      " [0]\n",
      " [0]\n",
      " [0]\n",
      " [0]\n",
      " [0]\n",
      " [0]\n",
      " [0]\n",
      " [0]\n",
      " [0]\n",
      " [0]\n",
      " [0]\n",
      " [0]\n",
      " [0]\n",
      " [0]\n",
      " [0]\n",
      " [0]\n",
      " [0]\n",
      " [0]\n",
      " [0]\n",
      " [0]\n",
      " [0]\n",
      " [0]\n",
      " [0]\n",
      " [0]\n",
      " [0]\n",
      " [0]\n",
      " [0]\n",
      " [0]\n",
      " [0]\n",
      " [0]\n",
      " [0]\n",
      " [0]\n",
      " [0]\n",
      " [0]\n",
      " [0]\n",
      " [0]\n",
      " [0]\n",
      " [0]\n",
      " [0]\n",
      " [0]\n",
      " [0]\n",
      " [0]\n",
      " [0]\n",
      " [0]\n",
      " [0]\n",
      " [0]\n",
      " [0]\n",
      " [0]\n",
      " [0]\n",
      " [0]\n",
      " [0]\n",
      " [0]\n",
      " [0]\n",
      " [0]\n",
      " [0]\n",
      " [0]\n",
      " [0]\n",
      " [0]\n",
      " [0]\n",
      " [0]\n",
      " [0]\n",
      " [0]\n",
      " [0]\n",
      " [0]\n",
      " [0]\n",
      " [0]\n",
      " [0]\n",
      " [0]\n",
      " [0]\n",
      " [0]\n",
      " [0]\n",
      " [0]\n",
      " [0]\n",
      " [0]\n",
      " [0]\n",
      " [0]\n",
      " [0]\n",
      " [0]\n",
      " [0]\n",
      " [0]\n",
      " [0]\n",
      " [0]\n",
      " [0]\n",
      " [0]\n",
      " [0]\n",
      " [0]\n",
      " [0]\n",
      " [0]\n",
      " [0]\n",
      " [0]\n",
      " [0]\n",
      " [0]\n",
      " [0]\n",
      " [0]\n",
      " [0]\n",
      " [0]\n",
      " [0]\n",
      " [0]\n",
      " [0]\n",
      " [0]\n",
      " [0]\n",
      " [0]\n",
      " [0]\n",
      " [0]\n",
      " [0]\n",
      " [0]\n",
      " [0]\n",
      " [0]\n",
      " [0]\n",
      " [0]\n",
      " [0]\n",
      " [0]\n",
      " [0]\n",
      " [0]\n",
      " [0]\n",
      " [0]\n",
      " [0]\n",
      " [0]\n",
      " [0]\n",
      " [0]\n",
      " [0]\n",
      " [0]\n",
      " [0]\n",
      " [0]\n",
      " [0]\n",
      " [0]\n",
      " [0]\n",
      " [0]\n",
      " [0]\n",
      " [0]\n",
      " [0]\n",
      " [0]\n",
      " [0]\n",
      " [0]\n",
      " [0]\n",
      " [0]\n",
      " [0]\n",
      " [0]\n",
      " [0]\n",
      " [0]\n",
      " [0]\n",
      " [0]\n",
      " [0]\n",
      " [0]\n",
      " [0]\n",
      " [0]\n",
      " [0]\n",
      " [0]\n",
      " [0]\n",
      " [0]\n",
      " [0]\n",
      " [0]\n",
      " [0]\n",
      " [0]\n",
      " [0]\n",
      " [0]\n",
      " [0]\n",
      " [0]\n",
      " [0]\n",
      " [0]\n",
      " [0]\n",
      " [0]\n",
      " [0]\n",
      " [0]\n",
      " [0]\n",
      " [0]\n",
      " [0]\n",
      " [0]\n",
      " [0]\n",
      " [0]\n",
      " [0]\n",
      " [0]\n",
      " [0]\n",
      " [0]\n",
      " [0]\n",
      " [0]\n",
      " [0]\n",
      " [0]\n",
      " [0]\n",
      " [0]\n",
      " [0]\n",
      " [0]\n",
      " [0]\n",
      " [0]\n",
      " [0]\n",
      " [0]\n",
      " [0]\n",
      " [0]\n",
      " [0]\n",
      " [0]\n",
      " [0]\n",
      " [0]\n",
      " [0]\n",
      " [0]\n",
      " [0]\n",
      " [0]\n",
      " [0]\n",
      " [0]\n",
      " [0]\n",
      " [0]\n",
      " [0]\n",
      " [0]\n",
      " [0]\n",
      " [0]\n",
      " [0]\n",
      " [0]\n",
      " [0]\n",
      " [0]\n",
      " [0]\n",
      " [0]\n",
      " [0]\n",
      " [0]\n",
      " [0]\n",
      " [0]\n",
      " [0]\n",
      " [0]\n",
      " [0]\n",
      " [0]\n",
      " [0]\n",
      " [0]\n",
      " [0]\n",
      " [0]\n",
      " [0]\n",
      " [0]\n",
      " [0]\n",
      " [0]\n",
      " [0]\n",
      " [0]\n",
      " [0]\n",
      " [0]\n",
      " [0]\n",
      " [0]\n",
      " [0]\n",
      " [0]\n",
      " [0]\n",
      " [0]\n",
      " [0]\n",
      " [0]\n",
      " [0]\n",
      " [0]\n",
      " [0]\n",
      " [0]\n",
      " [0]\n",
      " [0]\n",
      " [0]\n",
      " [0]\n",
      " [0]\n",
      " [0]\n",
      " [0]\n",
      " [0]\n",
      " [0]\n",
      " [0]\n",
      " [0]\n",
      " [0]\n",
      " [0]\n",
      " [0]\n",
      " [0]\n",
      " [0]\n",
      " [0]\n",
      " [0]\n",
      " [0]\n",
      " [0]\n",
      " [0]\n",
      " [0]\n",
      " [0]\n",
      " [0]\n",
      " [0]\n",
      " [0]\n",
      " [0]\n",
      " [0]\n",
      " [0]\n",
      " [0]\n",
      " [0]\n",
      " [0]\n",
      " [0]\n",
      " [0]\n",
      " [0]\n",
      " [0]\n",
      " [0]\n",
      " [0]\n",
      " [0]\n",
      " [0]\n",
      " [0]\n",
      " [0]\n",
      " [0]\n",
      " [0]\n",
      " [0]\n",
      " [0]\n",
      " [0]\n",
      " [0]\n",
      " [0]\n",
      " [0]\n",
      " [0]\n",
      " [0]\n",
      " [0]\n",
      " [0]\n",
      " [0]\n",
      " [0]\n",
      " [0]\n",
      " [0]\n",
      " [0]\n",
      " [0]\n",
      " [0]\n",
      " [0]\n",
      " [0]\n",
      " [0]\n",
      " [0]\n",
      " [0]\n",
      " [0]\n",
      " [0]\n",
      " [0]\n",
      " [0]\n",
      " [0]\n",
      " [0]\n",
      " [0]\n",
      " [0]\n",
      " [0]\n",
      " [0]\n",
      " [0]\n",
      " [0]\n",
      " [0]\n",
      " [0]\n",
      " [0]\n",
      " [0]\n",
      " [0]\n",
      " [0]\n",
      " [0]\n",
      " [0]\n",
      " [0]\n",
      " [0]\n",
      " [0]\n",
      " [0]\n",
      " [0]\n",
      " [0]\n",
      " [0]\n",
      " [0]\n",
      " [0]\n",
      " [0]\n",
      " [0]\n",
      " [0]\n",
      " [0]\n",
      " [0]\n",
      " [0]\n",
      " [0]\n",
      " [0]\n",
      " [0]\n",
      " [0]\n",
      " [0]\n",
      " [0]\n",
      " [0]\n",
      " [0]\n",
      " [0]\n",
      " [0]\n",
      " [0]\n",
      " [0]\n",
      " [0]\n",
      " [0]\n",
      " [0]\n",
      " [0]\n",
      " [0]\n",
      " [0]\n",
      " [0]\n",
      " [0]\n",
      " [0]\n",
      " [0]\n",
      " [0]\n",
      " [0]\n",
      " [0]\n",
      " [0]\n",
      " [0]\n",
      " [0]\n",
      " [0]\n",
      " [0]\n",
      " [0]\n",
      " [0]\n",
      " [0]\n",
      " [0]\n",
      " [0]\n",
      " [0]\n",
      " [0]\n",
      " [0]\n",
      " [0]\n",
      " [0]\n",
      " [0]\n",
      " [0]\n",
      " [0]\n",
      " [0]\n",
      " [0]\n",
      " [0]\n",
      " [0]\n",
      " [0]\n",
      " [0]\n",
      " [0]\n",
      " [0]\n",
      " [0]\n",
      " [0]\n",
      " [0]\n",
      " [0]\n",
      " [0]\n",
      " [0]\n",
      " [0]\n",
      " [0]\n",
      " [0]\n",
      " [0]\n",
      " [0]\n",
      " [0]\n",
      " [0]\n",
      " [0]\n",
      " [0]\n",
      " [0]\n",
      " [0]\n",
      " [0]\n",
      " [0]\n",
      " [0]\n",
      " [0]\n",
      " [0]\n",
      " [0]\n",
      " [0]\n",
      " [0]\n",
      " [0]\n",
      " [0]\n",
      " [0]\n",
      " [0]\n",
      " [0]\n",
      " [0]\n",
      " [0]\n",
      " [0]\n",
      " [0]\n",
      " [0]\n",
      " [0]\n",
      " [0]\n",
      " [0]\n",
      " [0]\n",
      " [0]\n",
      " [0]\n",
      " [0]\n",
      " [0]\n",
      " [0]\n",
      " [0]\n",
      " [0]\n",
      " [0]\n",
      " [0]\n",
      " [0]\n",
      " [0]\n",
      " [0]\n",
      " [0]\n",
      " [0]\n",
      " [0]\n",
      " [0]\n",
      " [0]\n",
      " [0]\n",
      " [0]\n",
      " [0]\n",
      " [0]\n",
      " [0]\n",
      " [0]\n",
      " [0]\n",
      " [0]\n",
      " [0]\n",
      " [0]\n",
      " [0]\n",
      " [0]\n",
      " [0]\n",
      " [0]\n",
      " [0]\n",
      " [0]\n",
      " [0]\n",
      " [0]\n",
      " [0]\n",
      " [0]\n",
      " [0]\n",
      " [0]\n",
      " [0]\n",
      " [0]\n",
      " [0]\n",
      " [0]\n",
      " [0]\n",
      " [0]\n",
      " [0]\n",
      " [0]\n",
      " [0]\n",
      " [0]\n",
      " [0]\n",
      " [0]\n",
      " [0]\n",
      " [0]\n",
      " [0]\n",
      " [0]\n",
      " [0]\n",
      " [0]\n",
      " [0]\n",
      " [0]\n",
      " [0]\n",
      " [0]\n",
      " [0]\n",
      " [0]\n",
      " [0]\n",
      " [0]\n",
      " [0]\n",
      " [0]\n",
      " [0]\n",
      " [0]\n",
      " [0]\n",
      " [0]\n",
      " [0]\n",
      " [0]\n",
      " [0]\n",
      " [0]\n",
      " [0]\n",
      " [0]\n",
      " [0]\n",
      " [0]\n",
      " [0]\n",
      " [0]\n",
      " [0]\n",
      " [0]\n",
      " [0]\n",
      " [0]\n",
      " [0]\n",
      " [0]\n",
      " [0]\n",
      " [0]\n",
      " [0]\n",
      " [0]\n",
      " [0]\n",
      " [0]\n",
      " [0]\n",
      " [0]\n",
      " [0]\n",
      " [0]\n",
      " [0]\n",
      " [0]\n",
      " [0]\n",
      " [0]\n",
      " [0]\n",
      " [0]\n",
      " [0]\n",
      " [0]\n",
      " [0]\n",
      " [0]\n",
      " [0]\n",
      " [0]\n",
      " [0]\n",
      " [0]]\n",
      "(1000, 1)\n"
     ]
    },
    {
     "data": {
      "application/vnd.jupyter.widget-view+json": {
       "model_id": "c4da54a08a384f32adb9311f459be0ec",
       "version_major": 2,
       "version_minor": 0
      },
      "text/plain": [
       "Episodes for: Lin SoftMax 1.7976931348623157e+308, 1e-45, 0.005:   0%|          | 0/1000 [00:00<?, ?it/s]"
      ]
     },
     "metadata": {},
     "output_type": "display_data"
    },
    {
     "name": "stdout",
     "output_type": "stream",
     "text": [
      "[3.16504005 3.33406892 3.29398034 3.40706897 3.18043762 3.17397194\n",
      " 3.0708369  3.22905955 3.1491671  3.44983105]\n",
      "[[1]\n",
      " [7]\n",
      " [2]\n",
      " [5]\n",
      " [0]\n",
      " [9]\n",
      " [9]\n",
      " [0]\n",
      " [9]\n",
      " [1]\n",
      " [2]\n",
      " [6]\n",
      " [9]\n",
      " [8]\n",
      " [0]\n",
      " [5]\n",
      " [5]\n",
      " [4]\n",
      " [7]\n",
      " [1]\n",
      " [7]\n",
      " [0]\n",
      " [1]\n",
      " [1]\n",
      " [3]\n",
      " [6]\n",
      " [4]\n",
      " [8]\n",
      " [2]\n",
      " [7]\n",
      " [7]\n",
      " [3]\n",
      " [3]\n",
      " [9]\n",
      " [6]\n",
      " [9]\n",
      " [7]\n",
      " [8]\n",
      " [4]\n",
      " [4]\n",
      " [4]\n",
      " [9]\n",
      " [1]\n",
      " [9]\n",
      " [4]\n",
      " [4]\n",
      " [4]\n",
      " [3]\n",
      " [4]\n",
      " [0]\n",
      " [0]\n",
      " [7]\n",
      " [6]\n",
      " [0]\n",
      " [3]\n",
      " [2]\n",
      " [0]\n",
      " [5]\n",
      " [4]\n",
      " [0]\n",
      " [5]\n",
      " [8]\n",
      " [1]\n",
      " [2]\n",
      " [6]\n",
      " [4]\n",
      " [5]\n",
      " [4]\n",
      " [8]\n",
      " [6]\n",
      " [6]\n",
      " [4]\n",
      " [4]\n",
      " [8]\n",
      " [2]\n",
      " [9]\n",
      " [0]\n",
      " [5]\n",
      " [0]\n",
      " [6]\n",
      " [6]\n",
      " [8]\n",
      " [9]\n",
      " [4]\n",
      " [6]\n",
      " [9]\n",
      " [6]\n",
      " [3]\n",
      " [3]\n",
      " [2]\n",
      " [9]\n",
      " [4]\n",
      " [9]\n",
      " [8]\n",
      " [6]\n",
      " [0]\n",
      " [9]\n",
      " [9]\n",
      " [0]\n",
      " [6]\n",
      " [3]\n",
      " [5]\n",
      " [6]\n",
      " [5]\n",
      " [3]\n",
      " [0]\n",
      " [8]\n",
      " [9]\n",
      " [1]\n",
      " [2]\n",
      " [3]\n",
      " [4]\n",
      " [8]\n",
      " [2]\n",
      " [4]\n",
      " [6]\n",
      " [5]\n",
      " [3]\n",
      " [7]\n",
      " [1]\n",
      " [1]\n",
      " [4]\n",
      " [7]\n",
      " [2]\n",
      " [1]\n",
      " [9]\n",
      " [1]\n",
      " [6]\n",
      " [2]\n",
      " [6]\n",
      " [6]\n",
      " [0]\n",
      " [3]\n",
      " [3]\n",
      " [1]\n",
      " [0]\n",
      " [0]\n",
      " [5]\n",
      " [0]\n",
      " [3]\n",
      " [9]\n",
      " [8]\n",
      " [9]\n",
      " [1]\n",
      " [3]\n",
      " [2]\n",
      " [4]\n",
      " [5]\n",
      " [4]\n",
      " [7]\n",
      " [6]\n",
      " [6]\n",
      " [1]\n",
      " [7]\n",
      " [6]\n",
      " [2]\n",
      " [3]\n",
      " [9]\n",
      " [3]\n",
      " [3]\n",
      " [6]\n",
      " [6]\n",
      " [0]\n",
      " [5]\n",
      " [7]\n",
      " [9]\n",
      " [7]\n",
      " [1]\n",
      " [2]\n",
      " [4]\n",
      " [6]\n",
      " [0]\n",
      " [3]\n",
      " [3]\n",
      " [9]\n",
      " [9]\n",
      " [7]\n",
      " [5]\n",
      " [1]\n",
      " [9]\n",
      " [9]\n",
      " [8]\n",
      " [0]\n",
      " [7]\n",
      " [1]\n",
      " [9]\n",
      " [5]\n",
      " [9]\n",
      " [4]\n",
      " [6]\n",
      " [7]\n",
      " [2]\n",
      " [6]\n",
      " [8]\n",
      " [5]\n",
      " [4]\n",
      " [5]\n",
      " [9]\n",
      " [9]\n",
      " [6]\n",
      " [7]\n",
      " [9]\n",
      " [1]\n",
      " [0]\n",
      " [7]\n",
      " [6]\n",
      " [0]\n",
      " [5]\n",
      " [5]\n",
      " [2]\n",
      " [2]\n",
      " [1]\n",
      " [5]\n",
      " [1]\n",
      " [7]\n",
      " [8]\n",
      " [6]\n",
      " [2]\n",
      " [3]\n",
      " [5]\n",
      " [3]\n",
      " [5]\n",
      " [6]\n",
      " [2]\n",
      " [2]\n",
      " [7]\n",
      " [7]\n",
      " [0]\n",
      " [6]\n",
      " [1]\n",
      " [5]\n",
      " [2]\n",
      " [8]\n",
      " [0]\n",
      " [8]\n",
      " [3]\n",
      " [1]\n",
      " [4]\n",
      " [0]\n",
      " [7]\n",
      " [3]\n",
      " [3]\n",
      " [1]\n",
      " [1]\n",
      " [5]\n",
      " [1]\n",
      " [4]\n",
      " [9]\n",
      " [3]\n",
      " [1]\n",
      " [8]\n",
      " [6]\n",
      " [6]\n",
      " [1]\n",
      " [3]\n",
      " [4]\n",
      " [3]\n",
      " [2]\n",
      " [2]\n",
      " [1]\n",
      " [7]\n",
      " [1]\n",
      " [3]\n",
      " [3]\n",
      " [0]\n",
      " [1]\n",
      " [1]\n",
      " [7]\n",
      " [2]\n",
      " [7]\n",
      " [3]\n",
      " [6]\n",
      " [6]\n",
      " [2]\n",
      " [4]\n",
      " [6]\n",
      " [6]\n",
      " [6]\n",
      " [0]\n",
      " [9]\n",
      " [8]\n",
      " [1]\n",
      " [3]\n",
      " [9]\n",
      " [4]\n",
      " [4]\n",
      " [7]\n",
      " [1]\n",
      " [8]\n",
      " [0]\n",
      " [0]\n",
      " [3]\n",
      " [2]\n",
      " [5]\n",
      " [1]\n",
      " [6]\n",
      " [5]\n",
      " [8]\n",
      " [2]\n",
      " [1]\n",
      " [5]\n",
      " [2]\n",
      " [4]\n",
      " [1]\n",
      " [5]\n",
      " [8]\n",
      " [9]\n",
      " [9]\n",
      " [5]\n",
      " [5]\n",
      " [7]\n",
      " [6]\n",
      " [1]\n",
      " [4]\n",
      " [1]\n",
      " [5]\n",
      " [5]\n",
      " [4]\n",
      " [9]\n",
      " [9]\n",
      " [1]\n",
      " [6]\n",
      " [4]\n",
      " [8]\n",
      " [9]\n",
      " [8]\n",
      " [0]\n",
      " [8]\n",
      " [1]\n",
      " [3]\n",
      " [3]\n",
      " [8]\n",
      " [1]\n",
      " [1]\n",
      " [9]\n",
      " [0]\n",
      " [3]\n",
      " [4]\n",
      " [2]\n",
      " [2]\n",
      " [1]\n",
      " [8]\n",
      " [2]\n",
      " [6]\n",
      " [3]\n",
      " [0]\n",
      " [2]\n",
      " [8]\n",
      " [4]\n",
      " [0]\n",
      " [9]\n",
      " [6]\n",
      " [6]\n",
      " [9]\n",
      " [9]\n",
      " [8]\n",
      " [4]\n",
      " [2]\n",
      " [4]\n",
      " [7]\n",
      " [5]\n",
      " [3]\n",
      " [5]\n",
      " [6]\n",
      " [9]\n",
      " [6]\n",
      " [3]\n",
      " [9]\n",
      " [7]\n",
      " [4]\n",
      " [4]\n",
      " [9]\n",
      " [9]\n",
      " [0]\n",
      " [8]\n",
      " [3]\n",
      " [3]\n",
      " [2]\n",
      " [6]\n",
      " [1]\n",
      " [2]\n",
      " [2]\n",
      " [5]\n",
      " [1]\n",
      " [3]\n",
      " [8]\n",
      " [4]\n",
      " [9]\n",
      " [7]\n",
      " [1]\n",
      " [4]\n",
      " [5]\n",
      " [8]\n",
      " [9]\n",
      " [0]\n",
      " [9]\n",
      " [6]\n",
      " [5]\n",
      " [9]\n",
      " [4]\n",
      " [6]\n",
      " [8]\n",
      " [8]\n",
      " [5]\n",
      " [5]\n",
      " [8]\n",
      " [2]\n",
      " [7]\n",
      " [8]\n",
      " [1]\n",
      " [8]\n",
      " [1]\n",
      " [0]\n",
      " [4]\n",
      " [9]\n",
      " [9]\n",
      " [5]\n",
      " [8]\n",
      " [2]\n",
      " [6]\n",
      " [1]\n",
      " [2]\n",
      " [9]\n",
      " [8]\n",
      " [7]\n",
      " [4]\n",
      " [8]\n",
      " [1]\n",
      " [5]\n",
      " [5]\n",
      " [0]\n",
      " [8]\n",
      " [2]\n",
      " [9]\n",
      " [9]\n",
      " [7]\n",
      " [8]\n",
      " [3]\n",
      " [1]\n",
      " [3]\n",
      " [3]\n",
      " [9]\n",
      " [8]\n",
      " [8]\n",
      " [6]\n",
      " [7]\n",
      " [4]\n",
      " [8]\n",
      " [9]\n",
      " [4]\n",
      " [9]\n",
      " [7]\n",
      " [6]\n",
      " [5]\n",
      " [9]\n",
      " [3]\n",
      " [1]\n",
      " [0]\n",
      " [8]\n",
      " [5]\n",
      " [2]\n",
      " [3]\n",
      " [6]\n",
      " [7]\n",
      " [0]\n",
      " [6]\n",
      " [6]\n",
      " [7]\n",
      " [2]\n",
      " [1]\n",
      " [7]\n",
      " [3]\n",
      " [1]\n",
      " [4]\n",
      " [7]\n",
      " [3]\n",
      " [1]\n",
      " [7]\n",
      " [0]\n",
      " [0]\n",
      " [0]\n",
      " [8]\n",
      " [3]\n",
      " [2]\n",
      " [0]\n",
      " [2]\n",
      " [1]\n",
      " [8]\n",
      " [1]\n",
      " [7]\n",
      " [5]\n",
      " [0]\n",
      " [1]\n",
      " [3]\n",
      " [3]\n",
      " [2]\n",
      " [6]\n",
      " [0]\n",
      " [0]\n",
      " [5]\n",
      " [3]\n",
      " [6]\n",
      " [2]\n",
      " [6]\n",
      " [8]\n",
      " [3]\n",
      " [2]\n",
      " [7]\n",
      " [1]\n",
      " [5]\n",
      " [9]\n",
      " [2]\n",
      " [7]\n",
      " [4]\n",
      " [8]\n",
      " [7]\n",
      " [0]\n",
      " [8]\n",
      " [1]\n",
      " [8]\n",
      " [3]\n",
      " [0]\n",
      " [8]\n",
      " [6]\n",
      " [2]\n",
      " [8]\n",
      " [2]\n",
      " [3]\n",
      " [5]\n",
      " [6]\n",
      " [4]\n",
      " [7]\n",
      " [5]\n",
      " [6]\n",
      " [0]\n",
      " [9]\n",
      " [0]\n",
      " [6]\n",
      " [6]\n",
      " [2]\n",
      " [9]\n",
      " [8]\n",
      " [4]\n",
      " [9]\n",
      " [4]\n",
      " [4]\n",
      " [6]\n",
      " [2]\n",
      " [4]\n",
      " [6]\n",
      " [2]\n",
      " [4]\n",
      " [0]\n",
      " [9]\n",
      " [6]\n",
      " [1]\n",
      " [5]\n",
      " [0]\n",
      " [4]\n",
      " [8]\n",
      " [6]\n",
      " [3]\n",
      " [6]\n",
      " [9]\n",
      " [2]\n",
      " [8]\n",
      " [2]\n",
      " [6]\n",
      " [1]\n",
      " [4]\n",
      " [9]\n",
      " [4]\n",
      " [7]\n",
      " [4]\n",
      " [0]\n",
      " [4]\n",
      " [2]\n",
      " [9]\n",
      " [7]\n",
      " [8]\n",
      " [5]\n",
      " [9]\n",
      " [8]\n",
      " [4]\n",
      " [5]\n",
      " [2]\n",
      " [4]\n",
      " [0]\n",
      " [7]\n",
      " [3]\n",
      " [4]\n",
      " [3]\n",
      " [8]\n",
      " [2]\n",
      " [6]\n",
      " [2]\n",
      " [3]\n",
      " [7]\n",
      " [5]\n",
      " [4]\n",
      " [2]\n",
      " [0]\n",
      " [0]\n",
      " [8]\n",
      " [6]\n",
      " [7]\n",
      " [6]\n",
      " [0]\n",
      " [6]\n",
      " [1]\n",
      " [9]\n",
      " [9]\n",
      " [9]\n",
      " [4]\n",
      " [6]\n",
      " [0]\n",
      " [8]\n",
      " [7]\n",
      " [3]\n",
      " [5]\n",
      " [1]\n",
      " [6]\n",
      " [9]\n",
      " [2]\n",
      " [0]\n",
      " [0]\n",
      " [4]\n",
      " [8]\n",
      " [0]\n",
      " [4]\n",
      " [4]\n",
      " [6]\n",
      " [6]\n",
      " [6]\n",
      " [5]\n",
      " [5]\n",
      " [0]\n",
      " [4]\n",
      " [2]\n",
      " [3]\n",
      " [5]\n",
      " [7]\n",
      " [6]\n",
      " [2]\n",
      " [8]\n",
      " [5]\n",
      " [1]\n",
      " [6]\n",
      " [8]\n",
      " [5]\n",
      " [8]\n",
      " [8]\n",
      " [8]\n",
      " [0]\n",
      " [3]\n",
      " [2]\n",
      " [9]\n",
      " [6]\n",
      " [9]\n",
      " [5]\n",
      " [2]\n",
      " [1]\n",
      " [4]\n",
      " [6]\n",
      " [6]\n",
      " [9]\n",
      " [1]\n",
      " [4]\n",
      " [9]\n",
      " [5]\n",
      " [6]\n",
      " [8]\n",
      " [5]\n",
      " [8]\n",
      " [2]\n",
      " [7]\n",
      " [3]\n",
      " [8]\n",
      " [3]\n",
      " [6]\n",
      " [8]\n",
      " [8]\n",
      " [2]\n",
      " [9]\n",
      " [0]\n",
      " [4]\n",
      " [3]\n",
      " [9]\n",
      " [5]\n",
      " [7]\n",
      " [3]\n",
      " [1]\n",
      " [0]\n",
      " [1]\n",
      " [3]\n",
      " [7]\n",
      " [4]\n",
      " [7]\n",
      " [5]\n",
      " [3]\n",
      " [4]\n",
      " [4]\n",
      " [1]\n",
      " [5]\n",
      " [9]\n",
      " [6]\n",
      " [8]\n",
      " [9]\n",
      " [0]\n",
      " [6]\n",
      " [3]\n",
      " [9]\n",
      " [6]\n",
      " [3]\n",
      " [1]\n",
      " [0]\n",
      " [7]\n",
      " [9]\n",
      " [4]\n",
      " [2]\n",
      " [0]\n",
      " [7]\n",
      " [1]\n",
      " [5]\n",
      " [5]\n",
      " [2]\n",
      " [8]\n",
      " [4]\n",
      " [4]\n",
      " [8]\n",
      " [8]\n",
      " [4]\n",
      " [2]\n",
      " [7]\n",
      " [5]\n",
      " [7]\n",
      " [9]\n",
      " [7]\n",
      " [1]\n",
      " [4]\n",
      " [8]\n",
      " [2]\n",
      " [7]\n",
      " [5]\n",
      " [2]\n",
      " [7]\n",
      " [0]\n",
      " [2]\n",
      " [2]\n",
      " [2]\n",
      " [2]\n",
      " [2]\n",
      " [9]\n",
      " [3]\n",
      " [3]\n",
      " [7]\n",
      " [4]\n",
      " [4]\n",
      " [8]\n",
      " [1]\n",
      " [5]\n",
      " [0]\n",
      " [2]\n",
      " [2]\n",
      " [3]\n",
      " [3]\n",
      " [3]\n",
      " [9]\n",
      " [5]\n",
      " [3]\n",
      " [5]\n",
      " [9]\n",
      " [7]\n",
      " [4]\n",
      " [1]\n",
      " [0]\n",
      " [0]\n",
      " [9]\n",
      " [1]\n",
      " [7]\n",
      " [9]\n",
      " [5]\n",
      " [8]\n",
      " [8]\n",
      " [9]\n",
      " [7]\n",
      " [4]\n",
      " [3]\n",
      " [5]\n",
      " [3]\n",
      " [9]\n",
      " [0]\n",
      " [1]\n",
      " [4]\n",
      " [5]\n",
      " [5]\n",
      " [8]\n",
      " [2]\n",
      " [8]\n",
      " [3]\n",
      " [2]\n",
      " [8]\n",
      " [1]\n",
      " [9]\n",
      " [6]\n",
      " [5]\n",
      " [2]\n",
      " [6]\n",
      " [8]\n",
      " [6]\n",
      " [8]\n",
      " [5]\n",
      " [3]\n",
      " [4]\n",
      " [3]\n",
      " [6]\n",
      " [9]\n",
      " [8]\n",
      " [2]\n",
      " [4]\n",
      " [9]\n",
      " [9]\n",
      " [9]\n",
      " [0]\n",
      " [2]\n",
      " [7]\n",
      " [0]\n",
      " [7]\n",
      " [0]\n",
      " [1]\n",
      " [7]\n",
      " [9]\n",
      " [0]\n",
      " [0]\n",
      " [5]\n",
      " [5]\n",
      " [8]\n",
      " [8]\n",
      " [7]\n",
      " [6]\n",
      " [8]\n",
      " [8]\n",
      " [7]\n",
      " [2]\n",
      " [5]\n",
      " [3]\n",
      " [6]\n",
      " [9]\n",
      " [7]\n",
      " [9]\n",
      " [3]\n",
      " [5]\n",
      " [1]\n",
      " [0]\n",
      " [7]\n",
      " [1]\n",
      " [9]\n",
      " [3]\n",
      " [1]\n",
      " [9]\n",
      " [1]\n",
      " [8]\n",
      " [1]\n",
      " [4]\n",
      " [8]\n",
      " [8]\n",
      " [7]\n",
      " [9]\n",
      " [7]\n",
      " [8]\n",
      " [4]\n",
      " [6]\n",
      " [9]\n",
      " [1]\n",
      " [7]\n",
      " [4]\n",
      " [5]\n",
      " [0]\n",
      " [6]\n",
      " [8]\n",
      " [4]\n",
      " [9]\n",
      " [5]\n",
      " [3]\n",
      " [6]\n",
      " [8]\n",
      " [7]\n",
      " [1]\n",
      " [3]\n",
      " [8]\n",
      " [8]\n",
      " [0]\n",
      " [1]\n",
      " [3]\n",
      " [1]\n",
      " [6]\n",
      " [8]\n",
      " [0]\n",
      " [8]\n",
      " [0]\n",
      " [7]\n",
      " [4]\n",
      " [4]\n",
      " [3]\n",
      " [3]\n",
      " [8]\n",
      " [3]\n",
      " [6]\n",
      " [7]\n",
      " [3]\n",
      " [5]\n",
      " [1]\n",
      " [7]\n",
      " [4]\n",
      " [5]\n",
      " [1]\n",
      " [7]\n",
      " [6]\n",
      " [9]\n",
      " [5]\n",
      " [9]\n",
      " [9]\n",
      " [6]\n",
      " [4]\n",
      " [8]\n",
      " [7]\n",
      " [5]\n",
      " [6]\n",
      " [9]\n",
      " [5]\n",
      " [3]\n",
      " [6]\n",
      " [5]\n",
      " [2]\n",
      " [9]\n",
      " [2]\n",
      " [4]\n",
      " [6]\n",
      " [8]\n",
      " [4]\n",
      " [6]\n",
      " [0]\n",
      " [0]\n",
      " [2]\n",
      " [9]\n",
      " [2]\n",
      " [1]\n",
      " [5]\n",
      " [1]\n",
      " [2]\n",
      " [6]\n",
      " [0]\n",
      " [5]\n",
      " [2]\n",
      " [2]\n",
      " [3]\n",
      " [1]\n",
      " [9]\n",
      " [4]\n",
      " [2]\n",
      " [5]\n",
      " [1]\n",
      " [3]\n",
      " [8]\n",
      " [2]\n",
      " [1]\n",
      " [2]\n",
      " [7]\n",
      " [1]\n",
      " [7]\n",
      " [5]\n",
      " [4]\n",
      " [0]\n",
      " [8]\n",
      " [3]\n",
      " [8]\n",
      " [8]\n",
      " [8]\n",
      " [8]\n",
      " [9]\n",
      " [4]\n",
      " [7]\n",
      " [1]\n",
      " [8]\n",
      " [1]\n",
      " [8]\n",
      " [0]\n",
      " [8]\n",
      " [7]\n",
      " [1]\n",
      " [1]\n",
      " [8]\n",
      " [4]\n",
      " [5]\n",
      " [3]\n",
      " [6]\n",
      " [0]\n",
      " [8]\n",
      " [7]\n",
      " [2]]\n",
      "(1000, 1)\n"
     ]
    },
    {
     "data": {
      "application/vnd.jupyter.widget-view+json": {
       "model_id": "708b429453da42bf91ce725c274dd97a",
       "version_major": 2,
       "version_minor": 0
      },
      "text/plain": [
       "Episodes for: Lin SoftMax 100, 0.01, 0.01:   0%|          | 0/1000 [00:00<?, ?it/s]"
      ]
     },
     "metadata": {},
     "output_type": "display_data"
    },
    {
     "name": "stdout",
     "output_type": "stream",
     "text": [
      "[3.16504005 3.33406892 3.29398034 3.40706897 3.18043762 3.17397194\n",
      " 3.0708369  3.22905955 3.1491671  3.44983105]\n",
      "[[1]\n",
      " [7]\n",
      " [2]\n",
      " [5]\n",
      " [0]\n",
      " [9]\n",
      " [9]\n",
      " [0]\n",
      " [9]\n",
      " [0]\n",
      " [2]\n",
      " [6]\n",
      " [9]\n",
      " [8]\n",
      " [0]\n",
      " [5]\n",
      " [5]\n",
      " [4]\n",
      " [7]\n",
      " [1]\n",
      " [7]\n",
      " [0]\n",
      " [1]\n",
      " [0]\n",
      " [2]\n",
      " [6]\n",
      " [4]\n",
      " [8]\n",
      " [2]\n",
      " [7]\n",
      " [7]\n",
      " [3]\n",
      " [3]\n",
      " [9]\n",
      " [5]\n",
      " [9]\n",
      " [7]\n",
      " [8]\n",
      " [3]\n",
      " [3]\n",
      " [3]\n",
      " [9]\n",
      " [1]\n",
      " [9]\n",
      " [3]\n",
      " [3]\n",
      " [3]\n",
      " [3]\n",
      " [3]\n",
      " [0]\n",
      " [0]\n",
      " [7]\n",
      " [5]\n",
      " [0]\n",
      " [3]\n",
      " [2]\n",
      " [0]\n",
      " [4]\n",
      " [3]\n",
      " [0]\n",
      " [4]\n",
      " [7]\n",
      " [1]\n",
      " [2]\n",
      " [5]\n",
      " [4]\n",
      " [4]\n",
      " [3]\n",
      " [8]\n",
      " [5]\n",
      " [5]\n",
      " [3]\n",
      " [4]\n",
      " [8]\n",
      " [2]\n",
      " [9]\n",
      " [0]\n",
      " [5]\n",
      " [0]\n",
      " [6]\n",
      " [5]\n",
      " [8]\n",
      " [9]\n",
      " [3]\n",
      " [6]\n",
      " [9]\n",
      " [5]\n",
      " [3]\n",
      " [3]\n",
      " [3]\n",
      " [9]\n",
      " [3]\n",
      " [9]\n",
      " [8]\n",
      " [6]\n",
      " [0]\n",
      " [8]\n",
      " [9]\n",
      " [0]\n",
      " [5]\n",
      " [3]\n",
      " [5]\n",
      " [5]\n",
      " [5]\n",
      " [3]\n",
      " [0]\n",
      " [7]\n",
      " [8]\n",
      " [1]\n",
      " [2]\n",
      " [3]\n",
      " [3]\n",
      " [8]\n",
      " [2]\n",
      " [3]\n",
      " [6]\n",
      " [4]\n",
      " [3]\n",
      " [7]\n",
      " [1]\n",
      " [1]\n",
      " [3]\n",
      " [7]\n",
      " [2]\n",
      " [1]\n",
      " [9]\n",
      " [1]\n",
      " [5]\n",
      " [3]\n",
      " [5]\n",
      " [6]\n",
      " [0]\n",
      " [3]\n",
      " [3]\n",
      " [1]\n",
      " [0]\n",
      " [0]\n",
      " [5]\n",
      " [0]\n",
      " [3]\n",
      " [9]\n",
      " [8]\n",
      " [8]\n",
      " [1]\n",
      " [3]\n",
      " [2]\n",
      " [4]\n",
      " [4]\n",
      " [3]\n",
      " [7]\n",
      " [5]\n",
      " [6]\n",
      " [1]\n",
      " [7]\n",
      " [5]\n",
      " [3]\n",
      " [3]\n",
      " [9]\n",
      " [3]\n",
      " [3]\n",
      " [5]\n",
      " [5]\n",
      " [0]\n",
      " [4]\n",
      " [7]\n",
      " [9]\n",
      " [6]\n",
      " [1]\n",
      " [2]\n",
      " [3]\n",
      " [5]\n",
      " [0]\n",
      " [3]\n",
      " [3]\n",
      " [9]\n",
      " [9]\n",
      " [7]\n",
      " [4]\n",
      " [1]\n",
      " [9]\n",
      " [9]\n",
      " [8]\n",
      " [0]\n",
      " [7]\n",
      " [0]\n",
      " [8]\n",
      " [5]\n",
      " [9]\n",
      " [3]\n",
      " [5]\n",
      " [7]\n",
      " [2]\n",
      " [5]\n",
      " [8]\n",
      " [4]\n",
      " [3]\n",
      " [4]\n",
      " [9]\n",
      " [9]\n",
      " [6]\n",
      " [7]\n",
      " [9]\n",
      " [1]\n",
      " [0]\n",
      " [7]\n",
      " [5]\n",
      " [0]\n",
      " [4]\n",
      " [4]\n",
      " [3]\n",
      " [2]\n",
      " [1]\n",
      " [5]\n",
      " [1]\n",
      " [6]\n",
      " [8]\n",
      " [6]\n",
      " [2]\n",
      " [3]\n",
      " [4]\n",
      " [3]\n",
      " [4]\n",
      " [6]\n",
      " [3]\n",
      " [2]\n",
      " [7]\n",
      " [7]\n",
      " [0]\n",
      " [6]\n",
      " [1]\n",
      " [4]\n",
      " [3]\n",
      " [8]\n",
      " [0]\n",
      " [8]\n",
      " [3]\n",
      " [1]\n",
      " [3]\n",
      " [0]\n",
      " [7]\n",
      " [3]\n",
      " [3]\n",
      " [0]\n",
      " [1]\n",
      " [4]\n",
      " [1]\n",
      " [4]\n",
      " [9]\n",
      " [3]\n",
      " [1]\n",
      " [7]\n",
      " [6]\n",
      " [5]\n",
      " [1]\n",
      " [3]\n",
      " [4]\n",
      " [3]\n",
      " [2]\n",
      " [2]\n",
      " [1]\n",
      " [7]\n",
      " [1]\n",
      " [3]\n",
      " [3]\n",
      " [0]\n",
      " [1]\n",
      " [1]\n",
      " [7]\n",
      " [2]\n",
      " [7]\n",
      " [3]\n",
      " [6]\n",
      " [6]\n",
      " [2]\n",
      " [3]\n",
      " [6]\n",
      " [5]\n",
      " [5]\n",
      " [0]\n",
      " [8]\n",
      " [8]\n",
      " [1]\n",
      " [3]\n",
      " [8]\n",
      " [3]\n",
      " [3]\n",
      " [6]\n",
      " [1]\n",
      " [8]\n",
      " [0]\n",
      " [0]\n",
      " [3]\n",
      " [2]\n",
      " [4]\n",
      " [1]\n",
      " [5]\n",
      " [4]\n",
      " [8]\n",
      " [2]\n",
      " [1]\n",
      " [4]\n",
      " [2]\n",
      " [3]\n",
      " [1]\n",
      " [5]\n",
      " [8]\n",
      " [9]\n",
      " [9]\n",
      " [5]\n",
      " [4]\n",
      " [7]\n",
      " [6]\n",
      " [1]\n",
      " [3]\n",
      " [1]\n",
      " [4]\n",
      " [4]\n",
      " [3]\n",
      " [9]\n",
      " [8]\n",
      " [1]\n",
      " [5]\n",
      " [4]\n",
      " [8]\n",
      " [9]\n",
      " [8]\n",
      " [0]\n",
      " [8]\n",
      " [1]\n",
      " [3]\n",
      " [3]\n",
      " [8]\n",
      " [2]\n",
      " [1]\n",
      " [9]\n",
      " [0]\n",
      " [3]\n",
      " [3]\n",
      " [2]\n",
      " [2]\n",
      " [0]\n",
      " [7]\n",
      " [2]\n",
      " [5]\n",
      " [3]\n",
      " [0]\n",
      " [2]\n",
      " [8]\n",
      " [3]\n",
      " [0]\n",
      " [9]\n",
      " [6]\n",
      " [6]\n",
      " [9]\n",
      " [9]\n",
      " [8]\n",
      " [3]\n",
      " [2]\n",
      " [4]\n",
      " [7]\n",
      " [4]\n",
      " [3]\n",
      " [5]\n",
      " [5]\n",
      " [9]\n",
      " [5]\n",
      " [3]\n",
      " [9]\n",
      " [7]\n",
      " [3]\n",
      " [3]\n",
      " [9]\n",
      " [9]\n",
      " [0]\n",
      " [8]\n",
      " [3]\n",
      " [3]\n",
      " [3]\n",
      " [5]\n",
      " [1]\n",
      " [2]\n",
      " [2]\n",
      " [4]\n",
      " [0]\n",
      " [3]\n",
      " [7]\n",
      " [4]\n",
      " [9]\n",
      " [6]\n",
      " [1]\n",
      " [3]\n",
      " [4]\n",
      " [8]\n",
      " [9]\n",
      " [0]\n",
      " [8]\n",
      " [6]\n",
      " [4]\n",
      " [9]\n",
      " [3]\n",
      " [6]\n",
      " [8]\n",
      " [7]\n",
      " [4]\n",
      " [4]\n",
      " [8]\n",
      " [2]\n",
      " [6]\n",
      " [7]\n",
      " [1]\n",
      " [8]\n",
      " [1]\n",
      " [0]\n",
      " [3]\n",
      " [9]\n",
      " [9]\n",
      " [5]\n",
      " [7]\n",
      " [2]\n",
      " [5]\n",
      " [1]\n",
      " [2]\n",
      " [9]\n",
      " [8]\n",
      " [7]\n",
      " [4]\n",
      " [8]\n",
      " [1]\n",
      " [4]\n",
      " [5]\n",
      " [0]\n",
      " [7]\n",
      " [2]\n",
      " [9]\n",
      " [9]\n",
      " [7]\n",
      " [8]\n",
      " [3]\n",
      " [1]\n",
      " [3]\n",
      " [3]\n",
      " [9]\n",
      " [8]\n",
      " [8]\n",
      " [6]\n",
      " [7]\n",
      " [3]\n",
      " [8]\n",
      " [9]\n",
      " [3]\n",
      " [8]\n",
      " [6]\n",
      " [5]\n",
      " [4]\n",
      " [9]\n",
      " [3]\n",
      " [1]\n",
      " [0]\n",
      " [7]\n",
      " [4]\n",
      " [2]\n",
      " [3]\n",
      " [6]\n",
      " [7]\n",
      " [0]\n",
      " [5]\n",
      " [5]\n",
      " [7]\n",
      " [2]\n",
      " [1]\n",
      " [7]\n",
      " [3]\n",
      " [1]\n",
      " [3]\n",
      " [7]\n",
      " [3]\n",
      " [2]\n",
      " [7]\n",
      " [0]\n",
      " [0]\n",
      " [0]\n",
      " [7]\n",
      " [3]\n",
      " [2]\n",
      " [0]\n",
      " [2]\n",
      " [1]\n",
      " [8]\n",
      " [1]\n",
      " [7]\n",
      " [4]\n",
      " [0]\n",
      " [2]\n",
      " [3]\n",
      " [3]\n",
      " [3]\n",
      " [5]\n",
      " [0]\n",
      " [0]\n",
      " [4]\n",
      " [3]\n",
      " [6]\n",
      " [2]\n",
      " [6]\n",
      " [8]\n",
      " [3]\n",
      " [2]\n",
      " [7]\n",
      " [1]\n",
      " [4]\n",
      " [9]\n",
      " [3]\n",
      " [7]\n",
      " [3]\n",
      " [8]\n",
      " [7]\n",
      " [0]\n",
      " [8]\n",
      " [1]\n",
      " [8]\n",
      " [3]\n",
      " [0]\n",
      " [8]\n",
      " [5]\n",
      " [3]\n",
      " [8]\n",
      " [2]\n",
      " [3]\n",
      " [4]\n",
      " [5]\n",
      " [3]\n",
      " [7]\n",
      " [4]\n",
      " [6]\n",
      " [0]\n",
      " [8]\n",
      " [0]\n",
      " [6]\n",
      " [5]\n",
      " [2]\n",
      " [9]\n",
      " [8]\n",
      " [4]\n",
      " [9]\n",
      " [3]\n",
      " [3]\n",
      " [6]\n",
      " [2]\n",
      " [3]\n",
      " [6]\n",
      " [2]\n",
      " [3]\n",
      " [0]\n",
      " [9]\n",
      " [5]\n",
      " [1]\n",
      " [4]\n",
      " [0]\n",
      " [3]\n",
      " [8]\n",
      " [5]\n",
      " [3]\n",
      " [5]\n",
      " [9]\n",
      " [2]\n",
      " [8]\n",
      " [2]\n",
      " [5]\n",
      " [1]\n",
      " [4]\n",
      " [9]\n",
      " [3]\n",
      " [7]\n",
      " [4]\n",
      " [0]\n",
      " [4]\n",
      " [2]\n",
      " [9]\n",
      " [7]\n",
      " [8]\n",
      " [5]\n",
      " [9]\n",
      " [8]\n",
      " [3]\n",
      " [5]\n",
      " [3]\n",
      " [3]\n",
      " [0]\n",
      " [7]\n",
      " [3]\n",
      " [3]\n",
      " [3]\n",
      " [8]\n",
      " [2]\n",
      " [5]\n",
      " [2]\n",
      " [3]\n",
      " [7]\n",
      " [4]\n",
      " [3]\n",
      " [2]\n",
      " [0]\n",
      " [0]\n",
      " [8]\n",
      " [6]\n",
      " [7]\n",
      " [5]\n",
      " [0]\n",
      " [6]\n",
      " [1]\n",
      " [9]\n",
      " [9]\n",
      " [9]\n",
      " [3]\n",
      " [5]\n",
      " [0]\n",
      " [8]\n",
      " [7]\n",
      " [3]\n",
      " [4]\n",
      " [1]\n",
      " [5]\n",
      " [9]\n",
      " [2]\n",
      " [0]\n",
      " [0]\n",
      " [4]\n",
      " [8]\n",
      " [0]\n",
      " [4]\n",
      " [3]\n",
      " [6]\n",
      " [5]\n",
      " [5]\n",
      " [4]\n",
      " [4]\n",
      " [0]\n",
      " [3]\n",
      " [2]\n",
      " [3]\n",
      " [5]\n",
      " [7]\n",
      " [6]\n",
      " [2]\n",
      " [8]\n",
      " [4]\n",
      " [1]\n",
      " [5]\n",
      " [8]\n",
      " [5]\n",
      " [8]\n",
      " [8]\n",
      " [8]\n",
      " [0]\n",
      " [3]\n",
      " [2]\n",
      " [9]\n",
      " [6]\n",
      " [8]\n",
      " [4]\n",
      " [2]\n",
      " [1]\n",
      " [3]\n",
      " [5]\n",
      " [6]\n",
      " [9]\n",
      " [0]\n",
      " [3]\n",
      " [9]\n",
      " [4]\n",
      " [6]\n",
      " [8]\n",
      " [4]\n",
      " [8]\n",
      " [2]\n",
      " [6]\n",
      " [3]\n",
      " [7]\n",
      " [3]\n",
      " [6]\n",
      " [8]\n",
      " [8]\n",
      " [2]\n",
      " [9]\n",
      " [0]\n",
      " [3]\n",
      " [3]\n",
      " [9]\n",
      " [4]\n",
      " [7]\n",
      " [3]\n",
      " [1]\n",
      " [0]\n",
      " [1]\n",
      " [3]\n",
      " [7]\n",
      " [3]\n",
      " [6]\n",
      " [5]\n",
      " [3]\n",
      " [4]\n",
      " [4]\n",
      " [1]\n",
      " [4]\n",
      " [9]\n",
      " [5]\n",
      " [8]\n",
      " [9]\n",
      " [0]\n",
      " [6]\n",
      " [3]\n",
      " [8]\n",
      " [5]\n",
      " [3]\n",
      " [1]\n",
      " [0]\n",
      " [6]\n",
      " [9]\n",
      " [3]\n",
      " [2]\n",
      " [0]\n",
      " [7]\n",
      " [1]\n",
      " [4]\n",
      " [4]\n",
      " [2]\n",
      " [8]\n",
      " [3]\n",
      " [3]\n",
      " [7]\n",
      " [7]\n",
      " [3]\n",
      " [2]\n",
      " [7]\n",
      " [4]\n",
      " [6]\n",
      " [9]\n",
      " [7]\n",
      " [1]\n",
      " [3]\n",
      " [8]\n",
      " [2]\n",
      " [7]\n",
      " [4]\n",
      " [2]\n",
      " [6]\n",
      " [0]\n",
      " [2]\n",
      " [2]\n",
      " [2]\n",
      " [2]\n",
      " [2]\n",
      " [9]\n",
      " [3]\n",
      " [3]\n",
      " [7]\n",
      " [3]\n",
      " [4]\n",
      " [8]\n",
      " [1]\n",
      " [4]\n",
      " [0]\n",
      " [2]\n",
      " [2]\n",
      " [3]\n",
      " [3]\n",
      " [3]\n",
      " [9]\n",
      " [5]\n",
      " [3]\n",
      " [4]\n",
      " [9]\n",
      " [7]\n",
      " [3]\n",
      " [1]\n",
      " [0]\n",
      " [0]\n",
      " [8]\n",
      " [1]\n",
      " [7]\n",
      " [9]\n",
      " [5]\n",
      " [8]\n",
      " [8]\n",
      " [9]\n",
      " [7]\n",
      " [3]\n",
      " [3]\n",
      " [4]\n",
      " [3]\n",
      " [9]\n",
      " [0]\n",
      " [1]\n",
      " [3]\n",
      " [4]\n",
      " [5]\n",
      " [8]\n",
      " [3]\n",
      " [7]\n",
      " [3]\n",
      " [3]\n",
      " [8]\n",
      " [1]\n",
      " [9]\n",
      " [6]\n",
      " [4]\n",
      " [3]\n",
      " [6]\n",
      " [8]\n",
      " [6]\n",
      " [8]\n",
      " [5]\n",
      " [3]\n",
      " [3]\n",
      " [3]\n",
      " [6]\n",
      " [9]\n",
      " [8]\n",
      " [2]\n",
      " [4]\n",
      " [8]\n",
      " [9]\n",
      " [9]\n",
      " [0]\n",
      " [2]\n",
      " [7]\n",
      " [0]\n",
      " [6]\n",
      " [0]\n",
      " [1]\n",
      " [6]\n",
      " [9]\n",
      " [0]\n",
      " [0]\n",
      " [4]\n",
      " [4]\n",
      " [8]\n",
      " [8]\n",
      " [7]\n",
      " [6]\n",
      " [7]\n",
      " [8]\n",
      " [7]\n",
      " [2]\n",
      " [4]\n",
      " [3]\n",
      " [5]\n",
      " [9]\n",
      " [7]\n",
      " [9]\n",
      " [3]\n",
      " [5]\n",
      " [1]\n",
      " [0]\n",
      " [6]\n",
      " [1]\n",
      " [8]\n",
      " [3]\n",
      " [1]\n",
      " [9]\n",
      " [1]\n",
      " [8]\n",
      " [1]\n",
      " [3]\n",
      " [8]\n",
      " [8]\n",
      " [6]\n",
      " [9]\n",
      " [7]\n",
      " [7]\n",
      " [3]\n",
      " [5]\n",
      " [9]\n",
      " [1]\n",
      " [7]\n",
      " [3]\n",
      " [4]\n",
      " [0]\n",
      " [5]\n",
      " [8]\n",
      " [4]\n",
      " [9]\n",
      " [5]\n",
      " [3]\n",
      " [6]\n",
      " [8]\n",
      " [7]\n",
      " [0]\n",
      " [3]\n",
      " [8]\n",
      " [8]\n",
      " [0]\n",
      " [1]\n",
      " [3]\n",
      " [1]\n",
      " [5]\n",
      " [8]\n",
      " [0]\n",
      " [8]\n",
      " [0]\n",
      " [7]\n",
      " [3]\n",
      " [3]\n",
      " [3]\n",
      " [3]\n",
      " [8]\n",
      " [3]\n",
      " [6]\n",
      " [7]\n",
      " [3]\n",
      " [4]\n",
      " [1]\n",
      " [7]\n",
      " [3]\n",
      " [4]\n",
      " [1]\n",
      " [6]\n",
      " [6]\n",
      " [8]\n",
      " [5]\n",
      " [9]\n",
      " [9]\n",
      " [6]\n",
      " [3]\n",
      " [7]\n",
      " [6]\n",
      " [4]\n",
      " [6]\n",
      " [8]\n",
      " [4]\n",
      " [3]\n",
      " [5]\n",
      " [5]\n",
      " [3]\n",
      " [8]\n",
      " [2]\n",
      " [4]\n",
      " [6]\n",
      " [8]\n",
      " [4]\n",
      " [5]\n",
      " [0]\n",
      " [0]\n",
      " [2]\n",
      " [9]\n",
      " [2]\n",
      " [1]\n",
      " [5]\n",
      " [1]\n",
      " [2]\n",
      " [6]\n",
      " [0]\n",
      " [5]\n",
      " [2]\n",
      " [2]\n",
      " [3]\n",
      " [1]\n",
      " [9]\n",
      " [3]\n",
      " [2]\n",
      " [5]\n",
      " [1]\n",
      " [3]\n",
      " [8]\n",
      " [3]\n",
      " [1]\n",
      " [2]\n",
      " [7]\n",
      " [1]\n",
      " [7]\n",
      " [4]\n",
      " [3]\n",
      " [0]\n",
      " [8]\n",
      " [3]\n",
      " [8]\n",
      " [8]\n",
      " [7]\n",
      " [8]\n",
      " [9]\n",
      " [3]\n",
      " [7]\n",
      " [1]\n",
      " [8]\n",
      " [1]\n",
      " [8]\n",
      " [0]\n",
      " [8]\n",
      " [7]\n",
      " [1]\n",
      " [1]\n",
      " [7]\n",
      " [4]\n",
      " [4]\n",
      " [3]\n",
      " [6]\n",
      " [0]\n",
      " [8]\n",
      " [7]\n",
      " [2]]\n",
      "(1000, 1)\n"
     ]
    },
    {
     "data": {
      "application/vnd.jupyter.widget-view+json": {
       "model_id": "28c3226e2a6b46b38aa40c3c043b91f5",
       "version_major": 2,
       "version_minor": 0
      },
      "text/plain": [
       "Episodes for: UCB 0.2:   0%|          | 0/1000 [00:00<?, ?it/s]"
      ]
     },
     "metadata": {},
     "output_type": "display_data"
    },
    {
     "name": "stdout",
     "output_type": "stream",
     "text": [
      "[3.16504005 3.33406892 3.29398034 3.40706897 3.18043762 3.17397194\n",
      " 3.0708369  3.22905955 3.1491671  3.44983105]\n",
      "[0]\n",
      "(1,)\n"
     ]
    },
    {
     "ename": "AxisError",
     "evalue": "axis 1 is out of bounds for array of dimension 1",
     "output_type": "error",
     "traceback": [
      "\u001b[31m---------------------------------------------------------------------------\u001b[39m",
      "\u001b[31mAxisError\u001b[39m                                 Traceback (most recent call last)",
      "\u001b[36mCell\u001b[39m\u001b[36m \u001b[39m\u001b[32mIn[38]\u001b[39m\u001b[32m, line 87\u001b[39m\n\u001b[32m     84\u001b[39m                 results[name][\u001b[33m'\u001b[39m\u001b[33mepisode_mean_rew\u001b[39m\u001b[33m'\u001b[39m].append(episode_mean_rew)\n\u001b[32m     85\u001b[39m     \u001b[38;5;28;01mreturn\u001b[39;00m results\n\u001b[32m---> \u001b[39m\u001b[32m87\u001b[39m b2_results_a = \u001b[43mb2_run_advanced_strategies_experiment\u001b[49m\u001b[43m(\u001b[49m\u001b[43m)\u001b[49m\n",
      "\u001b[36mCell\u001b[39m\u001b[36m \u001b[39m\u001b[32mIn[38]\u001b[39m\u001b[32m, line 64\u001b[39m, in \u001b[36mb2_run_advanced_strategies_experiment\u001b[39m\u001b[34m(env_name)\u001b[39m\n\u001b[32m     62\u001b[39m \u001b[38;5;28mprint\u001b[39m(Ae)\n\u001b[32m     63\u001b[39m \u001b[38;5;28mprint\u001b[39m(Ae.shape)\n\u001b[32m---> \u001b[39m\u001b[32m64\u001b[39m Q_selected = \u001b[43mnp\u001b[49m\u001b[43m.\u001b[49m\u001b[43mtake_along_axis\u001b[49m\u001b[43m(\u001b[49m\n\u001b[32m     65\u001b[39m \u001b[43m    \u001b[49m\u001b[43mnp\u001b[49m\u001b[43m.\u001b[49m\u001b[43mtile\u001b[49m\u001b[43m(\u001b[49m\u001b[43mtrue_Q\u001b[49m\u001b[43m,\u001b[49m\u001b[43m \u001b[49m\u001b[43mAe\u001b[49m\u001b[43m.\u001b[49m\u001b[43mshape\u001b[49m\u001b[43m)\u001b[49m\u001b[43m,\u001b[49m\u001b[43m \u001b[49m\u001b[43mAe\u001b[49m\u001b[43m,\u001b[49m\u001b[43m \u001b[49m\u001b[43maxis\u001b[49m\u001b[43m=\u001b[49m\u001b[32;43m1\u001b[39;49m\n\u001b[32m     66\u001b[39m \u001b[43m\u001b[49m\u001b[43m)\u001b[49m.squeeze() \n\u001b[32m     68\u001b[39m regret = opt_V - Q_selected\n\u001b[32m     69\u001b[39m cum_regret = np.cumsum(regret)\n",
      "\u001b[36mFile \u001b[39m\u001b[32m~/miniconda3/envs/torch/lib/python3.12/site-packages/numpy/lib/_shape_base_impl.py:173\u001b[39m, in \u001b[36mtake_along_axis\u001b[39m\u001b[34m(arr, indices, axis)\u001b[39m\n\u001b[32m    171\u001b[39m     axis = \u001b[32m0\u001b[39m\n\u001b[32m    172\u001b[39m \u001b[38;5;28;01melse\u001b[39;00m:\n\u001b[32m--> \u001b[39m\u001b[32m173\u001b[39m     axis = \u001b[43mnormalize_axis_index\u001b[49m\u001b[43m(\u001b[49m\u001b[43maxis\u001b[49m\u001b[43m,\u001b[49m\u001b[43m \u001b[49m\u001b[43marr\u001b[49m\u001b[43m.\u001b[49m\u001b[43mndim\u001b[49m\u001b[43m)\u001b[49m\n\u001b[32m    174\u001b[39m     arr_shape = arr.shape\n\u001b[32m    176\u001b[39m \u001b[38;5;66;03m# use the fancy index\u001b[39;00m\n",
      "\u001b[31mAxisError\u001b[39m: axis 1 is out of bounds for array of dimension 1"
     ]
    }
   ],
   "source": [
    "def b2_run_advanced_strategies_experiment(env_name='Bandit-v0'):\n",
    "    results = {}\n",
    "    experiments = [\n",
    "        # baseline strategies \n",
    "        lambda env: pure_exploitation(env),\n",
    "        lambda env: pure_exploration(env),\n",
    "\n",
    "        # best from simple strategies\n",
    "        lambda env: optimistic_initialization(\n",
    "            env, optimistic_estimate=1.0, initial_count=10),\n",
    "        lambda env: exp_dec_epsilon_greedy(\n",
    "            env, init_epsilon=0.3, min_epsilon=0.0, decay_ratio=0.3),\n",
    "\n",
    "        # softmax\n",
    "        lambda env: softmax(\n",
    "            env, init_temp=float('inf'), min_temp=0.0, decay_ratio=0.005),\n",
    "        lambda env: softmax(env, init_temp=100, min_temp=0.01, decay_ratio=0.01),\n",
    "\n",
    "        # ucb\n",
    "        lambda env: upper_confidence_bound(env, c=0.2),\n",
    "        lambda env: upper_confidence_bound(env, c=0.5),\n",
    "\n",
    "        # thompson sampling\n",
    "        lambda env: thompson_sampling(env, alpha=1, beta=1),\n",
    "        lambda env: thompson_sampling(env, alpha=0.5, beta=0.5),\n",
    "    ]\n",
    "    \n",
    "        \n",
    "    \n",
    "    for env_seed in tqdm(SEEDS, desc='All experiments'):\n",
    "        env = gym.make(env_name, seed=env_seed) ; env.reset()\n",
    "\n",
    "        # For the new gymnasium API, we need to access the true Q-values differently\n",
    "        # We'll use a simple approach to estimate the true Q-values by sampling\n",
    "        # This is a workaround since we don't have direct access to p_dist and r_dist\n",
    "        \n",
    "        # Sample each action multiple times to estimate Q-values\n",
    "        n_samples = 1000\n",
    "        rewards = np.zeros((env.action_space.n, n_samples))\n",
    "        \n",
    "        for action in range(env.action_space.n):\n",
    "            for i in range(n_samples):\n",
    "                env.reset()\n",
    "                _, reward, _, _, _ = env.step(action)\n",
    "                rewards[action, i] = reward\n",
    "\n",
    "        # Estimate true Q-values as the mean reward for each action\n",
    "        true_Q = np.mean(rewards, axis=1)\n",
    "        opt_V = np.max(true_Q)\n",
    "        \n",
    "        for seed in tqdm(SEEDS, desc='All environments', leave=False):\n",
    "            for experiment in tqdm(\n",
    "                experiments, \n",
    "                desc='Experiments with seed {}'.format(seed), \n",
    "                leave=False):\n",
    "                np.random.seed(seed) ; random.seed(seed)\n",
    "                name, Re, Qe, Ae = experiment(env)\n",
    "                Ae = np.expand_dims(Ae, -1)\n",
    "                episode_mean_rew = np.cumsum(Re) / (np.arange(len(Re)) + 1)\n",
    "                \n",
    "                Q_selected = np.take_along_axis(\n",
    "                    np.tile(true_Q, Ae.shape), Ae, axis=1\n",
    "                ).squeeze() \n",
    "                \n",
    "                regret = opt_V - Q_selected\n",
    "                cum_regret = np.cumsum(regret)\n",
    "                \n",
    "                if name not in results.keys(): results[name] = {}\n",
    "                if 'Re' not in results[name].keys(): results[name]['Re'] = []\n",
    "                if 'Qe' not in results[name].keys(): results[name]['Qe'] = []\n",
    "                if 'Ae' not in results[name].keys(): results[name]['Ae'] = []\n",
    "                if 'cum_regret' not in results[name].keys(): \n",
    "                    results[name]['cum_regret'] = []\n",
    "                if 'episode_mean_rew' not in results[name].keys(): \n",
    "                    results[name]['episode_mean_rew'] = []\n",
    "                \n",
    "                results[name]['Re'].append(Re)\n",
    "                results[name]['Qe'].append(Qe)\n",
    "                results[name]['Ae'].append(Ae)\n",
    "                results[name]['cum_regret'].append(cum_regret)\n",
    "                results[name]['episode_mean_rew'].append(episode_mean_rew)\n",
    "    return results\n",
    "\n",
    "b2_results_a = b2_run_advanced_strategies_experiment()"
   ]
  },
  {
   "cell_type": "markdown",
   "metadata": {},
   "source": [
    "# Plotting results of advanced strategies on Two-Armed Bandit  environments"
   ]
  },
  {
   "cell_type": "code",
   "execution_count": null,
   "metadata": {},
   "outputs": [],
   "source": []
  },
  {
   "cell_type": "markdown",
   "metadata": {},
   "source": [
    "# 10-Armed Gaussian Bandit environments"
   ]
  },
  {
   "cell_type": "code",
   "execution_count": null,
   "metadata": {},
   "outputs": [],
   "source": []
  },
  {
   "cell_type": "markdown",
   "metadata": {},
   "source": [
    "# Running simple strategies on 10-Armed Bandit environments"
   ]
  },
  {
   "cell_type": "code",
   "execution_count": null,
   "metadata": {},
   "outputs": [],
   "source": []
  },
  {
   "cell_type": "markdown",
   "metadata": {},
   "source": [
    "# Plotting results of simple strategies on 10-Armed Bandit environments"
   ]
  },
  {
   "cell_type": "code",
   "execution_count": null,
   "metadata": {},
   "outputs": [],
   "source": []
  },
  {
   "cell_type": "markdown",
   "metadata": {},
   "source": [
    "# Running advanced strategies on 10-Armed Bandit environments"
   ]
  },
  {
   "cell_type": "code",
   "execution_count": null,
   "metadata": {},
   "outputs": [],
   "source": []
  },
  {
   "cell_type": "markdown",
   "metadata": {},
   "source": [
    "# Plotting results of advanced strategies on 10-Armed Bandit environments"
   ]
  },
  {
   "cell_type": "code",
   "execution_count": null,
   "metadata": {},
   "outputs": [],
   "source": []
  }
 ],
 "metadata": {
  "kernelspec": {
   "display_name": "torch",
   "language": "python",
   "name": "python3"
  },
  "language_info": {
   "codemirror_mode": {
    "name": "ipython",
    "version": 3
   },
   "file_extension": ".py",
   "mimetype": "text/x-python",
   "name": "python",
   "nbconvert_exporter": "python",
   "pygments_lexer": "ipython3",
   "version": "3.12.0"
  }
 },
 "nbformat": 4,
 "nbformat_minor": 2
}
